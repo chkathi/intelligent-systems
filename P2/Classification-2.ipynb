{
  "nbformat": 4,
  "nbformat_minor": 0,
  "metadata": {
    "colab": {
      "provenance": [],
      "gpuType": "T4"
    },
    "kernelspec": {
      "name": "python3",
      "display_name": "Python 3"
    },
    "language_info": {
      "name": "python"
    },
    "accelerator": "GPU"
  },
  "cells": [
    {
      "cell_type": "code",
      "source": [
        "from google.colab import drive\n",
        "drive.mount('/content/drive')"
      ],
      "metadata": {
        "id": "boMqKL3Rq9KA",
        "colab": {
          "base_uri": "https://localhost:8080/"
        },
        "outputId": "d1573f40-2f57-4d52-be68-2004d312df21"
      },
      "execution_count": null,
      "outputs": [
        {
          "output_type": "stream",
          "name": "stdout",
          "text": [
            "Mounted at /content/drive\n"
          ]
        }
      ]
    },
    {
      "cell_type": "code",
      "source": [
        "import tensorflow as tf\n",
        "\n",
        "tf.test.gpu_device_name()\n"
      ],
      "metadata": {
        "colab": {
          "base_uri": "https://localhost:8080/",
          "height": 34
        },
        "id": "SZPuND7ogT4F",
        "outputId": "6e9a1d4d-6dff-4421-c6b2-7e8e89eb6891"
      },
      "execution_count": 1,
      "outputs": [
        {
          "output_type": "execute_result",
          "data": {
            "text/plain": [
              "'/device:GPU:0'"
            ],
            "application/vnd.google.colaboratory.intrinsic+json": {
              "type": "string"
            }
          },
          "metadata": {},
          "execution_count": 1
        }
      ]
    },
    {
      "cell_type": "markdown",
      "source": [
        "# Data Preprocessing"
      ],
      "metadata": {
        "id": "Tm6f7suEpQaS"
      }
    },
    {
      "cell_type": "markdown",
      "source": [
        "## Import Statements and Tensorflow functions\n",
        "\n"
      ],
      "metadata": {
        "id": "LDeQC35T-U4T"
      }
    },
    {
      "cell_type": "code",
      "execution_count": 5,
      "metadata": {
        "id": "mEA0evKk534T"
      },
      "outputs": [],
      "source": [
        "from collections.abc import Sequence\n",
        "from sklearn import preprocessing\n",
        "import matplotlib.pyplot as plt\n",
        "import numpy as np\n",
        "import pandas as pd\n",
        "import os\n",
        "from sklearn.model_selection import train_test_split\n",
        "from sklearn import metrics\n",
        "from tensorflow.keras.models import Sequential\n",
        "from tensorflow.keras.layers import Dense, Activation, Dropout, Conv2D,MaxPooling2D, Flatten\n",
        "from tensorflow.keras.callbacks import EarlyStopping\n",
        "from tensorflow.keras.callbacks import ModelCheckpoint\n",
        "\n",
        "from sklearn import svm, datasets\n",
        "from sklearn.metrics import confusion_matrix, classification_report"
      ]
    },
    {
      "cell_type": "code",
      "source": [
        "# Encode text values to dummy variables(i.e. [1,0,0],[0,1,0],[0,0,1] for red,green,blue)\n",
        "def encode_text_dummy(df, name):\n",
        "    dummies = pd.get_dummies(df[name])\n",
        "    for x in dummies.columns:\n",
        "        dummy_name = \"{}-{}\".format(name, x)\n",
        "        df[dummy_name] = dummies[x]\n",
        "    df.drop(name, axis=1, inplace=True)\n",
        "\n",
        "\n",
        "# Encode text values to indexes(i.e. [1],[2],[3] for red,green,blue).\n",
        "def encode_text_index(df, name):\n",
        "    le = preprocessing.LabelEncoder()\n",
        "    df[name] = le.fit_transform(df[name])\n",
        "    return le.classes_\n",
        "\n",
        "\n",
        "# Encode a numeric column as zscores\n",
        "def encode_numeric_zscore(df, name, mean=None, sd=None):\n",
        "    if mean is None:\n",
        "        mean = df[name].mean()\n",
        "\n",
        "    if sd is None:\n",
        "        sd = df[name].std()\n",
        "\n",
        "    df[name] = (df[name] - mean) / sd\n",
        "\n",
        "\n",
        "# Convert all missing values in the specified column to the median\n",
        "def missing_median(df, name):\n",
        "    med = df[name].median()\n",
        "    df[name] = df[name].fillna(med)\n",
        "\n",
        "\n",
        "# Convert all missing values in the specified column to the default\n",
        "def missing_default(df, name, default_value):\n",
        "    df[name] = df[name].fillna(default_value)\n",
        "\n",
        "\n",
        "# Convert a Pandas dataframe to the x,y inputs that TensorFlow needs\n",
        "def to_xy(df, target):\n",
        "    result = []\n",
        "    for x in df.columns:\n",
        "        if x != target:\n",
        "            result.append(x)\n",
        "    # find out the type of the target column.\n",
        "    target_type = df[target].dtypes\n",
        "    target_type = target_type[0] if isinstance(target_type, Sequence) else target_type\n",
        "    # Encode to int for classification, float otherwise. TensorFlow likes 32 bits.\n",
        "    if target_type in (np.int64, np.int32):\n",
        "        # Classification\n",
        "        dummies = pd.get_dummies(df[target])\n",
        "        return df[result].values.astype(np.float32), dummies.values.astype(np.float32)\n",
        "    else:\n",
        "        # Regression\n",
        "        return df[result].values.astype(np.float32), df[target].values.astype(np.float32)\n",
        "\n",
        "# Nicely formatted time string\n",
        "def hms_string(sec_elapsed):\n",
        "    h = int(sec_elapsed / (60 * 60))\n",
        "    m = int((sec_elapsed % (60 * 60)) / 60)\n",
        "    s = sec_elapsed % 60\n",
        "    return \"{}:{:>02}:{:>05.2f}\".format(h, m, s)\n",
        "\n",
        "\n",
        "# Regression chart.\n",
        "def chart_regression(pred,y,sort=True):\n",
        "    t = pd.DataFrame({'pred' : pred, 'y' : y.flatten()})\n",
        "    if sort:\n",
        "        t.sort_values(by=['y'],inplace=True)\n",
        "    a = plt.plot(t['y'].tolist(),label='expected')\n",
        "    b = plt.plot(t['pred'].tolist(),label='prediction')\n",
        "    plt.ylabel('output')\n",
        "    plt.legend()\n",
        "    plt.show()\n",
        "\n",
        "# Remove all rows where the specified column is +/- sd standard deviations\n",
        "def remove_outliers(df, name, sd):\n",
        "    drop_rows = df.index[(np.abs(df[name] - df[name].mean()) >= (sd * df[name].std()))]\n",
        "    df.drop(drop_rows, axis=0, inplace=True)\n",
        "\n",
        "\n",
        "# Encode a column to a range between normalized_low and normalized_high.\n",
        "def encode_numeric_range(df, name, normalized_low=-1, normalized_high=1,\n",
        "                         data_low=None, data_high=None):\n",
        "    if data_low is None:\n",
        "        data_low = min(df[name])\n",
        "        data_high = max(df[name])\n",
        "\n",
        "    df[name] = ((df[name] - data_low) / (data_high - data_low)) \\\n",
        "               * (normalized_high - normalized_low) + normalized_low\n"
      ],
      "metadata": {
        "id": "slwkiJvH-iFQ"
      },
      "execution_count": 6,
      "outputs": []
    },
    {
      "cell_type": "markdown",
      "source": [
        "## Import and view data"
      ],
      "metadata": {
        "id": "wJ7cIh3B-cRJ"
      }
    },
    {
      "cell_type": "code",
      "source": [
        "# test_path = '/content/drive/MyDrive/CS/intelligent-systems/p2/UNSW_NB15_test-set.csv'\n",
        "# train_path = '/content/drive/MyDrive/CS/intelligent-systems/p2/UNSW_NB15_training-set.csv'\n",
        "\n",
        "test_path2 = './UNSW_NB15_test-set.csv'\n",
        "train_path2 = './UNSW_NB15_training-set.csv'"
      ],
      "metadata": {
        "id": "YW8GgGUV7gtP"
      },
      "execution_count": 7,
      "outputs": []
    },
    {
      "cell_type": "code",
      "source": [
        "# test = pd.read_csv(test_path)\n",
        "# train = pd.read_csv(train_path)\n",
        "\n",
        "test = pd.read_csv(test_path2)\n",
        "train = pd.read_csv(train_path2)"
      ],
      "metadata": {
        "id": "uEsxPu_f7NI0"
      },
      "execution_count": 8,
      "outputs": []
    },
    {
      "cell_type": "code",
      "source": [
        "print(\"test shape: \", test.shape)\n",
        "print(\"train shape: \", train.shape)"
      ],
      "metadata": {
        "colab": {
          "base_uri": "https://localhost:8080/"
        },
        "id": "4PMU3_mq8O4e",
        "outputId": "e0d8c106-d7ec-4b15-f63f-35a881a68c8c"
      },
      "execution_count": 9,
      "outputs": [
        {
          "output_type": "stream",
          "name": "stdout",
          "text": [
            "test shape:  (82332, 45)\n",
            "train shape:  (175341, 45)\n"
          ]
        }
      ]
    },
    {
      "cell_type": "code",
      "source": [
        "train.head().iloc[:, :20]"
      ],
      "metadata": {
        "colab": {
          "base_uri": "https://localhost:8080/",
          "height": 221
        },
        "id": "ywOOGnCzjZ8S",
        "outputId": "91c8cabd-dd30-46d3-b22b-0951c8e22946"
      },
      "execution_count": 10,
      "outputs": [
        {
          "output_type": "execute_result",
          "data": {
            "text/plain": [
              "   id       dur proto service state  spkts  dpkts  sbytes  dbytes       rate  \\\n",
              "0   1  0.121478   tcp       -   FIN      6      4     258     172  74.087490   \n",
              "1   2  0.649902   tcp       -   FIN     14     38     734   42014  78.473372   \n",
              "2   3  1.623129   tcp       -   FIN      8     16     364   13186  14.170161   \n",
              "3   4  1.681642   tcp     ftp   FIN     12     12     628     770  13.677108   \n",
              "4   5  0.449454   tcp       -   FIN     10      6     534     268  33.373826   \n",
              "\n",
              "   sttl  dttl         sload          dload  sloss  dloss      sinpkt  \\\n",
              "0   252   254  14158.942380    8495.365234      0      0   24.295600   \n",
              "1    62   252   8395.112305  503571.312500      2     17   49.915000   \n",
              "2    62   252   1572.271851   60929.230470      1      6  231.875571   \n",
              "3    62   252   2740.178955    3358.622070      1      3  152.876547   \n",
              "4   254   252   8561.499023    3987.059814      2      1   47.750333   \n",
              "\n",
              "       dinpkt          sjit          djit  \n",
              "0    8.375000     30.177547     11.830604  \n",
              "1   15.432865     61.426934   1387.778330  \n",
              "2  102.737203  17179.586860  11420.926230  \n",
              "3   90.235726    259.080172   4991.784669  \n",
              "4   75.659602   2415.837634    115.807000  "
            ],
            "text/html": [
              "\n",
              "  <div id=\"df-6e2f9269-8f5d-413d-8b79-15e5250a7031\" class=\"colab-df-container\">\n",
              "    <div>\n",
              "<style scoped>\n",
              "    .dataframe tbody tr th:only-of-type {\n",
              "        vertical-align: middle;\n",
              "    }\n",
              "\n",
              "    .dataframe tbody tr th {\n",
              "        vertical-align: top;\n",
              "    }\n",
              "\n",
              "    .dataframe thead th {\n",
              "        text-align: right;\n",
              "    }\n",
              "</style>\n",
              "<table border=\"1\" class=\"dataframe\">\n",
              "  <thead>\n",
              "    <tr style=\"text-align: right;\">\n",
              "      <th></th>\n",
              "      <th>id</th>\n",
              "      <th>dur</th>\n",
              "      <th>proto</th>\n",
              "      <th>service</th>\n",
              "      <th>state</th>\n",
              "      <th>spkts</th>\n",
              "      <th>dpkts</th>\n",
              "      <th>sbytes</th>\n",
              "      <th>dbytes</th>\n",
              "      <th>rate</th>\n",
              "      <th>sttl</th>\n",
              "      <th>dttl</th>\n",
              "      <th>sload</th>\n",
              "      <th>dload</th>\n",
              "      <th>sloss</th>\n",
              "      <th>dloss</th>\n",
              "      <th>sinpkt</th>\n",
              "      <th>dinpkt</th>\n",
              "      <th>sjit</th>\n",
              "      <th>djit</th>\n",
              "    </tr>\n",
              "  </thead>\n",
              "  <tbody>\n",
              "    <tr>\n",
              "      <th>0</th>\n",
              "      <td>1</td>\n",
              "      <td>0.121478</td>\n",
              "      <td>tcp</td>\n",
              "      <td>-</td>\n",
              "      <td>FIN</td>\n",
              "      <td>6</td>\n",
              "      <td>4</td>\n",
              "      <td>258</td>\n",
              "      <td>172</td>\n",
              "      <td>74.087490</td>\n",
              "      <td>252</td>\n",
              "      <td>254</td>\n",
              "      <td>14158.942380</td>\n",
              "      <td>8495.365234</td>\n",
              "      <td>0</td>\n",
              "      <td>0</td>\n",
              "      <td>24.295600</td>\n",
              "      <td>8.375000</td>\n",
              "      <td>30.177547</td>\n",
              "      <td>11.830604</td>\n",
              "    </tr>\n",
              "    <tr>\n",
              "      <th>1</th>\n",
              "      <td>2</td>\n",
              "      <td>0.649902</td>\n",
              "      <td>tcp</td>\n",
              "      <td>-</td>\n",
              "      <td>FIN</td>\n",
              "      <td>14</td>\n",
              "      <td>38</td>\n",
              "      <td>734</td>\n",
              "      <td>42014</td>\n",
              "      <td>78.473372</td>\n",
              "      <td>62</td>\n",
              "      <td>252</td>\n",
              "      <td>8395.112305</td>\n",
              "      <td>503571.312500</td>\n",
              "      <td>2</td>\n",
              "      <td>17</td>\n",
              "      <td>49.915000</td>\n",
              "      <td>15.432865</td>\n",
              "      <td>61.426934</td>\n",
              "      <td>1387.778330</td>\n",
              "    </tr>\n",
              "    <tr>\n",
              "      <th>2</th>\n",
              "      <td>3</td>\n",
              "      <td>1.623129</td>\n",
              "      <td>tcp</td>\n",
              "      <td>-</td>\n",
              "      <td>FIN</td>\n",
              "      <td>8</td>\n",
              "      <td>16</td>\n",
              "      <td>364</td>\n",
              "      <td>13186</td>\n",
              "      <td>14.170161</td>\n",
              "      <td>62</td>\n",
              "      <td>252</td>\n",
              "      <td>1572.271851</td>\n",
              "      <td>60929.230470</td>\n",
              "      <td>1</td>\n",
              "      <td>6</td>\n",
              "      <td>231.875571</td>\n",
              "      <td>102.737203</td>\n",
              "      <td>17179.586860</td>\n",
              "      <td>11420.926230</td>\n",
              "    </tr>\n",
              "    <tr>\n",
              "      <th>3</th>\n",
              "      <td>4</td>\n",
              "      <td>1.681642</td>\n",
              "      <td>tcp</td>\n",
              "      <td>ftp</td>\n",
              "      <td>FIN</td>\n",
              "      <td>12</td>\n",
              "      <td>12</td>\n",
              "      <td>628</td>\n",
              "      <td>770</td>\n",
              "      <td>13.677108</td>\n",
              "      <td>62</td>\n",
              "      <td>252</td>\n",
              "      <td>2740.178955</td>\n",
              "      <td>3358.622070</td>\n",
              "      <td>1</td>\n",
              "      <td>3</td>\n",
              "      <td>152.876547</td>\n",
              "      <td>90.235726</td>\n",
              "      <td>259.080172</td>\n",
              "      <td>4991.784669</td>\n",
              "    </tr>\n",
              "    <tr>\n",
              "      <th>4</th>\n",
              "      <td>5</td>\n",
              "      <td>0.449454</td>\n",
              "      <td>tcp</td>\n",
              "      <td>-</td>\n",
              "      <td>FIN</td>\n",
              "      <td>10</td>\n",
              "      <td>6</td>\n",
              "      <td>534</td>\n",
              "      <td>268</td>\n",
              "      <td>33.373826</td>\n",
              "      <td>254</td>\n",
              "      <td>252</td>\n",
              "      <td>8561.499023</td>\n",
              "      <td>3987.059814</td>\n",
              "      <td>2</td>\n",
              "      <td>1</td>\n",
              "      <td>47.750333</td>\n",
              "      <td>75.659602</td>\n",
              "      <td>2415.837634</td>\n",
              "      <td>115.807000</td>\n",
              "    </tr>\n",
              "  </tbody>\n",
              "</table>\n",
              "</div>\n",
              "    <div class=\"colab-df-buttons\">\n",
              "\n",
              "  <div class=\"colab-df-container\">\n",
              "    <button class=\"colab-df-convert\" onclick=\"convertToInteractive('df-6e2f9269-8f5d-413d-8b79-15e5250a7031')\"\n",
              "            title=\"Convert this dataframe to an interactive table.\"\n",
              "            style=\"display:none;\">\n",
              "\n",
              "  <svg xmlns=\"http://www.w3.org/2000/svg\" height=\"24px\" viewBox=\"0 -960 960 960\">\n",
              "    <path d=\"M120-120v-720h720v720H120Zm60-500h600v-160H180v160Zm220 220h160v-160H400v160Zm0 220h160v-160H400v160ZM180-400h160v-160H180v160Zm440 0h160v-160H620v160ZM180-180h160v-160H180v160Zm440 0h160v-160H620v160Z\"/>\n",
              "  </svg>\n",
              "    </button>\n",
              "\n",
              "  <style>\n",
              "    .colab-df-container {\n",
              "      display:flex;\n",
              "      gap: 12px;\n",
              "    }\n",
              "\n",
              "    .colab-df-convert {\n",
              "      background-color: #E8F0FE;\n",
              "      border: none;\n",
              "      border-radius: 50%;\n",
              "      cursor: pointer;\n",
              "      display: none;\n",
              "      fill: #1967D2;\n",
              "      height: 32px;\n",
              "      padding: 0 0 0 0;\n",
              "      width: 32px;\n",
              "    }\n",
              "\n",
              "    .colab-df-convert:hover {\n",
              "      background-color: #E2EBFA;\n",
              "      box-shadow: 0px 1px 2px rgba(60, 64, 67, 0.3), 0px 1px 3px 1px rgba(60, 64, 67, 0.15);\n",
              "      fill: #174EA6;\n",
              "    }\n",
              "\n",
              "    .colab-df-buttons div {\n",
              "      margin-bottom: 4px;\n",
              "    }\n",
              "\n",
              "    [theme=dark] .colab-df-convert {\n",
              "      background-color: #3B4455;\n",
              "      fill: #D2E3FC;\n",
              "    }\n",
              "\n",
              "    [theme=dark] .colab-df-convert:hover {\n",
              "      background-color: #434B5C;\n",
              "      box-shadow: 0px 1px 3px 1px rgba(0, 0, 0, 0.15);\n",
              "      filter: drop-shadow(0px 1px 2px rgba(0, 0, 0, 0.3));\n",
              "      fill: #FFFFFF;\n",
              "    }\n",
              "  </style>\n",
              "\n",
              "    <script>\n",
              "      const buttonEl =\n",
              "        document.querySelector('#df-6e2f9269-8f5d-413d-8b79-15e5250a7031 button.colab-df-convert');\n",
              "      buttonEl.style.display =\n",
              "        google.colab.kernel.accessAllowed ? 'block' : 'none';\n",
              "\n",
              "      async function convertToInteractive(key) {\n",
              "        const element = document.querySelector('#df-6e2f9269-8f5d-413d-8b79-15e5250a7031');\n",
              "        const dataTable =\n",
              "          await google.colab.kernel.invokeFunction('convertToInteractive',\n",
              "                                                    [key], {});\n",
              "        if (!dataTable) return;\n",
              "\n",
              "        const docLinkHtml = 'Like what you see? Visit the ' +\n",
              "          '<a target=\"_blank\" href=https://colab.research.google.com/notebooks/data_table.ipynb>data table notebook</a>'\n",
              "          + ' to learn more about interactive tables.';\n",
              "        element.innerHTML = '';\n",
              "        dataTable['output_type'] = 'display_data';\n",
              "        await google.colab.output.renderOutput(dataTable, element);\n",
              "        const docLink = document.createElement('div');\n",
              "        docLink.innerHTML = docLinkHtml;\n",
              "        element.appendChild(docLink);\n",
              "      }\n",
              "    </script>\n",
              "  </div>\n",
              "\n",
              "\n",
              "<div id=\"df-c82d6fb3-3a76-43bb-a309-b9918fdf3fae\">\n",
              "  <button class=\"colab-df-quickchart\" onclick=\"quickchart('df-c82d6fb3-3a76-43bb-a309-b9918fdf3fae')\"\n",
              "            title=\"Suggest charts\"\n",
              "            style=\"display:none;\">\n",
              "\n",
              "<svg xmlns=\"http://www.w3.org/2000/svg\" height=\"24px\"viewBox=\"0 0 24 24\"\n",
              "     width=\"24px\">\n",
              "    <g>\n",
              "        <path d=\"M19 3H5c-1.1 0-2 .9-2 2v14c0 1.1.9 2 2 2h14c1.1 0 2-.9 2-2V5c0-1.1-.9-2-2-2zM9 17H7v-7h2v7zm4 0h-2V7h2v10zm4 0h-2v-4h2v4z\"/>\n",
              "    </g>\n",
              "</svg>\n",
              "  </button>\n",
              "\n",
              "<style>\n",
              "  .colab-df-quickchart {\n",
              "      --bg-color: #E8F0FE;\n",
              "      --fill-color: #1967D2;\n",
              "      --hover-bg-color: #E2EBFA;\n",
              "      --hover-fill-color: #174EA6;\n",
              "      --disabled-fill-color: #AAA;\n",
              "      --disabled-bg-color: #DDD;\n",
              "  }\n",
              "\n",
              "  [theme=dark] .colab-df-quickchart {\n",
              "      --bg-color: #3B4455;\n",
              "      --fill-color: #D2E3FC;\n",
              "      --hover-bg-color: #434B5C;\n",
              "      --hover-fill-color: #FFFFFF;\n",
              "      --disabled-bg-color: #3B4455;\n",
              "      --disabled-fill-color: #666;\n",
              "  }\n",
              "\n",
              "  .colab-df-quickchart {\n",
              "    background-color: var(--bg-color);\n",
              "    border: none;\n",
              "    border-radius: 50%;\n",
              "    cursor: pointer;\n",
              "    display: none;\n",
              "    fill: var(--fill-color);\n",
              "    height: 32px;\n",
              "    padding: 0;\n",
              "    width: 32px;\n",
              "  }\n",
              "\n",
              "  .colab-df-quickchart:hover {\n",
              "    background-color: var(--hover-bg-color);\n",
              "    box-shadow: 0 1px 2px rgba(60, 64, 67, 0.3), 0 1px 3px 1px rgba(60, 64, 67, 0.15);\n",
              "    fill: var(--button-hover-fill-color);\n",
              "  }\n",
              "\n",
              "  .colab-df-quickchart-complete:disabled,\n",
              "  .colab-df-quickchart-complete:disabled:hover {\n",
              "    background-color: var(--disabled-bg-color);\n",
              "    fill: var(--disabled-fill-color);\n",
              "    box-shadow: none;\n",
              "  }\n",
              "\n",
              "  .colab-df-spinner {\n",
              "    border: 2px solid var(--fill-color);\n",
              "    border-color: transparent;\n",
              "    border-bottom-color: var(--fill-color);\n",
              "    animation:\n",
              "      spin 1s steps(1) infinite;\n",
              "  }\n",
              "\n",
              "  @keyframes spin {\n",
              "    0% {\n",
              "      border-color: transparent;\n",
              "      border-bottom-color: var(--fill-color);\n",
              "      border-left-color: var(--fill-color);\n",
              "    }\n",
              "    20% {\n",
              "      border-color: transparent;\n",
              "      border-left-color: var(--fill-color);\n",
              "      border-top-color: var(--fill-color);\n",
              "    }\n",
              "    30% {\n",
              "      border-color: transparent;\n",
              "      border-left-color: var(--fill-color);\n",
              "      border-top-color: var(--fill-color);\n",
              "      border-right-color: var(--fill-color);\n",
              "    }\n",
              "    40% {\n",
              "      border-color: transparent;\n",
              "      border-right-color: var(--fill-color);\n",
              "      border-top-color: var(--fill-color);\n",
              "    }\n",
              "    60% {\n",
              "      border-color: transparent;\n",
              "      border-right-color: var(--fill-color);\n",
              "    }\n",
              "    80% {\n",
              "      border-color: transparent;\n",
              "      border-right-color: var(--fill-color);\n",
              "      border-bottom-color: var(--fill-color);\n",
              "    }\n",
              "    90% {\n",
              "      border-color: transparent;\n",
              "      border-bottom-color: var(--fill-color);\n",
              "    }\n",
              "  }\n",
              "</style>\n",
              "\n",
              "  <script>\n",
              "    async function quickchart(key) {\n",
              "      const quickchartButtonEl =\n",
              "        document.querySelector('#' + key + ' button');\n",
              "      quickchartButtonEl.disabled = true;  // To prevent multiple clicks.\n",
              "      quickchartButtonEl.classList.add('colab-df-spinner');\n",
              "      try {\n",
              "        const charts = await google.colab.kernel.invokeFunction(\n",
              "            'suggestCharts', [key], {});\n",
              "      } catch (error) {\n",
              "        console.error('Error during call to suggestCharts:', error);\n",
              "      }\n",
              "      quickchartButtonEl.classList.remove('colab-df-spinner');\n",
              "      quickchartButtonEl.classList.add('colab-df-quickchart-complete');\n",
              "    }\n",
              "    (() => {\n",
              "      let quickchartButtonEl =\n",
              "        document.querySelector('#df-c82d6fb3-3a76-43bb-a309-b9918fdf3fae button');\n",
              "      quickchartButtonEl.style.display =\n",
              "        google.colab.kernel.accessAllowed ? 'block' : 'none';\n",
              "    })();\n",
              "  </script>\n",
              "</div>\n",
              "\n",
              "    </div>\n",
              "  </div>\n"
            ],
            "application/vnd.google.colaboratory.intrinsic+json": {
              "type": "dataframe",
              "variable_name": "train"
            }
          },
          "metadata": {},
          "execution_count": 10
        }
      ]
    },
    {
      "cell_type": "code",
      "source": [
        "train.head().iloc[:, 20:40]"
      ],
      "metadata": {
        "colab": {
          "base_uri": "https://localhost:8080/",
          "height": 221
        },
        "id": "ve3kUw_pkbbc",
        "outputId": "5a49eaeb-4f8d-4ede-9847-66ef7e42d576"
      },
      "execution_count": 11,
      "outputs": [
        {
          "output_type": "execute_result",
          "data": {
            "text/plain": [
              "   swin       stcpb       dtcpb  dwin    tcprtt    synack    ackdat  smean  \\\n",
              "0   255   621772692  2202533631   255  0.000000  0.000000  0.000000     43   \n",
              "1   255  1417884146  3077387971   255  0.000000  0.000000  0.000000     52   \n",
              "2   255  2116150707  2963114973   255  0.111897  0.061458  0.050439     46   \n",
              "3   255  1107119177  1047442890   255  0.000000  0.000000  0.000000     52   \n",
              "4   255  2436137549  1977154190   255  0.128381  0.071147  0.057234     53   \n",
              "\n",
              "   dmean  trans_depth  response_body_len  ct_srv_src  ct_state_ttl  \\\n",
              "0     43            0                  0           1             0   \n",
              "1   1106            0                  0          43             1   \n",
              "2    824            0                  0           7             1   \n",
              "3     64            0                  0           1             1   \n",
              "4     45            0                  0          43             1   \n",
              "\n",
              "   ct_dst_ltm  ct_src_dport_ltm  ct_dst_sport_ltm  ct_dst_src_ltm  \\\n",
              "0           1                 1                 1               1   \n",
              "1           1                 1                 1               2   \n",
              "2           2                 1                 1               3   \n",
              "3           2                 1                 1               3   \n",
              "4           2                 2                 1              40   \n",
              "\n",
              "   is_ftp_login  ct_ftp_cmd  ct_flw_http_mthd  \n",
              "0             0           0                 0  \n",
              "1             0           0                 0  \n",
              "2             0           0                 0  \n",
              "3             1           1                 0  \n",
              "4             0           0                 0  "
            ],
            "text/html": [
              "\n",
              "  <div id=\"df-8b28c8d4-99ee-4c7d-a189-37c7c108208a\" class=\"colab-df-container\">\n",
              "    <div>\n",
              "<style scoped>\n",
              "    .dataframe tbody tr th:only-of-type {\n",
              "        vertical-align: middle;\n",
              "    }\n",
              "\n",
              "    .dataframe tbody tr th {\n",
              "        vertical-align: top;\n",
              "    }\n",
              "\n",
              "    .dataframe thead th {\n",
              "        text-align: right;\n",
              "    }\n",
              "</style>\n",
              "<table border=\"1\" class=\"dataframe\">\n",
              "  <thead>\n",
              "    <tr style=\"text-align: right;\">\n",
              "      <th></th>\n",
              "      <th>swin</th>\n",
              "      <th>stcpb</th>\n",
              "      <th>dtcpb</th>\n",
              "      <th>dwin</th>\n",
              "      <th>tcprtt</th>\n",
              "      <th>synack</th>\n",
              "      <th>ackdat</th>\n",
              "      <th>smean</th>\n",
              "      <th>dmean</th>\n",
              "      <th>trans_depth</th>\n",
              "      <th>response_body_len</th>\n",
              "      <th>ct_srv_src</th>\n",
              "      <th>ct_state_ttl</th>\n",
              "      <th>ct_dst_ltm</th>\n",
              "      <th>ct_src_dport_ltm</th>\n",
              "      <th>ct_dst_sport_ltm</th>\n",
              "      <th>ct_dst_src_ltm</th>\n",
              "      <th>is_ftp_login</th>\n",
              "      <th>ct_ftp_cmd</th>\n",
              "      <th>ct_flw_http_mthd</th>\n",
              "    </tr>\n",
              "  </thead>\n",
              "  <tbody>\n",
              "    <tr>\n",
              "      <th>0</th>\n",
              "      <td>255</td>\n",
              "      <td>621772692</td>\n",
              "      <td>2202533631</td>\n",
              "      <td>255</td>\n",
              "      <td>0.000000</td>\n",
              "      <td>0.000000</td>\n",
              "      <td>0.000000</td>\n",
              "      <td>43</td>\n",
              "      <td>43</td>\n",
              "      <td>0</td>\n",
              "      <td>0</td>\n",
              "      <td>1</td>\n",
              "      <td>0</td>\n",
              "      <td>1</td>\n",
              "      <td>1</td>\n",
              "      <td>1</td>\n",
              "      <td>1</td>\n",
              "      <td>0</td>\n",
              "      <td>0</td>\n",
              "      <td>0</td>\n",
              "    </tr>\n",
              "    <tr>\n",
              "      <th>1</th>\n",
              "      <td>255</td>\n",
              "      <td>1417884146</td>\n",
              "      <td>3077387971</td>\n",
              "      <td>255</td>\n",
              "      <td>0.000000</td>\n",
              "      <td>0.000000</td>\n",
              "      <td>0.000000</td>\n",
              "      <td>52</td>\n",
              "      <td>1106</td>\n",
              "      <td>0</td>\n",
              "      <td>0</td>\n",
              "      <td>43</td>\n",
              "      <td>1</td>\n",
              "      <td>1</td>\n",
              "      <td>1</td>\n",
              "      <td>1</td>\n",
              "      <td>2</td>\n",
              "      <td>0</td>\n",
              "      <td>0</td>\n",
              "      <td>0</td>\n",
              "    </tr>\n",
              "    <tr>\n",
              "      <th>2</th>\n",
              "      <td>255</td>\n",
              "      <td>2116150707</td>\n",
              "      <td>2963114973</td>\n",
              "      <td>255</td>\n",
              "      <td>0.111897</td>\n",
              "      <td>0.061458</td>\n",
              "      <td>0.050439</td>\n",
              "      <td>46</td>\n",
              "      <td>824</td>\n",
              "      <td>0</td>\n",
              "      <td>0</td>\n",
              "      <td>7</td>\n",
              "      <td>1</td>\n",
              "      <td>2</td>\n",
              "      <td>1</td>\n",
              "      <td>1</td>\n",
              "      <td>3</td>\n",
              "      <td>0</td>\n",
              "      <td>0</td>\n",
              "      <td>0</td>\n",
              "    </tr>\n",
              "    <tr>\n",
              "      <th>3</th>\n",
              "      <td>255</td>\n",
              "      <td>1107119177</td>\n",
              "      <td>1047442890</td>\n",
              "      <td>255</td>\n",
              "      <td>0.000000</td>\n",
              "      <td>0.000000</td>\n",
              "      <td>0.000000</td>\n",
              "      <td>52</td>\n",
              "      <td>64</td>\n",
              "      <td>0</td>\n",
              "      <td>0</td>\n",
              "      <td>1</td>\n",
              "      <td>1</td>\n",
              "      <td>2</td>\n",
              "      <td>1</td>\n",
              "      <td>1</td>\n",
              "      <td>3</td>\n",
              "      <td>1</td>\n",
              "      <td>1</td>\n",
              "      <td>0</td>\n",
              "    </tr>\n",
              "    <tr>\n",
              "      <th>4</th>\n",
              "      <td>255</td>\n",
              "      <td>2436137549</td>\n",
              "      <td>1977154190</td>\n",
              "      <td>255</td>\n",
              "      <td>0.128381</td>\n",
              "      <td>0.071147</td>\n",
              "      <td>0.057234</td>\n",
              "      <td>53</td>\n",
              "      <td>45</td>\n",
              "      <td>0</td>\n",
              "      <td>0</td>\n",
              "      <td>43</td>\n",
              "      <td>1</td>\n",
              "      <td>2</td>\n",
              "      <td>2</td>\n",
              "      <td>1</td>\n",
              "      <td>40</td>\n",
              "      <td>0</td>\n",
              "      <td>0</td>\n",
              "      <td>0</td>\n",
              "    </tr>\n",
              "  </tbody>\n",
              "</table>\n",
              "</div>\n",
              "    <div class=\"colab-df-buttons\">\n",
              "\n",
              "  <div class=\"colab-df-container\">\n",
              "    <button class=\"colab-df-convert\" onclick=\"convertToInteractive('df-8b28c8d4-99ee-4c7d-a189-37c7c108208a')\"\n",
              "            title=\"Convert this dataframe to an interactive table.\"\n",
              "            style=\"display:none;\">\n",
              "\n",
              "  <svg xmlns=\"http://www.w3.org/2000/svg\" height=\"24px\" viewBox=\"0 -960 960 960\">\n",
              "    <path d=\"M120-120v-720h720v720H120Zm60-500h600v-160H180v160Zm220 220h160v-160H400v160Zm0 220h160v-160H400v160ZM180-400h160v-160H180v160Zm440 0h160v-160H620v160ZM180-180h160v-160H180v160Zm440 0h160v-160H620v160Z\"/>\n",
              "  </svg>\n",
              "    </button>\n",
              "\n",
              "  <style>\n",
              "    .colab-df-container {\n",
              "      display:flex;\n",
              "      gap: 12px;\n",
              "    }\n",
              "\n",
              "    .colab-df-convert {\n",
              "      background-color: #E8F0FE;\n",
              "      border: none;\n",
              "      border-radius: 50%;\n",
              "      cursor: pointer;\n",
              "      display: none;\n",
              "      fill: #1967D2;\n",
              "      height: 32px;\n",
              "      padding: 0 0 0 0;\n",
              "      width: 32px;\n",
              "    }\n",
              "\n",
              "    .colab-df-convert:hover {\n",
              "      background-color: #E2EBFA;\n",
              "      box-shadow: 0px 1px 2px rgba(60, 64, 67, 0.3), 0px 1px 3px 1px rgba(60, 64, 67, 0.15);\n",
              "      fill: #174EA6;\n",
              "    }\n",
              "\n",
              "    .colab-df-buttons div {\n",
              "      margin-bottom: 4px;\n",
              "    }\n",
              "\n",
              "    [theme=dark] .colab-df-convert {\n",
              "      background-color: #3B4455;\n",
              "      fill: #D2E3FC;\n",
              "    }\n",
              "\n",
              "    [theme=dark] .colab-df-convert:hover {\n",
              "      background-color: #434B5C;\n",
              "      box-shadow: 0px 1px 3px 1px rgba(0, 0, 0, 0.15);\n",
              "      filter: drop-shadow(0px 1px 2px rgba(0, 0, 0, 0.3));\n",
              "      fill: #FFFFFF;\n",
              "    }\n",
              "  </style>\n",
              "\n",
              "    <script>\n",
              "      const buttonEl =\n",
              "        document.querySelector('#df-8b28c8d4-99ee-4c7d-a189-37c7c108208a button.colab-df-convert');\n",
              "      buttonEl.style.display =\n",
              "        google.colab.kernel.accessAllowed ? 'block' : 'none';\n",
              "\n",
              "      async function convertToInteractive(key) {\n",
              "        const element = document.querySelector('#df-8b28c8d4-99ee-4c7d-a189-37c7c108208a');\n",
              "        const dataTable =\n",
              "          await google.colab.kernel.invokeFunction('convertToInteractive',\n",
              "                                                    [key], {});\n",
              "        if (!dataTable) return;\n",
              "\n",
              "        const docLinkHtml = 'Like what you see? Visit the ' +\n",
              "          '<a target=\"_blank\" href=https://colab.research.google.com/notebooks/data_table.ipynb>data table notebook</a>'\n",
              "          + ' to learn more about interactive tables.';\n",
              "        element.innerHTML = '';\n",
              "        dataTable['output_type'] = 'display_data';\n",
              "        await google.colab.output.renderOutput(dataTable, element);\n",
              "        const docLink = document.createElement('div');\n",
              "        docLink.innerHTML = docLinkHtml;\n",
              "        element.appendChild(docLink);\n",
              "      }\n",
              "    </script>\n",
              "  </div>\n",
              "\n",
              "\n",
              "<div id=\"df-c29e30fe-b8f0-4832-a98d-d3626997011b\">\n",
              "  <button class=\"colab-df-quickchart\" onclick=\"quickchart('df-c29e30fe-b8f0-4832-a98d-d3626997011b')\"\n",
              "            title=\"Suggest charts\"\n",
              "            style=\"display:none;\">\n",
              "\n",
              "<svg xmlns=\"http://www.w3.org/2000/svg\" height=\"24px\"viewBox=\"0 0 24 24\"\n",
              "     width=\"24px\">\n",
              "    <g>\n",
              "        <path d=\"M19 3H5c-1.1 0-2 .9-2 2v14c0 1.1.9 2 2 2h14c1.1 0 2-.9 2-2V5c0-1.1-.9-2-2-2zM9 17H7v-7h2v7zm4 0h-2V7h2v10zm4 0h-2v-4h2v4z\"/>\n",
              "    </g>\n",
              "</svg>\n",
              "  </button>\n",
              "\n",
              "<style>\n",
              "  .colab-df-quickchart {\n",
              "      --bg-color: #E8F0FE;\n",
              "      --fill-color: #1967D2;\n",
              "      --hover-bg-color: #E2EBFA;\n",
              "      --hover-fill-color: #174EA6;\n",
              "      --disabled-fill-color: #AAA;\n",
              "      --disabled-bg-color: #DDD;\n",
              "  }\n",
              "\n",
              "  [theme=dark] .colab-df-quickchart {\n",
              "      --bg-color: #3B4455;\n",
              "      --fill-color: #D2E3FC;\n",
              "      --hover-bg-color: #434B5C;\n",
              "      --hover-fill-color: #FFFFFF;\n",
              "      --disabled-bg-color: #3B4455;\n",
              "      --disabled-fill-color: #666;\n",
              "  }\n",
              "\n",
              "  .colab-df-quickchart {\n",
              "    background-color: var(--bg-color);\n",
              "    border: none;\n",
              "    border-radius: 50%;\n",
              "    cursor: pointer;\n",
              "    display: none;\n",
              "    fill: var(--fill-color);\n",
              "    height: 32px;\n",
              "    padding: 0;\n",
              "    width: 32px;\n",
              "  }\n",
              "\n",
              "  .colab-df-quickchart:hover {\n",
              "    background-color: var(--hover-bg-color);\n",
              "    box-shadow: 0 1px 2px rgba(60, 64, 67, 0.3), 0 1px 3px 1px rgba(60, 64, 67, 0.15);\n",
              "    fill: var(--button-hover-fill-color);\n",
              "  }\n",
              "\n",
              "  .colab-df-quickchart-complete:disabled,\n",
              "  .colab-df-quickchart-complete:disabled:hover {\n",
              "    background-color: var(--disabled-bg-color);\n",
              "    fill: var(--disabled-fill-color);\n",
              "    box-shadow: none;\n",
              "  }\n",
              "\n",
              "  .colab-df-spinner {\n",
              "    border: 2px solid var(--fill-color);\n",
              "    border-color: transparent;\n",
              "    border-bottom-color: var(--fill-color);\n",
              "    animation:\n",
              "      spin 1s steps(1) infinite;\n",
              "  }\n",
              "\n",
              "  @keyframes spin {\n",
              "    0% {\n",
              "      border-color: transparent;\n",
              "      border-bottom-color: var(--fill-color);\n",
              "      border-left-color: var(--fill-color);\n",
              "    }\n",
              "    20% {\n",
              "      border-color: transparent;\n",
              "      border-left-color: var(--fill-color);\n",
              "      border-top-color: var(--fill-color);\n",
              "    }\n",
              "    30% {\n",
              "      border-color: transparent;\n",
              "      border-left-color: var(--fill-color);\n",
              "      border-top-color: var(--fill-color);\n",
              "      border-right-color: var(--fill-color);\n",
              "    }\n",
              "    40% {\n",
              "      border-color: transparent;\n",
              "      border-right-color: var(--fill-color);\n",
              "      border-top-color: var(--fill-color);\n",
              "    }\n",
              "    60% {\n",
              "      border-color: transparent;\n",
              "      border-right-color: var(--fill-color);\n",
              "    }\n",
              "    80% {\n",
              "      border-color: transparent;\n",
              "      border-right-color: var(--fill-color);\n",
              "      border-bottom-color: var(--fill-color);\n",
              "    }\n",
              "    90% {\n",
              "      border-color: transparent;\n",
              "      border-bottom-color: var(--fill-color);\n",
              "    }\n",
              "  }\n",
              "</style>\n",
              "\n",
              "  <script>\n",
              "    async function quickchart(key) {\n",
              "      const quickchartButtonEl =\n",
              "        document.querySelector('#' + key + ' button');\n",
              "      quickchartButtonEl.disabled = true;  // To prevent multiple clicks.\n",
              "      quickchartButtonEl.classList.add('colab-df-spinner');\n",
              "      try {\n",
              "        const charts = await google.colab.kernel.invokeFunction(\n",
              "            'suggestCharts', [key], {});\n",
              "      } catch (error) {\n",
              "        console.error('Error during call to suggestCharts:', error);\n",
              "      }\n",
              "      quickchartButtonEl.classList.remove('colab-df-spinner');\n",
              "      quickchartButtonEl.classList.add('colab-df-quickchart-complete');\n",
              "    }\n",
              "    (() => {\n",
              "      let quickchartButtonEl =\n",
              "        document.querySelector('#df-c29e30fe-b8f0-4832-a98d-d3626997011b button');\n",
              "      quickchartButtonEl.style.display =\n",
              "        google.colab.kernel.accessAllowed ? 'block' : 'none';\n",
              "    })();\n",
              "  </script>\n",
              "</div>\n",
              "\n",
              "    </div>\n",
              "  </div>\n"
            ],
            "application/vnd.google.colaboratory.intrinsic+json": {
              "type": "dataframe",
              "variable_name": "train"
            }
          },
          "metadata": {},
          "execution_count": 11
        }
      ]
    },
    {
      "cell_type": "code",
      "source": [
        "train.head().iloc[:, 40:]"
      ],
      "metadata": {
        "colab": {
          "base_uri": "https://localhost:8080/",
          "height": 221
        },
        "id": "yXH40DHLknRH",
        "outputId": "3a9b2eb0-5dda-46bc-92f7-d2997303e924"
      },
      "execution_count": 12,
      "outputs": [
        {
          "output_type": "execute_result",
          "data": {
            "text/plain": [
              "   ct_src_ltm  ct_srv_dst  is_sm_ips_ports attack_cat  label\n",
              "0           1           1                0     Normal      0\n",
              "1           1           6                0     Normal      0\n",
              "2           2           6                0     Normal      0\n",
              "3           2           1                0     Normal      0\n",
              "4           2          39                0     Normal      0"
            ],
            "text/html": [
              "\n",
              "  <div id=\"df-a3ec66b7-270c-4df1-9cae-c447684063d0\" class=\"colab-df-container\">\n",
              "    <div>\n",
              "<style scoped>\n",
              "    .dataframe tbody tr th:only-of-type {\n",
              "        vertical-align: middle;\n",
              "    }\n",
              "\n",
              "    .dataframe tbody tr th {\n",
              "        vertical-align: top;\n",
              "    }\n",
              "\n",
              "    .dataframe thead th {\n",
              "        text-align: right;\n",
              "    }\n",
              "</style>\n",
              "<table border=\"1\" class=\"dataframe\">\n",
              "  <thead>\n",
              "    <tr style=\"text-align: right;\">\n",
              "      <th></th>\n",
              "      <th>ct_src_ltm</th>\n",
              "      <th>ct_srv_dst</th>\n",
              "      <th>is_sm_ips_ports</th>\n",
              "      <th>attack_cat</th>\n",
              "      <th>label</th>\n",
              "    </tr>\n",
              "  </thead>\n",
              "  <tbody>\n",
              "    <tr>\n",
              "      <th>0</th>\n",
              "      <td>1</td>\n",
              "      <td>1</td>\n",
              "      <td>0</td>\n",
              "      <td>Normal</td>\n",
              "      <td>0</td>\n",
              "    </tr>\n",
              "    <tr>\n",
              "      <th>1</th>\n",
              "      <td>1</td>\n",
              "      <td>6</td>\n",
              "      <td>0</td>\n",
              "      <td>Normal</td>\n",
              "      <td>0</td>\n",
              "    </tr>\n",
              "    <tr>\n",
              "      <th>2</th>\n",
              "      <td>2</td>\n",
              "      <td>6</td>\n",
              "      <td>0</td>\n",
              "      <td>Normal</td>\n",
              "      <td>0</td>\n",
              "    </tr>\n",
              "    <tr>\n",
              "      <th>3</th>\n",
              "      <td>2</td>\n",
              "      <td>1</td>\n",
              "      <td>0</td>\n",
              "      <td>Normal</td>\n",
              "      <td>0</td>\n",
              "    </tr>\n",
              "    <tr>\n",
              "      <th>4</th>\n",
              "      <td>2</td>\n",
              "      <td>39</td>\n",
              "      <td>0</td>\n",
              "      <td>Normal</td>\n",
              "      <td>0</td>\n",
              "    </tr>\n",
              "  </tbody>\n",
              "</table>\n",
              "</div>\n",
              "    <div class=\"colab-df-buttons\">\n",
              "\n",
              "  <div class=\"colab-df-container\">\n",
              "    <button class=\"colab-df-convert\" onclick=\"convertToInteractive('df-a3ec66b7-270c-4df1-9cae-c447684063d0')\"\n",
              "            title=\"Convert this dataframe to an interactive table.\"\n",
              "            style=\"display:none;\">\n",
              "\n",
              "  <svg xmlns=\"http://www.w3.org/2000/svg\" height=\"24px\" viewBox=\"0 -960 960 960\">\n",
              "    <path d=\"M120-120v-720h720v720H120Zm60-500h600v-160H180v160Zm220 220h160v-160H400v160Zm0 220h160v-160H400v160ZM180-400h160v-160H180v160Zm440 0h160v-160H620v160ZM180-180h160v-160H180v160Zm440 0h160v-160H620v160Z\"/>\n",
              "  </svg>\n",
              "    </button>\n",
              "\n",
              "  <style>\n",
              "    .colab-df-container {\n",
              "      display:flex;\n",
              "      gap: 12px;\n",
              "    }\n",
              "\n",
              "    .colab-df-convert {\n",
              "      background-color: #E8F0FE;\n",
              "      border: none;\n",
              "      border-radius: 50%;\n",
              "      cursor: pointer;\n",
              "      display: none;\n",
              "      fill: #1967D2;\n",
              "      height: 32px;\n",
              "      padding: 0 0 0 0;\n",
              "      width: 32px;\n",
              "    }\n",
              "\n",
              "    .colab-df-convert:hover {\n",
              "      background-color: #E2EBFA;\n",
              "      box-shadow: 0px 1px 2px rgba(60, 64, 67, 0.3), 0px 1px 3px 1px rgba(60, 64, 67, 0.15);\n",
              "      fill: #174EA6;\n",
              "    }\n",
              "\n",
              "    .colab-df-buttons div {\n",
              "      margin-bottom: 4px;\n",
              "    }\n",
              "\n",
              "    [theme=dark] .colab-df-convert {\n",
              "      background-color: #3B4455;\n",
              "      fill: #D2E3FC;\n",
              "    }\n",
              "\n",
              "    [theme=dark] .colab-df-convert:hover {\n",
              "      background-color: #434B5C;\n",
              "      box-shadow: 0px 1px 3px 1px rgba(0, 0, 0, 0.15);\n",
              "      filter: drop-shadow(0px 1px 2px rgba(0, 0, 0, 0.3));\n",
              "      fill: #FFFFFF;\n",
              "    }\n",
              "  </style>\n",
              "\n",
              "    <script>\n",
              "      const buttonEl =\n",
              "        document.querySelector('#df-a3ec66b7-270c-4df1-9cae-c447684063d0 button.colab-df-convert');\n",
              "      buttonEl.style.display =\n",
              "        google.colab.kernel.accessAllowed ? 'block' : 'none';\n",
              "\n",
              "      async function convertToInteractive(key) {\n",
              "        const element = document.querySelector('#df-a3ec66b7-270c-4df1-9cae-c447684063d0');\n",
              "        const dataTable =\n",
              "          await google.colab.kernel.invokeFunction('convertToInteractive',\n",
              "                                                    [key], {});\n",
              "        if (!dataTable) return;\n",
              "\n",
              "        const docLinkHtml = 'Like what you see? Visit the ' +\n",
              "          '<a target=\"_blank\" href=https://colab.research.google.com/notebooks/data_table.ipynb>data table notebook</a>'\n",
              "          + ' to learn more about interactive tables.';\n",
              "        element.innerHTML = '';\n",
              "        dataTable['output_type'] = 'display_data';\n",
              "        await google.colab.output.renderOutput(dataTable, element);\n",
              "        const docLink = document.createElement('div');\n",
              "        docLink.innerHTML = docLinkHtml;\n",
              "        element.appendChild(docLink);\n",
              "      }\n",
              "    </script>\n",
              "  </div>\n",
              "\n",
              "\n",
              "<div id=\"df-b6914776-fa78-44d7-964d-8b4635e02e02\">\n",
              "  <button class=\"colab-df-quickchart\" onclick=\"quickchart('df-b6914776-fa78-44d7-964d-8b4635e02e02')\"\n",
              "            title=\"Suggest charts\"\n",
              "            style=\"display:none;\">\n",
              "\n",
              "<svg xmlns=\"http://www.w3.org/2000/svg\" height=\"24px\"viewBox=\"0 0 24 24\"\n",
              "     width=\"24px\">\n",
              "    <g>\n",
              "        <path d=\"M19 3H5c-1.1 0-2 .9-2 2v14c0 1.1.9 2 2 2h14c1.1 0 2-.9 2-2V5c0-1.1-.9-2-2-2zM9 17H7v-7h2v7zm4 0h-2V7h2v10zm4 0h-2v-4h2v4z\"/>\n",
              "    </g>\n",
              "</svg>\n",
              "  </button>\n",
              "\n",
              "<style>\n",
              "  .colab-df-quickchart {\n",
              "      --bg-color: #E8F0FE;\n",
              "      --fill-color: #1967D2;\n",
              "      --hover-bg-color: #E2EBFA;\n",
              "      --hover-fill-color: #174EA6;\n",
              "      --disabled-fill-color: #AAA;\n",
              "      --disabled-bg-color: #DDD;\n",
              "  }\n",
              "\n",
              "  [theme=dark] .colab-df-quickchart {\n",
              "      --bg-color: #3B4455;\n",
              "      --fill-color: #D2E3FC;\n",
              "      --hover-bg-color: #434B5C;\n",
              "      --hover-fill-color: #FFFFFF;\n",
              "      --disabled-bg-color: #3B4455;\n",
              "      --disabled-fill-color: #666;\n",
              "  }\n",
              "\n",
              "  .colab-df-quickchart {\n",
              "    background-color: var(--bg-color);\n",
              "    border: none;\n",
              "    border-radius: 50%;\n",
              "    cursor: pointer;\n",
              "    display: none;\n",
              "    fill: var(--fill-color);\n",
              "    height: 32px;\n",
              "    padding: 0;\n",
              "    width: 32px;\n",
              "  }\n",
              "\n",
              "  .colab-df-quickchart:hover {\n",
              "    background-color: var(--hover-bg-color);\n",
              "    box-shadow: 0 1px 2px rgba(60, 64, 67, 0.3), 0 1px 3px 1px rgba(60, 64, 67, 0.15);\n",
              "    fill: var(--button-hover-fill-color);\n",
              "  }\n",
              "\n",
              "  .colab-df-quickchart-complete:disabled,\n",
              "  .colab-df-quickchart-complete:disabled:hover {\n",
              "    background-color: var(--disabled-bg-color);\n",
              "    fill: var(--disabled-fill-color);\n",
              "    box-shadow: none;\n",
              "  }\n",
              "\n",
              "  .colab-df-spinner {\n",
              "    border: 2px solid var(--fill-color);\n",
              "    border-color: transparent;\n",
              "    border-bottom-color: var(--fill-color);\n",
              "    animation:\n",
              "      spin 1s steps(1) infinite;\n",
              "  }\n",
              "\n",
              "  @keyframes spin {\n",
              "    0% {\n",
              "      border-color: transparent;\n",
              "      border-bottom-color: var(--fill-color);\n",
              "      border-left-color: var(--fill-color);\n",
              "    }\n",
              "    20% {\n",
              "      border-color: transparent;\n",
              "      border-left-color: var(--fill-color);\n",
              "      border-top-color: var(--fill-color);\n",
              "    }\n",
              "    30% {\n",
              "      border-color: transparent;\n",
              "      border-left-color: var(--fill-color);\n",
              "      border-top-color: var(--fill-color);\n",
              "      border-right-color: var(--fill-color);\n",
              "    }\n",
              "    40% {\n",
              "      border-color: transparent;\n",
              "      border-right-color: var(--fill-color);\n",
              "      border-top-color: var(--fill-color);\n",
              "    }\n",
              "    60% {\n",
              "      border-color: transparent;\n",
              "      border-right-color: var(--fill-color);\n",
              "    }\n",
              "    80% {\n",
              "      border-color: transparent;\n",
              "      border-right-color: var(--fill-color);\n",
              "      border-bottom-color: var(--fill-color);\n",
              "    }\n",
              "    90% {\n",
              "      border-color: transparent;\n",
              "      border-bottom-color: var(--fill-color);\n",
              "    }\n",
              "  }\n",
              "</style>\n",
              "\n",
              "  <script>\n",
              "    async function quickchart(key) {\n",
              "      const quickchartButtonEl =\n",
              "        document.querySelector('#' + key + ' button');\n",
              "      quickchartButtonEl.disabled = true;  // To prevent multiple clicks.\n",
              "      quickchartButtonEl.classList.add('colab-df-spinner');\n",
              "      try {\n",
              "        const charts = await google.colab.kernel.invokeFunction(\n",
              "            'suggestCharts', [key], {});\n",
              "      } catch (error) {\n",
              "        console.error('Error during call to suggestCharts:', error);\n",
              "      }\n",
              "      quickchartButtonEl.classList.remove('colab-df-spinner');\n",
              "      quickchartButtonEl.classList.add('colab-df-quickchart-complete');\n",
              "    }\n",
              "    (() => {\n",
              "      let quickchartButtonEl =\n",
              "        document.querySelector('#df-b6914776-fa78-44d7-964d-8b4635e02e02 button');\n",
              "      quickchartButtonEl.style.display =\n",
              "        google.colab.kernel.accessAllowed ? 'block' : 'none';\n",
              "    })();\n",
              "  </script>\n",
              "</div>\n",
              "\n",
              "    </div>\n",
              "  </div>\n"
            ],
            "application/vnd.google.colaboratory.intrinsic+json": {
              "type": "dataframe",
              "variable_name": "train"
            }
          },
          "metadata": {},
          "execution_count": 12
        }
      ]
    },
    {
      "cell_type": "code",
      "source": [
        "train.columns"
      ],
      "metadata": {
        "colab": {
          "base_uri": "https://localhost:8080/"
        },
        "id": "RP7fFeDA8g4k",
        "outputId": "04a21273-f63c-4956-e1a3-d0c50bf7ed00"
      },
      "execution_count": 13,
      "outputs": [
        {
          "output_type": "execute_result",
          "data": {
            "text/plain": [
              "Index(['id', 'dur', 'proto', 'service', 'state', 'spkts', 'dpkts', 'sbytes',\n",
              "       'dbytes', 'rate', 'sttl', 'dttl', 'sload', 'dload', 'sloss', 'dloss',\n",
              "       'sinpkt', 'dinpkt', 'sjit', 'djit', 'swin', 'stcpb', 'dtcpb', 'dwin',\n",
              "       'tcprtt', 'synack', 'ackdat', 'smean', 'dmean', 'trans_depth',\n",
              "       'response_body_len', 'ct_srv_src', 'ct_state_ttl', 'ct_dst_ltm',\n",
              "       'ct_src_dport_ltm', 'ct_dst_sport_ltm', 'ct_dst_src_ltm',\n",
              "       'is_ftp_login', 'ct_ftp_cmd', 'ct_flw_http_mthd', 'ct_src_ltm',\n",
              "       'ct_srv_dst', 'is_sm_ips_ports', 'attack_cat', 'label'],\n",
              "      dtype='object')"
            ]
          },
          "metadata": {},
          "execution_count": 13
        }
      ]
    },
    {
      "cell_type": "code",
      "source": [
        "test.columns"
      ],
      "metadata": {
        "colab": {
          "base_uri": "https://localhost:8080/"
        },
        "id": "KV2qgc6r8YcD",
        "outputId": "bfedc43a-353f-48a1-aaa3-9a058bed3b66"
      },
      "execution_count": 14,
      "outputs": [
        {
          "output_type": "execute_result",
          "data": {
            "text/plain": [
              "Index(['id', 'dur', 'proto', 'service', 'state', 'spkts', 'dpkts', 'sbytes',\n",
              "       'dbytes', 'rate', 'sttl', 'dttl', 'sload', 'dload', 'sloss', 'dloss',\n",
              "       'sinpkt', 'dinpkt', 'sjit', 'djit', 'swin', 'stcpb', 'dtcpb', 'dwin',\n",
              "       'tcprtt', 'synack', 'ackdat', 'smean', 'dmean', 'trans_depth',\n",
              "       'response_body_len', 'ct_srv_src', 'ct_state_ttl', 'ct_dst_ltm',\n",
              "       'ct_src_dport_ltm', 'ct_dst_sport_ltm', 'ct_dst_src_ltm',\n",
              "       'is_ftp_login', 'ct_ftp_cmd', 'ct_flw_http_mthd', 'ct_src_ltm',\n",
              "       'ct_srv_dst', 'is_sm_ips_ports', 'attack_cat', 'label'],\n",
              "      dtype='object')"
            ]
          },
          "metadata": {},
          "execution_count": 14
        }
      ]
    },
    {
      "cell_type": "code",
      "source": [
        "categorical_cols = ['service', 'state', 'proto', 'stcpb', 'dtcpb',\n",
        "                    'is_sm_ips_ports', 'is_ftp_login']"
      ],
      "metadata": {
        "id": "h2viq_R9lGdn"
      },
      "execution_count": 15,
      "outputs": []
    },
    {
      "cell_type": "code",
      "source": [
        "not_matching = []\n",
        "for col in categorical_cols:\n",
        "\n",
        "\n",
        "  train_set = set(train[col])\n",
        "  test_set = set(test[col])\n",
        "\n",
        "  if train_set != test_set:\n",
        "    print(\"Not Matching: \", col)\n",
        "    print(f\"Unique values in train data for {col}: {train[col].unique()}\")\n",
        "    print(f\"Unique values in test data for {col}: {test[col].unique()}\")\n",
        "    print()\n",
        "\n",
        "    not_matching.append(col)\n",
        "\n",
        "print(not_matching)"
      ],
      "metadata": {
        "colab": {
          "base_uri": "https://localhost:8080/"
        },
        "id": "yhvseVfjqZV2",
        "outputId": "573aea60-a2d8-4c78-a44b-170dd72ec4e4"
      },
      "execution_count": 16,
      "outputs": [
        {
          "output_type": "stream",
          "name": "stdout",
          "text": [
            "Not Matching:  state\n",
            "Unique values in train data for state: ['FIN' 'INT' 'CON' 'ECO' 'REQ' 'RST' 'PAR' 'URN' 'no']\n",
            "Unique values in test data for state: ['INT' 'FIN' 'REQ' 'ACC' 'CON' 'RST' 'CLO']\n",
            "\n",
            "Not Matching:  proto\n",
            "Unique values in train data for proto: ['tcp' 'udp' 'arp' 'ospf' 'icmp' 'igmp' 'rtp' 'ddp' 'ipv6-frag' 'cftp'\n",
            " 'wsn' 'pvp' 'wb-expak' 'mtp' 'pri-enc' 'sat-mon' 'cphb' 'sun-nd' 'iso-ip'\n",
            " 'xtp' 'il' 'unas' 'mfe-nsp' '3pc' 'ipv6-route' 'idrp' 'bna' 'swipe'\n",
            " 'kryptolan' 'cpnx' 'rsvp' 'wb-mon' 'vmtp' 'ib' 'dgp' 'eigrp' 'ax.25'\n",
            " 'gmtp' 'pnni' 'sep' 'pgm' 'idpr-cmtp' 'zero' 'rvd' 'mobile' 'narp' 'fc'\n",
            " 'pipe' 'ipcomp' 'ipv6-no' 'sat-expak' 'ipv6-opts' 'snp' 'ipcv'\n",
            " 'br-sat-mon' 'ttp' 'tcf' 'nsfnet-igp' 'sprite-rpc' 'aes-sp3-d' 'sccopmce'\n",
            " 'sctp' 'qnx' 'scps' 'etherip' 'aris' 'pim' 'compaq-peer' 'vrrp' 'iatp'\n",
            " 'stp' 'l2tp' 'srp' 'sm' 'isis' 'smp' 'fire' 'ptp' 'crtp' 'sps'\n",
            " 'merit-inp' 'idpr' 'skip' 'any' 'larp' 'ipip' 'micp' 'encap' 'ifmp'\n",
            " 'tp++' 'a/n' 'ipv6' 'i-nlsp' 'ipx-n-ip' 'sdrp' 'tlsp' 'gre' 'mhrp' 'ddx'\n",
            " 'ippc' 'visa' 'secure-vmtp' 'uti' 'vines' 'crudp' 'iplt' 'ggp' 'ip'\n",
            " 'ipnip' 'st2' 'argus' 'bbn-rcc' 'egp' 'emcon' 'igp' 'nvp' 'pup' 'xnet'\n",
            " 'chaos' 'mux' 'dcn' 'hmp' 'prm' 'trunk-1' 'xns-idp' 'leaf-1' 'leaf-2'\n",
            " 'rdp' 'irtp' 'iso-tp4' 'netblt' 'trunk-2' 'cbt']\n",
            "Unique values in test data for proto: ['udp' 'arp' 'tcp' 'igmp' 'ospf' 'sctp' 'gre' 'ggp' 'ip' 'ipnip' 'st2'\n",
            " 'argus' 'chaos' 'egp' 'emcon' 'nvp' 'pup' 'xnet' 'mux' 'dcn' 'hmp' 'prm'\n",
            " 'trunk-1' 'trunk-2' 'xns-idp' 'leaf-1' 'leaf-2' 'irtp' 'rdp' 'netblt'\n",
            " 'mfe-nsp' 'merit-inp' '3pc' 'idpr' 'ddp' 'idpr-cmtp' 'tp++' 'ipv6' 'sdrp'\n",
            " 'ipv6-frag' 'ipv6-route' 'idrp' 'mhrp' 'i-nlsp' 'rvd' 'mobile' 'narp'\n",
            " 'skip' 'tlsp' 'ipv6-no' 'any' 'ipv6-opts' 'cftp' 'sat-expak' 'ippc'\n",
            " 'kryptolan' 'sat-mon' 'cpnx' 'wsn' 'pvp' 'br-sat-mon' 'sun-nd' 'wb-mon'\n",
            " 'vmtp' 'ttp' 'vines' 'nsfnet-igp' 'dgp' 'eigrp' 'tcf' 'sprite-rpc' 'larp'\n",
            " 'mtp' 'ax.25' 'ipip' 'aes-sp3-d' 'micp' 'encap' 'pri-enc' 'gmtp' 'ifmp'\n",
            " 'pnni' 'qnx' 'scps' 'cbt' 'bbn-rcc' 'igp' 'bna' 'swipe' 'visa' 'ipcv'\n",
            " 'cphb' 'iso-tp4' 'wb-expak' 'sep' 'secure-vmtp' 'xtp' 'il' 'rsvp' 'unas'\n",
            " 'fc' 'iso-ip' 'etherip' 'pim' 'aris' 'a/n' 'ipcomp' 'snp' 'compaq-peer'\n",
            " 'ipx-n-ip' 'pgm' 'vrrp' 'l2tp' 'zero' 'ddx' 'iatp' 'stp' 'srp' 'uti' 'sm'\n",
            " 'smp' 'isis' 'ptp' 'fire' 'crtp' 'crudp' 'sccopmce' 'iplt' 'pipe' 'sps'\n",
            " 'ib']\n",
            "\n",
            "Not Matching:  stcpb\n",
            "Unique values in train data for stcpb: [ 621772692 1417884146 2116150707 ...    5604755 1932059121 3518776216]\n",
            "Unique values in test data for stcpb: [         0 1640845588 2214319888 ... 3487870721 2309382861 1072535109]\n",
            "\n",
            "Not Matching:  dtcpb\n",
            "Unique values in train data for dtcpb: [2202533631 3077387971 2963114973 ...  575257391 2472223109 3453092386]\n",
            "Unique values in test data for dtcpb: [         0  177111456 3374287000 ... 2884385558 4150989117 3284291478]\n",
            "\n",
            "Not Matching:  is_ftp_login\n",
            "Unique values in train data for is_ftp_login: [0 1 2 4]\n",
            "Unique values in test data for is_ftp_login: [0 1 2]\n",
            "\n",
            "['state', 'proto', 'stcpb', 'dtcpb', 'is_ftp_login']\n"
          ]
        }
      ]
    },
    {
      "cell_type": "markdown",
      "source": [
        "## Option #1: Remove all records that only appear in either"
      ],
      "metadata": {
        "id": "kQKxxL-T-FlZ"
      }
    },
    {
      "cell_type": "code",
      "source": [
        "# for the training data we want to drop all\n",
        "print(\"Before: \", train.shape)\n",
        "training_data = train.dropna()\n",
        "\n",
        "print(\"After: \", training_data.shape)"
      ],
      "metadata": {
        "colab": {
          "base_uri": "https://localhost:8080/"
        },
        "id": "qWCc8RnrSRPH",
        "outputId": "fd54926d-6423-4424-c036-fbf54e599e50"
      },
      "execution_count": null,
      "outputs": [
        {
          "output_type": "stream",
          "name": "stdout",
          "text": [
            "Before:  (175341, 45)\n",
            "After:  (175341, 45)\n"
          ]
        }
      ]
    },
    {
      "cell_type": "code",
      "source": [
        "# for the training data we want to drop all\n",
        "print(\"Before: \", test.shape)\n",
        "test_data = test.dropna()\n",
        "\n",
        "print(\"After: \", test_data.shape)"
      ],
      "metadata": {
        "colab": {
          "base_uri": "https://localhost:8080/"
        },
        "id": "SyrKAa63-IGu",
        "outputId": "fa77f3fa-2a62-4103-8911-01684af374ec"
      },
      "execution_count": null,
      "outputs": [
        {
          "output_type": "stream",
          "name": "stdout",
          "text": [
            "Before:  (82332, 45)\n",
            "After:  (82332, 45)\n"
          ]
        }
      ]
    },
    {
      "cell_type": "code",
      "source": [
        "training_data = training_data.drop('id', axis=1)\n",
        "training_data = training_data.drop('attack_cat', axis=1)\n",
        "\n",
        "test_data = test_data.drop('id', axis=1)\n",
        "test_data = test_data.drop('attack_cat', axis=1)"
      ],
      "metadata": {
        "id": "C0UmfdVe7N47"
      },
      "execution_count": null,
      "outputs": []
    },
    {
      "cell_type": "code",
      "source": [
        "# Remove all the records that are not common between test and train\n",
        "for i in range(0, 3):\n",
        "  for col in categorical_cols:\n",
        "    # print(f\"Unique values in train data for {col}: {training_data[col].unique()}\")\n",
        "    # print(f\"Unique values in test data for {col}: {test_data[col].unique()}\")\n",
        "    common_col_elements = set(training_data[col].unique()).intersection(set(test_data[col].unique()))\n",
        "\n",
        "    # print(f\"Unique values in both data for {col}: {test_data[col].unique()}\")\n",
        "\n",
        "\n",
        "    training_data = training_data[training_data[col].isin(common_col_elements)]\n",
        "    test_data = test_data[test_data[col].isin(common_col_elements)]\n",
        "\n",
        "print(\"Final Training Data Shape:\", training_data.shape)\n",
        "print(\"Final Test Data Shape:\", test_data.shape)\n",
        "\n",
        "# Why is it that I had to run it multiple times to keep filtering the data out\n",
        "# Drop features that have mismatch"
      ],
      "metadata": {
        "id": "bkUvcDMqUGOz",
        "colab": {
          "base_uri": "https://localhost:8080/"
        },
        "outputId": "dbec80d7-c09d-423f-aa46-ba01646bfd31"
      },
      "execution_count": null,
      "outputs": [
        {
          "output_type": "stream",
          "name": "stdout",
          "text": [
            "Final Training Data Shape: (39163, 43)\n",
            "Final Test Data Shape: (40890, 43)\n"
          ]
        }
      ]
    },
    {
      "cell_type": "code",
      "source": [
        "# Make sure all columns match\n",
        "print(\"Train attributes: \", len(training_data.columns))\n",
        "print(\"Test attributes: \", len(test_data.columns))\n",
        "\n",
        "cols = set(training_data.columns).intersection(test_data.columns)\n",
        "\n",
        "print(\"Matching columns: \", len(cols))\n"
      ],
      "metadata": {
        "colab": {
          "base_uri": "https://localhost:8080/"
        },
        "id": "6t5Xv3moU-HO",
        "outputId": "f445d7bb-215d-4dbd-dd00-d81664a5da91"
      },
      "execution_count": null,
      "outputs": [
        {
          "output_type": "stream",
          "name": "stdout",
          "text": [
            "Train attributes:  43\n",
            "Test attributes:  43\n",
            "Matching columns:  43\n"
          ]
        }
      ]
    },
    {
      "cell_type": "code",
      "source": [
        "test_data = pd.get_dummies(test_data, columns=categorical_cols)\n",
        "training_data = pd.get_dummies(training_data, columns=categorical_cols)"
      ],
      "metadata": {
        "id": "7qDruQ2cuE1j"
      },
      "execution_count": null,
      "outputs": []
    },
    {
      "cell_type": "code",
      "source": [
        "print(\"Training Data Shape:\", training_data.shape)\n",
        "print(\"Test Data Shape:\", test_data.shape)"
      ],
      "metadata": {
        "colab": {
          "base_uri": "https://localhost:8080/"
        },
        "id": "uG4jGqh7vGiL",
        "outputId": "f9dfed24-3e57-4e1a-9018-c27a3fbfd15c"
      },
      "execution_count": null,
      "outputs": [
        {
          "output_type": "stream",
          "name": "stdout",
          "text": [
            "Training Data Shape: (39163, 200)\n",
            "Test Data Shape: (40890, 200)\n"
          ]
        }
      ]
    },
    {
      "cell_type": "code",
      "source": [
        "for cols in test.columns:\n",
        "  if col in categorical_cols or col == 'label':\n",
        "    continue\n",
        "\n",
        "  encode_numeric_zscore(training_data, col)\n",
        "  encode_numeric_zscore(test_data, col)"
      ],
      "metadata": {
        "id": "1ZS_bCbvuXSc"
      },
      "execution_count": null,
      "outputs": []
    },
    {
      "cell_type": "code",
      "source": [
        "print(\"Training Data Shape:\", training_data.shape)\n",
        "print(\"Test Data Shape:\", test_data.shape)"
      ],
      "metadata": {
        "colab": {
          "base_uri": "https://localhost:8080/"
        },
        "id": "TPV9gqeluuC-",
        "outputId": "01f3ac55-bbb1-45ab-949a-c79c82c2086d"
      },
      "execution_count": null,
      "outputs": [
        {
          "output_type": "stream",
          "name": "stdout",
          "text": [
            "Training Data Shape: (39163, 200)\n",
            "Test Data Shape: (40890, 200)\n"
          ]
        }
      ]
    },
    {
      "cell_type": "markdown",
      "source": [
        "## Option #2 : Remove all features that only appear in either"
      ],
      "metadata": {
        "id": "nQaSQJcwjkXF"
      }
    },
    {
      "cell_type": "code",
      "source": [
        "training_data2 = train.dropna()\n",
        "test_data2 = test.dropna()"
      ],
      "metadata": {
        "id": "XYxjOvmKp-XD"
      },
      "execution_count": 17,
      "outputs": []
    },
    {
      "cell_type": "code",
      "source": [
        "training_data2 = training_data2.drop('attack_cat', axis=1)\n",
        "test_data2 = test_data2.drop('attack_cat', axis=1)\n",
        "\n",
        "training_data2 = training_data2.drop('id', axis=1)\n",
        "test_data2 = test_data2.drop('id', axis=1)\n",
        "\n",
        "# Drop all not matching categorical columns\n",
        "for col in not_matching:\n",
        "  training_data2 = training_data2.drop(col, axis = 1)\n",
        "  test_data2 = test_data2.drop(col, axis = 1)"
      ],
      "metadata": {
        "id": "rbzwwqEaqOFb"
      },
      "execution_count": 18,
      "outputs": []
    },
    {
      "cell_type": "code",
      "source": [
        "print(training_data2.shape, test_data2.shape)"
      ],
      "metadata": {
        "colab": {
          "base_uri": "https://localhost:8080/"
        },
        "id": "x86RMAG-sNyo",
        "outputId": "6422b87c-5e6e-48a9-b2c3-e3ce37429965"
      },
      "execution_count": 19,
      "outputs": [
        {
          "output_type": "stream",
          "name": "stdout",
          "text": [
            "(175341, 38) (82332, 38)\n"
          ]
        }
      ]
    },
    {
      "cell_type": "code",
      "source": [
        "# One hot encoding for all of the columns remaining\n",
        "for col in categorical_cols:\n",
        "  if col not in not_matching:\n",
        "    test_data2 = pd.get_dummies(test_data2, columns=[col])\n",
        "    training_data2 = pd.get_dummies(training_data2, columns=[col])"
      ],
      "metadata": {
        "id": "AGuzbQ1htoJT"
      },
      "execution_count": 20,
      "outputs": []
    },
    {
      "cell_type": "code",
      "source": [
        "print(training_data2.shape, test_data2.shape)"
      ],
      "metadata": {
        "colab": {
          "base_uri": "https://localhost:8080/"
        },
        "id": "COwUNTYiuuNO",
        "outputId": "30942d3c-d2cc-4697-b032-9ae7ed131f4e"
      },
      "execution_count": 21,
      "outputs": [
        {
          "output_type": "stream",
          "name": "stdout",
          "text": [
            "(175341, 51) (82332, 51)\n"
          ]
        }
      ]
    },
    {
      "cell_type": "code",
      "source": [
        "for cols in test.columns:\n",
        "  if col in categorical_cols:\n",
        "    continue\n",
        "\n",
        "  encode_numeric_zscore(training_data2, col)\n",
        "  encode_numeric_zscore(test_data2, col)"
      ],
      "metadata": {
        "id": "P0Ui_SuZu6tU"
      },
      "execution_count": 22,
      "outputs": []
    },
    {
      "cell_type": "code",
      "source": [
        "print(training_data2.shape, test_data2.shape)"
      ],
      "metadata": {
        "colab": {
          "base_uri": "https://localhost:8080/"
        },
        "id": "4AalV37ou8Zn",
        "outputId": "aef3f684-b6a5-405c-faa5-cf342dd747de"
      },
      "execution_count": 23,
      "outputs": [
        {
          "output_type": "stream",
          "name": "stdout",
          "text": [
            "(175341, 51) (82332, 51)\n"
          ]
        }
      ]
    },
    {
      "cell_type": "markdown",
      "source": [
        "# Model Preparation"
      ],
      "metadata": {
        "id": "fhSs2kFYoeaU"
      }
    },
    {
      "cell_type": "markdown",
      "source": [
        "## Option 1: Test/Train Split"
      ],
      "metadata": {
        "id": "vhZW7AwTttNa"
      }
    },
    {
      "cell_type": "code",
      "source": [
        "x_train, y_train = to_xy(training_data, 'label')\n",
        "x_test, y_test = to_xy(test_data, 'label')\n",
        "\n",
        "print(\"Train Split :\", x_train.shape, y_train.shape)\n",
        "print(\"Test Split :\", x_test.shape, y_test.shape)"
      ],
      "metadata": {
        "id": "XzR-tjh8thJd",
        "colab": {
          "base_uri": "https://localhost:8080/",
          "height": 201
        },
        "outputId": "6896127c-e197-4d88-d4f7-a9d3fe677406"
      },
      "execution_count": 24,
      "outputs": [
        {
          "output_type": "error",
          "ename": "NameError",
          "evalue": "name 'training_data' is not defined",
          "traceback": [
            "\u001b[0;31m---------------------------------------------------------------------------\u001b[0m",
            "\u001b[0;31mNameError\u001b[0m                                 Traceback (most recent call last)",
            "\u001b[0;32m<ipython-input-24-c933bd05fd37>\u001b[0m in \u001b[0;36m<cell line: 1>\u001b[0;34m()\u001b[0m\n\u001b[0;32m----> 1\u001b[0;31m \u001b[0mx_train\u001b[0m\u001b[0;34m,\u001b[0m \u001b[0my_train\u001b[0m \u001b[0;34m=\u001b[0m \u001b[0mto_xy\u001b[0m\u001b[0;34m(\u001b[0m\u001b[0mtraining_data\u001b[0m\u001b[0;34m,\u001b[0m \u001b[0;34m'label'\u001b[0m\u001b[0;34m)\u001b[0m\u001b[0;34m\u001b[0m\u001b[0;34m\u001b[0m\u001b[0m\n\u001b[0m\u001b[1;32m      2\u001b[0m \u001b[0mx_test\u001b[0m\u001b[0;34m,\u001b[0m \u001b[0my_test\u001b[0m \u001b[0;34m=\u001b[0m \u001b[0mto_xy\u001b[0m\u001b[0;34m(\u001b[0m\u001b[0mtest_data\u001b[0m\u001b[0;34m,\u001b[0m \u001b[0;34m'label'\u001b[0m\u001b[0;34m)\u001b[0m\u001b[0;34m\u001b[0m\u001b[0;34m\u001b[0m\u001b[0m\n\u001b[1;32m      3\u001b[0m \u001b[0;34m\u001b[0m\u001b[0m\n\u001b[1;32m      4\u001b[0m \u001b[0mprint\u001b[0m\u001b[0;34m(\u001b[0m\u001b[0;34m\"Train Split :\"\u001b[0m\u001b[0;34m,\u001b[0m \u001b[0mx_train\u001b[0m\u001b[0;34m.\u001b[0m\u001b[0mshape\u001b[0m\u001b[0;34m,\u001b[0m \u001b[0my_train\u001b[0m\u001b[0;34m.\u001b[0m\u001b[0mshape\u001b[0m\u001b[0;34m)\u001b[0m\u001b[0;34m\u001b[0m\u001b[0;34m\u001b[0m\u001b[0m\n\u001b[1;32m      5\u001b[0m \u001b[0mprint\u001b[0m\u001b[0;34m(\u001b[0m\u001b[0;34m\"Test Split :\"\u001b[0m\u001b[0;34m,\u001b[0m \u001b[0mx_test\u001b[0m\u001b[0;34m.\u001b[0m\u001b[0mshape\u001b[0m\u001b[0;34m,\u001b[0m \u001b[0my_test\u001b[0m\u001b[0;34m.\u001b[0m\u001b[0mshape\u001b[0m\u001b[0;34m)\u001b[0m\u001b[0;34m\u001b[0m\u001b[0;34m\u001b[0m\u001b[0m\n",
            "\u001b[0;31mNameError\u001b[0m: name 'training_data' is not defined"
          ]
        }
      ]
    },
    {
      "cell_type": "code",
      "source": [
        "y_train[:-5]"
      ],
      "metadata": {
        "id": "U3kBWXqXvugL"
      },
      "execution_count": null,
      "outputs": []
    },
    {
      "cell_type": "markdown",
      "source": [
        "## Option 2: Test/Train Split"
      ],
      "metadata": {
        "id": "W03_pYAPte9C"
      }
    },
    {
      "cell_type": "code",
      "source": [
        "x_train2, y_train2 = to_xy(training_data2, 'label')\n",
        "x_test2, y_test2 = to_xy(test_data2, 'label')\n",
        "\n",
        "print(\"Train Split :\", x_train2.shape, y_train2.shape)\n",
        "print(\"Test Split :\", x_test2.shape, y_test2.shape)"
      ],
      "metadata": {
        "colab": {
          "base_uri": "https://localhost:8080/"
        },
        "id": "L2KYerP5tlrB",
        "outputId": "e13967ec-8be9-4ff8-fcc7-0379f0f90ce4"
      },
      "execution_count": 25,
      "outputs": [
        {
          "output_type": "stream",
          "name": "stdout",
          "text": [
            "Train Split : (175341, 50) (175341, 2)\n",
            "Test Split : (82332, 50) (82332, 2)\n"
          ]
        }
      ]
    },
    {
      "cell_type": "markdown",
      "source": [
        "# Dense Model Training"
      ],
      "metadata": {
        "id": "TCMNbkTqsRSO"
      }
    },
    {
      "cell_type": "markdown",
      "source": [
        "## Dense Model #1"
      ],
      "metadata": {
        "id": "pPlD_nNWRs_z"
      }
    },
    {
      "cell_type": "code",
      "source": [
        "print(x_train2.shape, y_train2.shape)\n",
        "print(x_test2.shape, y_test2.shape)"
      ],
      "metadata": {
        "colab": {
          "base_uri": "https://localhost:8080/"
        },
        "id": "6KHEWJETvEV7",
        "outputId": "ba85052e-c9bd-4cda-f2b2-4c0abab8cca8"
      },
      "execution_count": null,
      "outputs": [
        {
          "output_type": "stream",
          "name": "stdout",
          "text": [
            "(175341, 50) (175341, 2)\n",
            "(82332, 50) (82332, 2)\n"
          ]
        }
      ]
    },
    {
      "cell_type": "code",
      "source": [
        "# Define ModelCheckpoint outside the loop\n",
        "# filepath = '/content/drive/MyDrive/CS/intelligent-systems/p2/best_weights.keras'\n",
        "filepath = './best_weights.keras'\n",
        "\n",
        "\n",
        "checkpointer = ModelCheckpoint(filepath=filepath, verbose=0, save_best_only=True) # save best model\n",
        "\n",
        "# otherwise new model will override after each loop\n",
        "for i in range(5):\n",
        "    print(i)\n",
        "\n",
        "    # Build network\n",
        "    model = Sequential()\n",
        "    model.add(Dense(20, input_dim=x_train2.shape[1], activation='relu'))\n",
        "    model.add(Dense(10, activation='relu'))\n",
        "    model.add(Dense(y_train2.shape[1], activation='softmax'))\n",
        "    model.compile(loss='categorical_crossentropy', optimizer='adam', metrics=['accuracy'])\n",
        "\n",
        "    monitor = EarlyStopping(monitor='val_loss', min_delta=1e-3, patience=5, verbose=1, mode='auto')\n",
        "\n",
        "    # add early stopping within the loop\n",
        "    model.fit(x_train2,y_train2,validation_data=(x_test2,y_test2),callbacks=[monitor,checkpointer],verbose=2,epochs=100)\n",
        "\n",
        "\n",
        "print('Training finished...Loading the best model')\n",
        "print()\n",
        "model.load_weights('./best_weights.keras') # load weights from best model\n",
        "\n",
        "# Measure accuracy\n",
        "pred = model.predict(x_test2)\n",
        "pred = np.argmax(pred,axis=1)\n",
        "\n",
        "y_true = np.argmax(y_test2,axis=1)\n",
        "\n",
        "score = metrics.accuracy_score(y_true, pred)"
      ],
      "metadata": {
        "id": "4XoMq30kwSh1",
        "colab": {
          "base_uri": "https://localhost:8080/",
          "height": 515
        },
        "outputId": "bd72ec51-3712-4e54-881c-bd977b0701c8"
      },
      "execution_count": null,
      "outputs": [
        {
          "output_type": "stream",
          "name": "stdout",
          "text": [
            "0\n"
          ]
        },
        {
          "output_type": "stream",
          "name": "stderr",
          "text": [
            "/usr/local/lib/python3.10/dist-packages/keras/src/layers/core/dense.py:87: UserWarning: Do not pass an `input_shape`/`input_dim` argument to a layer. When using Sequential models, prefer using an `Input(shape)` object as the first layer in the model instead.\n",
            "  super().__init__(activity_regularizer=activity_regularizer, **kwargs)\n"
          ]
        },
        {
          "output_type": "stream",
          "name": "stdout",
          "text": [
            "Epoch 1/100\n",
            "5480/5480 - 18s - 3ms/step - accuracy: 0.8401 - loss: 11502.7656 - val_accuracy: 0.7425 - val_loss: 36.7234\n",
            "Epoch 2/100\n",
            "5480/5480 - 14s - 3ms/step - accuracy: 0.8702 - loss: 27.2310 - val_accuracy: 0.7187 - val_loss: 3.2978\n",
            "Epoch 3/100\n"
          ]
        },
        {
          "output_type": "error",
          "ename": "KeyboardInterrupt",
          "evalue": "",
          "traceback": [
            "\u001b[0;31m---------------------------------------------------------------------------\u001b[0m",
            "\u001b[0;31mKeyboardInterrupt\u001b[0m                         Traceback (most recent call last)",
            "\u001b[0;32m<ipython-input-32-ba218897675a>\u001b[0m in \u001b[0;36m<cell line: 9>\u001b[0;34m()\u001b[0m\n\u001b[1;32m     20\u001b[0m \u001b[0;34m\u001b[0m\u001b[0m\n\u001b[1;32m     21\u001b[0m     \u001b[0;31m# add early stopping within the loop\u001b[0m\u001b[0;34m\u001b[0m\u001b[0;34m\u001b[0m\u001b[0m\n\u001b[0;32m---> 22\u001b[0;31m     \u001b[0mmodel\u001b[0m\u001b[0;34m.\u001b[0m\u001b[0mfit\u001b[0m\u001b[0;34m(\u001b[0m\u001b[0mx_train2\u001b[0m\u001b[0;34m,\u001b[0m\u001b[0my_train2\u001b[0m\u001b[0;34m,\u001b[0m\u001b[0mvalidation_data\u001b[0m\u001b[0;34m=\u001b[0m\u001b[0;34m(\u001b[0m\u001b[0mx_test2\u001b[0m\u001b[0;34m,\u001b[0m\u001b[0my_test2\u001b[0m\u001b[0;34m)\u001b[0m\u001b[0;34m,\u001b[0m\u001b[0mcallbacks\u001b[0m\u001b[0;34m=\u001b[0m\u001b[0;34m[\u001b[0m\u001b[0mmonitor\u001b[0m\u001b[0;34m,\u001b[0m\u001b[0mcheckpointer\u001b[0m\u001b[0;34m]\u001b[0m\u001b[0;34m,\u001b[0m\u001b[0mverbose\u001b[0m\u001b[0;34m=\u001b[0m\u001b[0;36m2\u001b[0m\u001b[0;34m,\u001b[0m\u001b[0mepochs\u001b[0m\u001b[0;34m=\u001b[0m\u001b[0;36m100\u001b[0m\u001b[0;34m)\u001b[0m\u001b[0;34m\u001b[0m\u001b[0;34m\u001b[0m\u001b[0m\n\u001b[0m\u001b[1;32m     23\u001b[0m \u001b[0;34m\u001b[0m\u001b[0m\n\u001b[1;32m     24\u001b[0m \u001b[0;34m\u001b[0m\u001b[0m\n",
            "\u001b[0;32m/usr/local/lib/python3.10/dist-packages/keras/src/utils/traceback_utils.py\u001b[0m in \u001b[0;36merror_handler\u001b[0;34m(*args, **kwargs)\u001b[0m\n\u001b[1;32m    115\u001b[0m         \u001b[0mfiltered_tb\u001b[0m \u001b[0;34m=\u001b[0m \u001b[0;32mNone\u001b[0m\u001b[0;34m\u001b[0m\u001b[0;34m\u001b[0m\u001b[0m\n\u001b[1;32m    116\u001b[0m         \u001b[0;32mtry\u001b[0m\u001b[0;34m:\u001b[0m\u001b[0;34m\u001b[0m\u001b[0;34m\u001b[0m\u001b[0m\n\u001b[0;32m--> 117\u001b[0;31m             \u001b[0;32mreturn\u001b[0m \u001b[0mfn\u001b[0m\u001b[0;34m(\u001b[0m\u001b[0;34m*\u001b[0m\u001b[0margs\u001b[0m\u001b[0;34m,\u001b[0m \u001b[0;34m**\u001b[0m\u001b[0mkwargs\u001b[0m\u001b[0;34m)\u001b[0m\u001b[0;34m\u001b[0m\u001b[0;34m\u001b[0m\u001b[0m\n\u001b[0m\u001b[1;32m    118\u001b[0m         \u001b[0;32mexcept\u001b[0m \u001b[0mException\u001b[0m \u001b[0;32mas\u001b[0m \u001b[0me\u001b[0m\u001b[0;34m:\u001b[0m\u001b[0;34m\u001b[0m\u001b[0;34m\u001b[0m\u001b[0m\n\u001b[1;32m    119\u001b[0m             \u001b[0mfiltered_tb\u001b[0m \u001b[0;34m=\u001b[0m \u001b[0m_process_traceback_frames\u001b[0m\u001b[0;34m(\u001b[0m\u001b[0me\u001b[0m\u001b[0;34m.\u001b[0m\u001b[0m__traceback__\u001b[0m\u001b[0;34m)\u001b[0m\u001b[0;34m\u001b[0m\u001b[0;34m\u001b[0m\u001b[0m\n",
            "\u001b[0;32m/usr/local/lib/python3.10/dist-packages/keras/src/backend/tensorflow/trainer.py\u001b[0m in \u001b[0;36mfit\u001b[0;34m(self, x, y, batch_size, epochs, verbose, callbacks, validation_split, validation_data, shuffle, class_weight, sample_weight, initial_epoch, steps_per_epoch, validation_steps, validation_batch_size, validation_freq)\u001b[0m\n\u001b[1;32m    315\u001b[0m             \u001b[0;32mwith\u001b[0m \u001b[0mepoch_iterator\u001b[0m\u001b[0;34m.\u001b[0m\u001b[0mcatch_stop_iteration\u001b[0m\u001b[0;34m(\u001b[0m\u001b[0;34m)\u001b[0m\u001b[0;34m:\u001b[0m\u001b[0;34m\u001b[0m\u001b[0;34m\u001b[0m\u001b[0m\n\u001b[1;32m    316\u001b[0m                 \u001b[0;32mfor\u001b[0m \u001b[0mstep\u001b[0m\u001b[0;34m,\u001b[0m \u001b[0miterator\u001b[0m \u001b[0;32min\u001b[0m \u001b[0mepoch_iterator\u001b[0m\u001b[0;34m.\u001b[0m\u001b[0menumerate_epoch\u001b[0m\u001b[0;34m(\u001b[0m\u001b[0;34m)\u001b[0m\u001b[0;34m:\u001b[0m\u001b[0;34m\u001b[0m\u001b[0;34m\u001b[0m\u001b[0m\n\u001b[0;32m--> 317\u001b[0;31m                     \u001b[0mcallbacks\u001b[0m\u001b[0;34m.\u001b[0m\u001b[0mon_train_batch_begin\u001b[0m\u001b[0;34m(\u001b[0m\u001b[0mstep\u001b[0m\u001b[0;34m)\u001b[0m\u001b[0;34m\u001b[0m\u001b[0;34m\u001b[0m\u001b[0m\n\u001b[0m\u001b[1;32m    318\u001b[0m                     \u001b[0mlogs\u001b[0m \u001b[0;34m=\u001b[0m \u001b[0mself\u001b[0m\u001b[0;34m.\u001b[0m\u001b[0mtrain_function\u001b[0m\u001b[0;34m(\u001b[0m\u001b[0miterator\u001b[0m\u001b[0;34m)\u001b[0m\u001b[0;34m\u001b[0m\u001b[0;34m\u001b[0m\u001b[0m\n\u001b[1;32m    319\u001b[0m                     \u001b[0mlogs\u001b[0m \u001b[0;34m=\u001b[0m \u001b[0mself\u001b[0m\u001b[0;34m.\u001b[0m\u001b[0m_pythonify_logs\u001b[0m\u001b[0;34m(\u001b[0m\u001b[0mlogs\u001b[0m\u001b[0;34m)\u001b[0m\u001b[0;34m\u001b[0m\u001b[0;34m\u001b[0m\u001b[0m\n",
            "\u001b[0;32m/usr/local/lib/python3.10/dist-packages/keras/src/callbacks/callback_list.py\u001b[0m in \u001b[0;36mon_train_batch_begin\u001b[0;34m(self, batch, logs)\u001b[0m\n\u001b[1;32m     96\u001b[0m             \u001b[0mcallback\u001b[0m\u001b[0;34m.\u001b[0m\u001b[0mon_epoch_end\u001b[0m\u001b[0;34m(\u001b[0m\u001b[0mepoch\u001b[0m\u001b[0;34m,\u001b[0m \u001b[0mlogs\u001b[0m\u001b[0;34m)\u001b[0m\u001b[0;34m\u001b[0m\u001b[0;34m\u001b[0m\u001b[0m\n\u001b[1;32m     97\u001b[0m \u001b[0;34m\u001b[0m\u001b[0m\n\u001b[0;32m---> 98\u001b[0;31m     \u001b[0;32mdef\u001b[0m \u001b[0mon_train_batch_begin\u001b[0m\u001b[0;34m(\u001b[0m\u001b[0mself\u001b[0m\u001b[0;34m,\u001b[0m \u001b[0mbatch\u001b[0m\u001b[0;34m,\u001b[0m \u001b[0mlogs\u001b[0m\u001b[0;34m=\u001b[0m\u001b[0;32mNone\u001b[0m\u001b[0;34m)\u001b[0m\u001b[0;34m:\u001b[0m\u001b[0;34m\u001b[0m\u001b[0;34m\u001b[0m\u001b[0m\n\u001b[0m\u001b[1;32m     99\u001b[0m         \u001b[0mlogs\u001b[0m \u001b[0;34m=\u001b[0m \u001b[0mlogs\u001b[0m \u001b[0;32mor\u001b[0m \u001b[0;34m{\u001b[0m\u001b[0;34m}\u001b[0m\u001b[0;34m\u001b[0m\u001b[0;34m\u001b[0m\u001b[0m\n\u001b[1;32m    100\u001b[0m         \u001b[0;32mfor\u001b[0m \u001b[0mcallback\u001b[0m \u001b[0;32min\u001b[0m \u001b[0mself\u001b[0m\u001b[0;34m.\u001b[0m\u001b[0mcallbacks\u001b[0m\u001b[0;34m:\u001b[0m\u001b[0;34m\u001b[0m\u001b[0;34m\u001b[0m\u001b[0m\n",
            "\u001b[0;31mKeyboardInterrupt\u001b[0m: "
          ]
        }
      ]
    },
    {
      "cell_type": "code",
      "source": [
        "print(\"Final accuracy: {}\".format(score))\n",
        "print(classification_report(y_true, pred))"
      ],
      "metadata": {
        "colab": {
          "base_uri": "https://localhost:8080/"
        },
        "id": "TZ0I4r3BCG91",
        "outputId": "8a44495f-f70d-42a1-e25d-72abe3a61663"
      },
      "execution_count": null,
      "outputs": [
        {
          "output_type": "stream",
          "name": "stdout",
          "text": [
            "Final accuracy: 0.7389957732109022\n",
            "              precision    recall  f1-score   support\n",
            "\n",
            "           0       0.99      0.42      0.59     37000\n",
            "           1       0.68      1.00      0.81     45332\n",
            "\n",
            "    accuracy                           0.74     82332\n",
            "   macro avg       0.84      0.71      0.70     82332\n",
            "weighted avg       0.82      0.74      0.71     82332\n",
            "\n"
          ]
        }
      ]
    },
    {
      "cell_type": "markdown",
      "source": [
        "## Dense Model #2"
      ],
      "metadata": {
        "id": "KDne4WB9Ry-p"
      }
    },
    {
      "cell_type": "code",
      "source": [
        "# Define ModelCheckpoint outside the loop\n",
        "# filepath = '/content/drive/MyDrive/CS/intelligent-systems/p2/best_weights.keras'\n",
        "filepath = './best_weights2.keras'\n",
        "\n",
        "\n",
        "checkpointer = ModelCheckpoint(filepath=filepath, verbose=0, save_best_only=True) # save best model\n",
        "\n",
        "# otherwise new model will override after each loop\n",
        "for i in range(5):\n",
        "    print(i)\n",
        "\n",
        "    # Build network\n",
        "    model = Sequential()\n",
        "    model.add(Dense(128, input_dim=x_train2.shape[1], activation='sigmoid'))\n",
        "    model.add(Dense(64, activation='sigmoid'))\n",
        "    model.add(Dense(32, activation='sigmoid'))\n",
        "    model.add(Dense(y_train2.shape[1], activation='softmax'))\n",
        "    model.compile(loss='categorical_crossentropy', optimizer='adam', metrics=['accuracy'])\n",
        "\n",
        "    monitor = EarlyStopping(monitor='val_loss', min_delta=1e-3, patience=5, verbose=1, mode='auto')\n",
        "\n",
        "    # add early stopping within the loop\n",
        "    model.fit(x_train2,y_train2,validation_data=(x_test2,y_test2),callbacks=[monitor,checkpointer],verbose=2,epochs=100)\n",
        "\n",
        "\n",
        "print('Training finished...Loading the best model')\n",
        "print()\n",
        "model.load_weights('./best_weights2.keras') # load weights from best model\n",
        "\n",
        "# Measure accuracy\n",
        "pred2 = model.predict(x_test2)\n",
        "pred2 = np.argmax(pred2,axis=1)\n",
        "\n",
        "y_true2 = np.argmax(y_test2,axis=1)\n",
        "\n",
        "score2 = metrics.accuracy_score(y_true2, pred2)"
      ],
      "metadata": {
        "id": "Nx5IUyIRRyg6",
        "colab": {
          "base_uri": "https://localhost:8080/"
        },
        "outputId": "f1d8a790-d9e9-49c7-cae3-851577c619f7"
      },
      "execution_count": null,
      "outputs": [
        {
          "output_type": "stream",
          "name": "stdout",
          "text": [
            "0\n",
            "Epoch 1/100\n"
          ]
        },
        {
          "output_type": "stream",
          "name": "stderr",
          "text": [
            "/usr/local/lib/python3.10/dist-packages/keras/src/layers/core/dense.py:87: UserWarning: Do not pass an `input_shape`/`input_dim` argument to a layer. When using Sequential models, prefer using an `Input(shape)` object as the first layer in the model instead.\n",
            "  super().__init__(activity_regularizer=activity_regularizer, **kwargs)\n"
          ]
        },
        {
          "output_type": "stream",
          "name": "stdout",
          "text": [
            "5480/5480 - 15s - 3ms/step - loss: 0.3494 - val_loss: 0.5432\n",
            "Epoch 2/100\n",
            "5480/5480 - 18s - 3ms/step - loss: 0.3403 - val_loss: 0.5315\n",
            "Epoch 3/100\n",
            "5480/5480 - 22s - 4ms/step - loss: 0.3334 - val_loss: 0.5734\n",
            "Epoch 4/100\n",
            "5480/5480 - 12s - 2ms/step - loss: 0.3367 - val_loss: 0.5525\n",
            "Epoch 5/100\n",
            "5480/5480 - 19s - 4ms/step - loss: 0.3236 - val_loss: 0.5167\n",
            "Epoch 6/100\n",
            "5480/5480 - 14s - 2ms/step - loss: 0.3090 - val_loss: 0.6050\n",
            "Epoch 7/100\n",
            "5480/5480 - 11s - 2ms/step - loss: 0.3107 - val_loss: 0.5642\n",
            "Epoch 8/100\n",
            "5480/5480 - 9s - 2ms/step - loss: 0.3014 - val_loss: 0.5345\n",
            "Epoch 9/100\n",
            "5480/5480 - 12s - 2ms/step - loss: 0.3054 - val_loss: 0.5441\n",
            "Epoch 10/100\n",
            "5480/5480 - 11s - 2ms/step - loss: 0.3037 - val_loss: 0.5242\n",
            "Epoch 10: early stopping\n",
            "1\n",
            "Epoch 1/100\n",
            "5480/5480 - 13s - 2ms/step - loss: 0.3623 - val_loss: 0.5273\n",
            "Epoch 2/100\n",
            "5480/5480 - 20s - 4ms/step - loss: 0.3171 - val_loss: 0.5166\n",
            "Epoch 3/100\n",
            "5480/5480 - 21s - 4ms/step - loss: 0.3048 - val_loss: 0.5729\n",
            "Epoch 4/100\n",
            "5480/5480 - 9s - 2ms/step - loss: 0.3028 - val_loss: 0.5401\n",
            "Epoch 5/100\n",
            "5480/5480 - 12s - 2ms/step - loss: 0.3065 - val_loss: 0.5367\n",
            "Epoch 6/100\n",
            "5480/5480 - 11s - 2ms/step - loss: 0.3169 - val_loss: 0.5775\n",
            "Epoch 7/100\n",
            "5480/5480 - 19s - 3ms/step - loss: 0.3287 - val_loss: 0.5812\n",
            "Epoch 7: early stopping\n",
            "2\n",
            "Epoch 1/100\n",
            "5480/5480 - 12s - 2ms/step - loss: 0.3484 - val_loss: 0.5345\n",
            "Epoch 2/100\n",
            "5480/5480 - 12s - 2ms/step - loss: 0.3220 - val_loss: 0.5684\n",
            "Epoch 3/100\n",
            "5480/5480 - 18s - 3ms/step - loss: 0.3243 - val_loss: 0.5987\n",
            "Epoch 4/100\n",
            "5480/5480 - 12s - 2ms/step - loss: 0.3320 - val_loss: 0.5472\n",
            "Epoch 5/100\n",
            "5480/5480 - 21s - 4ms/step - loss: 0.3266 - val_loss: 0.5494\n",
            "Epoch 6/100\n",
            "5480/5480 - 20s - 4ms/step - loss: 0.3054 - val_loss: 0.5547\n",
            "Epoch 6: early stopping\n",
            "3\n",
            "Epoch 1/100\n",
            "5480/5480 - 14s - 2ms/step - loss: 0.3525 - val_loss: 0.5645\n",
            "Epoch 2/100\n",
            "5480/5480 - 12s - 2ms/step - loss: 0.3216 - val_loss: 0.5378\n",
            "Epoch 3/100\n",
            "5480/5480 - 20s - 4ms/step - loss: 0.3405 - val_loss: 0.5873\n",
            "Epoch 4/100\n",
            "5480/5480 - 11s - 2ms/step - loss: 0.3335 - val_loss: 0.5784\n",
            "Epoch 5/100\n",
            "5480/5480 - 12s - 2ms/step - loss: 0.3247 - val_loss: 0.5428\n",
            "Epoch 6/100\n",
            "5480/5480 - 20s - 4ms/step - loss: 0.3094 - val_loss: 0.5159\n",
            "Epoch 7/100\n",
            "5480/5480 - 11s - 2ms/step - loss: 0.3037 - val_loss: 0.6171\n",
            "Epoch 8/100\n",
            "5480/5480 - 12s - 2ms/step - loss: 0.3140 - val_loss: 0.5800\n",
            "Epoch 9/100\n",
            "5480/5480 - 20s - 4ms/step - loss: 0.3114 - val_loss: 0.5980\n",
            "Epoch 10/100\n",
            "5480/5480 - 12s - 2ms/step - loss: 0.3180 - val_loss: 0.5619\n",
            "Epoch 11/100\n",
            "5480/5480 - 19s - 3ms/step - loss: 0.3187 - val_loss: 0.6155\n",
            "Epoch 11: early stopping\n",
            "4\n",
            "Epoch 1/100\n",
            "5480/5480 - 13s - 2ms/step - loss: 0.3470 - val_loss: 0.5805\n",
            "Epoch 2/100\n",
            "5480/5480 - 12s - 2ms/step - loss: 0.3295 - val_loss: 0.5848\n",
            "Epoch 3/100\n",
            "5480/5480 - 18s - 3ms/step - loss: 0.3288 - val_loss: 0.6258\n",
            "Epoch 4/100\n",
            "5480/5480 - 11s - 2ms/step - loss: 0.3233 - val_loss: 0.5572\n",
            "Epoch 5/100\n",
            "5480/5480 - 13s - 2ms/step - loss: 0.3313 - val_loss: 0.5692\n",
            "Epoch 6/100\n",
            "5480/5480 - 11s - 2ms/step - loss: 0.3159 - val_loss: 0.5517\n",
            "Epoch 7/100\n",
            "5480/5480 - 9s - 2ms/step - loss: 0.3153 - val_loss: 0.5368\n",
            "Epoch 8/100\n",
            "5480/5480 - 11s - 2ms/step - loss: 0.3113 - val_loss: 0.5980\n",
            "Epoch 9/100\n",
            "5480/5480 - 11s - 2ms/step - loss: 0.3092 - val_loss: 0.5832\n",
            "Epoch 10/100\n",
            "5480/5480 - 12s - 2ms/step - loss: 0.3003 - val_loss: 0.5540\n",
            "Epoch 11/100\n",
            "5480/5480 - 20s - 4ms/step - loss: 0.3089 - val_loss: 0.5377\n",
            "Epoch 12/100\n",
            "5480/5480 - 21s - 4ms/step - loss: 0.3168 - val_loss: 0.5638\n",
            "Epoch 12: early stopping\n",
            "Training finished...Loading the best model\n",
            "\n",
            "\u001b[1m2573/2573\u001b[0m \u001b[32m━━━━━━━━━━━━━━━━━━━━\u001b[0m\u001b[37m\u001b[0m \u001b[1m3s\u001b[0m 1ms/step\n"
          ]
        }
      ]
    },
    {
      "cell_type": "code",
      "source": [
        "print(\"Final accuracy: {}\".format(score2))\n",
        "print(classification_report(y_true2, pred2))"
      ],
      "metadata": {
        "id": "rcBjQjdfSMjQ",
        "colab": {
          "base_uri": "https://localhost:8080/"
        },
        "outputId": "b7680cd0-f477-4386-ad65-16acf1f04aab"
      },
      "execution_count": null,
      "outputs": [
        {
          "output_type": "stream",
          "name": "stdout",
          "text": [
            "Final accuracy: 0.7284409464120877\n",
            "              precision    recall  f1-score   support\n",
            "\n",
            "           0       0.85      0.48      0.61     37000\n",
            "           1       0.69      0.93      0.79     45332\n",
            "\n",
            "    accuracy                           0.73     82332\n",
            "   macro avg       0.77      0.71      0.70     82332\n",
            "weighted avg       0.76      0.73      0.71     82332\n",
            "\n"
          ]
        }
      ]
    },
    {
      "cell_type": "markdown",
      "source": [
        "## Dense Model #3"
      ],
      "metadata": {
        "id": "GaYfUrudxYEx"
      }
    },
    {
      "cell_type": "code",
      "source": [
        "# Define ModelCheckpoint outside the loop\n",
        "# filepath = '/content/drive/MyDrive/CS/intelligent-systems/p2/best_weights.keras'\n",
        "filepath = './best_weights3.keras'\n",
        "\n",
        "\n",
        "checkpointer = ModelCheckpoint(filepath=filepath, verbose=0, save_best_only=True) # save best model\n",
        "\n",
        "# otherwise new model will override after each loop\n",
        "for i in range(5):\n",
        "    print(i)\n",
        "\n",
        "    # Build network\n",
        "    model = Sequential()\n",
        "    model.add(Dense(64, input_dim=x_train2.shape[1], activation='relu'))\n",
        "    model.add(Dense(32, activation='relu'))\n",
        "    model.add(Dense(16, activation='sigmoid'))\n",
        "    model.add(Dense(y_train2.shape[1], activation='softmax'))\n",
        "    model.compile(loss='categorical_crossentropy', optimizer='adam', metrics=['accuracy'])\n",
        "\n",
        "    monitor = EarlyStopping(monitor='val_loss', min_delta=1e-3, patience=5, verbose=1, mode='auto')\n",
        "\n",
        "    # add early stopping within the loop\n",
        "    model.fit(x_train2,y_train2,validation_data=(x_test2,y_test2),callbacks=[monitor,checkpointer],verbose=2,epochs=100)\n",
        "\n",
        "\n",
        "print('Training finished...Loading the best model')\n",
        "print()\n",
        "model.load_weights('./best_weights3.keras') # load weights from best model\n",
        "\n",
        "# Measure accuracy\n",
        "pred3 = model.predict(x_test2)\n",
        "pred3 = np.argmax(pred3,axis=1)\n",
        "\n",
        "y_true3 = np.argmax(y_test2,axis=1)\n",
        "\n",
        "score = metrics.accuracy_score(y_true3, pred3)"
      ],
      "metadata": {
        "colab": {
          "base_uri": "https://localhost:8080/"
        },
        "id": "Y7SMg3rixXIa",
        "outputId": "a7c7866c-6a54-4361-ccca-01b707f89094"
      },
      "execution_count": null,
      "outputs": [
        {
          "output_type": "stream",
          "name": "stdout",
          "text": [
            "0\n"
          ]
        },
        {
          "output_type": "stream",
          "name": "stderr",
          "text": [
            "/usr/local/lib/python3.10/dist-packages/keras/src/layers/core/dense.py:87: UserWarning: Do not pass an `input_shape`/`input_dim` argument to a layer. When using Sequential models, prefer using an `Input(shape)` object as the first layer in the model instead.\n",
            "  super().__init__(activity_regularizer=activity_regularizer, **kwargs)\n"
          ]
        },
        {
          "output_type": "stream",
          "name": "stdout",
          "text": [
            "Epoch 1/100\n",
            "5480/5480 - 36s - 7ms/step - accuracy: 0.8204 - loss: 0.4522 - val_accuracy: 0.6877 - val_loss: 0.6789\n",
            "Epoch 2/100\n",
            "5480/5480 - 21s - 4ms/step - accuracy: 0.7245 - loss: 0.5703 - val_accuracy: 0.5626 - val_loss: 0.7914\n",
            "Epoch 3/100\n",
            "5480/5480 - 20s - 4ms/step - accuracy: 0.7021 - loss: 0.6020 - val_accuracy: 0.5627 - val_loss: 0.7082\n",
            "Epoch 4/100\n",
            "5480/5480 - 11s - 2ms/step - accuracy: 0.6967 - loss: 0.6057 - val_accuracy: 0.5626 - val_loss: 0.7170\n",
            "Epoch 5/100\n",
            "5480/5480 - 21s - 4ms/step - accuracy: 0.6983 - loss: 0.5869 - val_accuracy: 0.5625 - val_loss: 0.7140\n",
            "Epoch 6/100\n",
            "5480/5480 - 21s - 4ms/step - accuracy: 0.6976 - loss: 0.5960 - val_accuracy: 0.5625 - val_loss: 0.7187\n",
            "Epoch 6: early stopping\n",
            "1\n",
            "Epoch 1/100\n",
            "5480/5480 - 13s - 2ms/step - accuracy: 0.7492 - loss: 0.5457 - val_accuracy: 0.7021 - val_loss: 0.6501\n",
            "Epoch 2/100\n",
            "5480/5480 - 9s - 2ms/step - accuracy: 0.7117 - loss: 0.5888 - val_accuracy: 0.5626 - val_loss: 0.7317\n",
            "Epoch 3/100\n",
            "5480/5480 - 12s - 2ms/step - accuracy: 0.6792 - loss: 0.6322 - val_accuracy: 0.5615 - val_loss: 0.7598\n",
            "Epoch 4/100\n",
            "5480/5480 - 11s - 2ms/step - accuracy: 0.6932 - loss: 0.6131 - val_accuracy: 0.5506 - val_loss: 0.7309\n",
            "Epoch 5/100\n",
            "5480/5480 - 9s - 2ms/step - accuracy: 0.6865 - loss: 0.6267 - val_accuracy: 0.5596 - val_loss: 0.7095\n",
            "Epoch 6/100\n",
            "5480/5480 - 11s - 2ms/step - accuracy: 0.7405 - loss: 0.5553 - val_accuracy: 0.5684 - val_loss: 0.7806\n",
            "Epoch 6: early stopping\n",
            "2\n",
            "Epoch 1/100\n",
            "5480/5480 - 13s - 2ms/step - accuracy: 0.7993 - loss: 0.4891 - val_accuracy: 0.5920 - val_loss: 0.5704\n",
            "Epoch 2/100\n",
            "5480/5480 - 18s - 3ms/step - accuracy: 0.7266 - loss: 0.5288 - val_accuracy: 0.5622 - val_loss: 0.7082\n",
            "Epoch 3/100\n",
            "5480/5480 - 10s - 2ms/step - accuracy: 0.6973 - loss: 0.6060 - val_accuracy: 0.5622 - val_loss: 0.7270\n",
            "Epoch 4/100\n",
            "5480/5480 - 11s - 2ms/step - accuracy: 0.7022 - loss: 0.6025 - val_accuracy: 0.5622 - val_loss: 0.7209\n",
            "Epoch 5/100\n",
            "5480/5480 - 11s - 2ms/step - accuracy: 0.6960 - loss: 0.6091 - val_accuracy: 0.5614 - val_loss: 0.7282\n",
            "Epoch 6/100\n",
            "5480/5480 - 9s - 2ms/step - accuracy: 0.6967 - loss: 0.6063 - val_accuracy: 0.5614 - val_loss: 0.7130\n",
            "Epoch 6: early stopping\n",
            "3\n",
            "Epoch 1/100\n",
            "5480/5480 - 12s - 2ms/step - accuracy: 0.7385 - loss: 0.5578 - val_accuracy: 0.5625 - val_loss: 0.7120\n",
            "Epoch 2/100\n",
            "5480/5480 - 11s - 2ms/step - accuracy: 0.6970 - loss: 0.6006 - val_accuracy: 0.5636 - val_loss: 0.7197\n",
            "Epoch 3/100\n",
            "5480/5480 - 12s - 2ms/step - accuracy: 0.7290 - loss: 0.5593 - val_accuracy: 0.5628 - val_loss: 0.7101\n",
            "Epoch 4/100\n",
            "5480/5480 - 12s - 2ms/step - accuracy: 0.7441 - loss: 0.5507 - val_accuracy: 0.6905 - val_loss: 0.6539\n",
            "Epoch 5/100\n",
            "5480/5480 - 9s - 2ms/step - accuracy: 0.7190 - loss: 0.5824 - val_accuracy: 0.5624 - val_loss: 0.7168\n",
            "Epoch 6/100\n",
            "5480/5480 - 11s - 2ms/step - accuracy: 0.6970 - loss: 0.6046 - val_accuracy: 0.5626 - val_loss: 0.7208\n",
            "Epoch 7/100\n",
            "5480/5480 - 19s - 3ms/step - accuracy: 0.7264 - loss: 0.5778 - val_accuracy: 0.6135 - val_loss: 0.6973\n",
            "Epoch 8/100\n",
            "5480/5480 - 11s - 2ms/step - accuracy: 0.7014 - loss: 0.6030 - val_accuracy: 0.5619 - val_loss: 0.7187\n",
            "Epoch 9/100\n",
            "5480/5480 - 11s - 2ms/step - accuracy: 0.6970 - loss: 0.6073 - val_accuracy: 0.5626 - val_loss: 0.7078\n",
            "Epoch 9: early stopping\n",
            "4\n",
            "Epoch 1/100\n",
            "5480/5480 - 13s - 2ms/step - accuracy: 0.6852 - loss: 0.6198 - val_accuracy: 0.5690 - val_loss: 0.7261\n",
            "Epoch 2/100\n",
            "5480/5480 - 20s - 4ms/step - accuracy: 0.6964 - loss: 0.6083 - val_accuracy: 0.5631 - val_loss: 0.7439\n",
            "Epoch 3/100\n",
            "5480/5480 - 21s - 4ms/step - accuracy: 0.6975 - loss: 0.6079 - val_accuracy: 0.5671 - val_loss: 0.7213\n",
            "Epoch 4/100\n",
            "5480/5480 - 20s - 4ms/step - accuracy: 0.6961 - loss: 0.6098 - val_accuracy: 0.5614 - val_loss: 0.7306\n",
            "Epoch 5/100\n",
            "5480/5480 - 11s - 2ms/step - accuracy: 0.6958 - loss: 0.6096 - val_accuracy: 0.5621 - val_loss: 0.7193\n",
            "Epoch 6/100\n",
            "5480/5480 - 9s - 2ms/step - accuracy: 0.6966 - loss: 0.6088 - val_accuracy: 0.5628 - val_loss: 0.7280\n",
            "Epoch 7/100\n",
            "5480/5480 - 11s - 2ms/step - accuracy: 0.6974 - loss: 0.6092 - val_accuracy: 0.5622 - val_loss: 0.7135\n",
            "Epoch 8/100\n",
            "5480/5480 - 11s - 2ms/step - accuracy: 0.6967 - loss: 0.6088 - val_accuracy: 0.5622 - val_loss: 0.7296\n",
            "Epoch 9/100\n",
            "5480/5480 - 20s - 4ms/step - accuracy: 0.6967 - loss: 0.6087 - val_accuracy: 0.5625 - val_loss: 0.7419\n",
            "Epoch 10/100\n",
            "5480/5480 - 11s - 2ms/step - accuracy: 0.6971 - loss: 0.6086 - val_accuracy: 0.5630 - val_loss: 0.7240\n",
            "Epoch 11/100\n",
            "5480/5480 - 19s - 3ms/step - accuracy: 0.6948 - loss: 0.6112 - val_accuracy: 0.5634 - val_loss: 0.7299\n",
            "Epoch 12/100\n",
            "5480/5480 - 11s - 2ms/step - accuracy: 0.6967 - loss: 0.6095 - val_accuracy: 0.5682 - val_loss: 0.7332\n",
            "Epoch 12: early stopping\n",
            "Training finished...Loading the best model\n",
            "\n",
            "\u001b[1m2573/2573\u001b[0m \u001b[32m━━━━━━━━━━━━━━━━━━━━\u001b[0m\u001b[37m\u001b[0m \u001b[1m3s\u001b[0m 1ms/step\n"
          ]
        }
      ]
    },
    {
      "cell_type": "code",
      "source": [
        "score3 = metrics.accuracy_score(y_true3, pred3)\n",
        "print(\"Final accuracy: {}\".format(score3))\n",
        "print(classification_report(y_true3, pred3))"
      ],
      "metadata": {
        "colab": {
          "base_uri": "https://localhost:8080/"
        },
        "id": "38yrA2Jz5dbJ",
        "outputId": "2c3d19f3-6d76-4823-adea-4548234c6f75"
      },
      "execution_count": null,
      "outputs": [
        {
          "output_type": "stream",
          "name": "stdout",
          "text": [
            "Final accuracy: 0.5920055385512316\n",
            "              precision    recall  f1-score   support\n",
            "\n",
            "           0       0.71      0.16      0.26     37000\n",
            "           1       0.58      0.95      0.72     45332\n",
            "\n",
            "    accuracy                           0.59     82332\n",
            "   macro avg       0.64      0.55      0.49     82332\n",
            "weighted avg       0.64      0.59      0.51     82332\n",
            "\n"
          ]
        }
      ]
    },
    {
      "cell_type": "markdown",
      "source": [
        "## Dense Model #4"
      ],
      "metadata": {
        "id": "jO51Bm-3vfd4"
      }
    },
    {
      "cell_type": "code",
      "source": [
        "# Define ModelCheckpoint outside the loop\n",
        "# filepath = '/content/drive/MyDrive/CS/intelligent-systems/p2/best_weights.keras'\n",
        "filepath = './best_weights4.keras'\n",
        "\n",
        "\n",
        "checkpointer = ModelCheckpoint(filepath=filepath, verbose=0, save_best_only=True) # save best model\n",
        "\n",
        "# otherwise new model will override after each loop\n",
        "for i in range(5):\n",
        "    print(i)\n",
        "\n",
        "    # Build network\n",
        "    model = Sequential()\n",
        "    model.add(Dense(128, input_dim=x_train2.shape[1], activation='tanh'))\n",
        "    model.add(Dense(64, activation='tanh'))\n",
        "    model.add(Dense(32, activation='tanh'))\n",
        "    model.add(Dense(y_train2.shape[1], activation='softmax'))\n",
        "    model.compile(loss='categorical_crossentropy', optimizer='adam', metrics=['accuracy'])\n",
        "\n",
        "    monitor = EarlyStopping(monitor='val_loss', min_delta=1e-3, patience=5, verbose=1, mode='auto')\n",
        "\n",
        "    # add early stopping within the loop\n",
        "    model.fit(x_train2,y_train2,validation_data=(x_test2,y_test2),callbacks=[monitor,checkpointer],verbose=2,epochs=100)\n",
        "\n",
        "\n",
        "print('Training finished...Loading the best model')\n",
        "print()\n",
        "model.load_weights('./best_weights4.keras') # load weights from best model\n",
        "\n",
        "# Measure accuracy\n",
        "pred4 = model.predict(x_test2)\n",
        "pred4 = np.argmax(pred4,axis=1)\n",
        "\n",
        "y_true4 = np.argmax(y_test2,axis=1)\n",
        "\n",
        "score4 = metrics.accuracy_score(y_true4, pred4)"
      ],
      "metadata": {
        "colab": {
          "base_uri": "https://localhost:8080/"
        },
        "id": "GixxCkX_F2s8",
        "outputId": "e041fd5e-3623-4aae-8b03-017e8e2a9c5c"
      },
      "execution_count": null,
      "outputs": [
        {
          "output_type": "stream",
          "name": "stdout",
          "text": [
            "0\n"
          ]
        },
        {
          "output_type": "stream",
          "name": "stderr",
          "text": [
            "/usr/local/lib/python3.10/dist-packages/keras/src/layers/core/dense.py:87: UserWarning: Do not pass an `input_shape`/`input_dim` argument to a layer. When using Sequential models, prefer using an `Input(shape)` object as the first layer in the model instead.\n",
            "  super().__init__(activity_regularizer=activity_regularizer, **kwargs)\n"
          ]
        },
        {
          "output_type": "stream",
          "name": "stdout",
          "text": [
            "Epoch 1/100\n",
            "5480/5480 - 17s - 3ms/step - accuracy: 0.8739 - loss: 0.3150 - val_accuracy: 0.7289 - val_loss: 0.5440\n",
            "Epoch 2/100\n",
            "5480/5480 - 12s - 2ms/step - accuracy: 0.8760 - loss: 0.3094 - val_accuracy: 0.7590 - val_loss: 0.5083\n",
            "Epoch 3/100\n",
            "5480/5480 - 11s - 2ms/step - accuracy: 0.8796 - loss: 0.2992 - val_accuracy: 0.7610 - val_loss: 0.5069\n",
            "Epoch 4/100\n",
            "5480/5480 - 12s - 2ms/step - accuracy: 0.8824 - loss: 0.2950 - val_accuracy: 0.7213 - val_loss: 0.5696\n",
            "Epoch 5/100\n",
            "5480/5480 - 10s - 2ms/step - accuracy: 0.8747 - loss: 0.3073 - val_accuracy: 0.7322 - val_loss: 0.5699\n",
            "Epoch 6/100\n",
            "5480/5480 - 21s - 4ms/step - accuracy: 0.8774 - loss: 0.3087 - val_accuracy: 0.7581 - val_loss: 0.5419\n",
            "Epoch 7/100\n",
            "5480/5480 - 19s - 4ms/step - accuracy: 0.8750 - loss: 0.3140 - val_accuracy: 0.7283 - val_loss: 0.5839\n",
            "Epoch 8/100\n",
            "5480/5480 - 14s - 2ms/step - accuracy: 0.8756 - loss: 0.3099 - val_accuracy: 0.7251 - val_loss: 0.5410\n",
            "Epoch 8: early stopping\n",
            "1\n",
            "Epoch 1/100\n",
            "5480/5480 - 66s - 12ms/step - accuracy: 0.8657 - loss: 0.3264 - val_accuracy: 0.7410 - val_loss: 0.5638\n",
            "Epoch 2/100\n",
            "5480/5480 - 21s - 4ms/step - accuracy: 0.8703 - loss: 0.3170 - val_accuracy: 0.7399 - val_loss: 0.5327\n",
            "Epoch 3/100\n",
            "5480/5480 - 13s - 2ms/step - accuracy: 0.8739 - loss: 0.3148 - val_accuracy: 0.7467 - val_loss: 0.5419\n",
            "Epoch 4/100\n",
            "5480/5480 - 13s - 2ms/step - accuracy: 0.8820 - loss: 0.3015 - val_accuracy: 0.7562 - val_loss: 0.5322\n",
            "Epoch 5/100\n",
            "5480/5480 - 22s - 4ms/step - accuracy: 0.8778 - loss: 0.3076 - val_accuracy: 0.7249 - val_loss: 0.5435\n",
            "Epoch 6/100\n",
            "5480/5480 - 16s - 3ms/step - accuracy: 0.8799 - loss: 0.2960 - val_accuracy: 0.7364 - val_loss: 0.5510\n",
            "Epoch 7/100\n",
            "5480/5480 - 11s - 2ms/step - accuracy: 0.8763 - loss: 0.3048 - val_accuracy: 0.7365 - val_loss: 0.5816\n",
            "Epoch 7: early stopping\n",
            "2\n",
            "Epoch 1/100\n",
            "5480/5480 - 13s - 2ms/step - accuracy: 0.8668 - loss: 0.3401 - val_accuracy: 0.7042 - val_loss: 0.5672\n",
            "Epoch 2/100\n",
            "5480/5480 - 21s - 4ms/step - accuracy: 0.8761 - loss: 0.3221 - val_accuracy: 0.7486 - val_loss: 0.5667\n",
            "Epoch 3/100\n",
            "5480/5480 - 10s - 2ms/step - accuracy: 0.8829 - loss: 0.2985 - val_accuracy: 0.7515 - val_loss: 0.5354\n",
            "Epoch 4/100\n",
            "5480/5480 - 11s - 2ms/step - accuracy: 0.8761 - loss: 0.3075 - val_accuracy: 0.7147 - val_loss: 0.5740\n",
            "Epoch 5/100\n",
            "5480/5480 - 12s - 2ms/step - accuracy: 0.8727 - loss: 0.3163 - val_accuracy: 0.7571 - val_loss: 0.5352\n",
            "Epoch 6/100\n",
            "5480/5480 - 19s - 3ms/step - accuracy: 0.8779 - loss: 0.3071 - val_accuracy: 0.7391 - val_loss: 0.5679\n",
            "Epoch 7/100\n",
            "5480/5480 - 12s - 2ms/step - accuracy: 0.8751 - loss: 0.3082 - val_accuracy: 0.7576 - val_loss: 0.5089\n",
            "Epoch 8/100\n",
            "5480/5480 - 21s - 4ms/step - accuracy: 0.8757 - loss: 0.3147 - val_accuracy: 0.7496 - val_loss: 0.5473\n",
            "Epoch 9/100\n",
            "5480/5480 - 12s - 2ms/step - accuracy: 0.8764 - loss: 0.3123 - val_accuracy: 0.7469 - val_loss: 0.5508\n",
            "Epoch 10/100\n",
            "5480/5480 - 20s - 4ms/step - accuracy: 0.8704 - loss: 0.3219 - val_accuracy: 0.7503 - val_loss: 0.5392\n",
            "Epoch 11/100\n",
            "5480/5480 - 21s - 4ms/step - accuracy: 0.8681 - loss: 0.3199 - val_accuracy: 0.7461 - val_loss: 0.5358\n",
            "Epoch 12/100\n",
            "5480/5480 - 12s - 2ms/step - accuracy: 0.8774 - loss: 0.3157 - val_accuracy: 0.7424 - val_loss: 0.5527\n",
            "Epoch 12: early stopping\n",
            "3\n",
            "Epoch 1/100\n",
            "5480/5480 - 14s - 3ms/step - accuracy: 0.8747 - loss: 0.3131 - val_accuracy: 0.7551 - val_loss: 0.5183\n",
            "Epoch 2/100\n",
            "5480/5480 - 20s - 4ms/step - accuracy: 0.8775 - loss: 0.3064 - val_accuracy: 0.7309 - val_loss: 0.5875\n",
            "Epoch 3/100\n",
            "5480/5480 - 21s - 4ms/step - accuracy: 0.8802 - loss: 0.3064 - val_accuracy: 0.7393 - val_loss: 0.6227\n",
            "Epoch 4/100\n",
            "5480/5480 - 20s - 4ms/step - accuracy: 0.8840 - loss: 0.2960 - val_accuracy: 0.7340 - val_loss: 0.5637\n",
            "Epoch 5/100\n",
            "5480/5480 - 20s - 4ms/step - accuracy: 0.8800 - loss: 0.3066 - val_accuracy: 0.7546 - val_loss: 0.5298\n",
            "Epoch 6/100\n",
            "5480/5480 - 11s - 2ms/step - accuracy: 0.8804 - loss: 0.3074 - val_accuracy: 0.7543 - val_loss: 0.5317\n",
            "Epoch 6: early stopping\n",
            "4\n",
            "Epoch 1/100\n",
            "5480/5480 - 13s - 2ms/step - accuracy: 0.8701 - loss: 0.3234 - val_accuracy: 0.7388 - val_loss: 0.5552\n",
            "Epoch 2/100\n",
            "5480/5480 - 11s - 2ms/step - accuracy: 0.8791 - loss: 0.3052 - val_accuracy: 0.7290 - val_loss: 0.6016\n",
            "Epoch 3/100\n",
            "5480/5480 - 19s - 4ms/step - accuracy: 0.8807 - loss: 0.3005 - val_accuracy: 0.7694 - val_loss: 0.5108\n",
            "Epoch 4/100\n",
            "5480/5480 - 24s - 4ms/step - accuracy: 0.8822 - loss: 0.2971 - val_accuracy: 0.7362 - val_loss: 0.5656\n",
            "Epoch 5/100\n",
            "5480/5480 - 18s - 3ms/step - accuracy: 0.8794 - loss: 0.3045 - val_accuracy: 0.7475 - val_loss: 0.5290\n",
            "Epoch 6/100\n",
            "5480/5480 - 23s - 4ms/step - accuracy: 0.8736 - loss: 0.3181 - val_accuracy: 0.7348 - val_loss: 0.5606\n",
            "Epoch 7/100\n",
            "5480/5480 - 19s - 4ms/step - accuracy: 0.8710 - loss: 0.3182 - val_accuracy: 0.7194 - val_loss: 0.5635\n",
            "Epoch 8/100\n",
            "5480/5480 - 21s - 4ms/step - accuracy: 0.8694 - loss: 0.3247 - val_accuracy: 0.7482 - val_loss: 0.5636\n",
            "Epoch 8: early stopping\n",
            "Training finished...Loading the best model\n",
            "\n",
            "\u001b[1m2573/2573\u001b[0m \u001b[32m━━━━━━━━━━━━━━━━━━━━\u001b[0m\u001b[37m\u001b[0m \u001b[1m4s\u001b[0m 1ms/step\n"
          ]
        }
      ]
    },
    {
      "cell_type": "code",
      "source": [
        "print(\"Final accuracy: {}\".format(score4))\n",
        "print(classification_report(y_true4, pred4))"
      ],
      "metadata": {
        "colab": {
          "base_uri": "https://localhost:8080/"
        },
        "id": "V4JGUPXqKfpW",
        "outputId": "9a4b9c4a-607a-4513-dd13-cb5e8a3431fe"
      },
      "execution_count": null,
      "outputs": [
        {
          "output_type": "stream",
          "name": "stdout",
          "text": [
            "Final accuracy: 0.7609920808434145\n",
            "              precision    recall  f1-score   support\n",
            "\n",
            "           0       0.90      0.52      0.66     37000\n",
            "           1       0.71      0.95      0.81     45332\n",
            "\n",
            "    accuracy                           0.76     82332\n",
            "   macro avg       0.81      0.74      0.74     82332\n",
            "weighted avg       0.80      0.76      0.75     82332\n",
            "\n"
          ]
        }
      ]
    },
    {
      "cell_type": "markdown",
      "source": [
        "## Dense Model #5"
      ],
      "metadata": {
        "id": "KJ5ND_6BvjPj"
      }
    },
    {
      "cell_type": "code",
      "source": [
        "# Define ModelCheckpoint outside the loop\n",
        "# filepath = '/content/drive/MyDrive/CS/intelligent-systems/p2/best_weights.keras'\n",
        "filepath = './best_weights5.keras'\n",
        "\n",
        "\n",
        "checkpointer = ModelCheckpoint(filepath=filepath, verbose=0, save_best_only=True) # save best model\n",
        "\n",
        "# otherwise new model will override after each loop\n",
        "for i in range(5):\n",
        "    print(i)\n",
        "\n",
        "    # Build network\n",
        "    model = Sequential()\n",
        "\n",
        "    model.add(Dense(512, input_dim=x_train2.shape[1], activation='tanh'))\n",
        "\n",
        "    model.add(Dense(64, activation='tanh'))\n",
        "\n",
        "    model.add(Dense(32, activation='tanh'))\n",
        "\n",
        "    model.add(Dense(y_train2.shape[1], activation='softmax'))\n",
        "    model.compile(loss='categorical_crossentropy', optimizer='sgd', metrics=['accuracy'])\n",
        "    monitor = EarlyStopping(monitor='val_loss', min_delta=1e-3, patience=5, verbose=1, mode='auto')\n",
        "    model.fit(x_train2,y_train2,validation_data=(x_test2,y_test2),callbacks=[monitor,checkpointer],verbose=2,epochs=100)\n",
        "\n",
        "\n",
        "print('Training finished...Loading the best model')\n",
        "print()\n",
        "model.load_weights('./best_weights5.keras') # load weights from best model\n",
        "\n",
        "# Measure accuracy\n",
        "pred5 = model.predict(x_test2)\n",
        "pred5 = np.argmax(pred5,axis=1)\n",
        "\n",
        "y_true5 = np.argmax(y_test2,axis=1)\n",
        "\n",
        "score5 = metrics.accuracy_score(y_true5, pred5)"
      ],
      "metadata": {
        "colab": {
          "base_uri": "https://localhost:8080/"
        },
        "id": "rYPo7GHJQpMF",
        "outputId": "77b470c8-9414-4795-be05-12461dfdfab2"
      },
      "execution_count": null,
      "outputs": [
        {
          "output_type": "stream",
          "name": "stdout",
          "text": [
            "0\n"
          ]
        },
        {
          "output_type": "stream",
          "name": "stderr",
          "text": [
            "/usr/local/lib/python3.10/dist-packages/keras/src/layers/core/dense.py:87: UserWarning: Do not pass an `input_shape`/`input_dim` argument to a layer. When using Sequential models, prefer using an `Input(shape)` object as the first layer in the model instead.\n",
            "  super().__init__(activity_regularizer=activity_regularizer, **kwargs)\n"
          ]
        },
        {
          "output_type": "stream",
          "name": "stdout",
          "text": [
            "Epoch 1/100\n",
            "5480/5480 - 19s - 3ms/step - accuracy: 0.8489 - loss: 0.3537 - val_accuracy: 0.6771 - val_loss: 0.6900\n",
            "Epoch 2/100\n",
            "5480/5480 - 17s - 3ms/step - accuracy: 0.8329 - loss: 0.3764 - val_accuracy: 0.6013 - val_loss: 0.7931\n",
            "Epoch 3/100\n",
            "5480/5480 - 14s - 2ms/step - accuracy: 0.8340 - loss: 0.3699 - val_accuracy: 0.7165 - val_loss: 0.5825\n",
            "Epoch 4/100\n",
            "5480/5480 - 21s - 4ms/step - accuracy: 0.8298 - loss: 0.3780 - val_accuracy: 0.7487 - val_loss: 0.5126\n",
            "Epoch 5/100\n",
            "5480/5480 - 14s - 3ms/step - accuracy: 0.8333 - loss: 0.3790 - val_accuracy: 0.7192 - val_loss: 0.5725\n",
            "Epoch 6/100\n",
            "5480/5480 - 14s - 3ms/step - accuracy: 0.8275 - loss: 0.3821 - val_accuracy: 0.7292 - val_loss: 0.5889\n",
            "Epoch 7/100\n",
            "5480/5480 - 21s - 4ms/step - accuracy: 0.8167 - loss: 0.3943 - val_accuracy: 0.7065 - val_loss: 0.6019\n",
            "Epoch 8/100\n",
            "5480/5480 - 21s - 4ms/step - accuracy: 0.8224 - loss: 0.3908 - val_accuracy: 0.7199 - val_loss: 0.5998\n",
            "Epoch 9/100\n",
            "5480/5480 - 13s - 2ms/step - accuracy: 0.8317 - loss: 0.3792 - val_accuracy: 0.7167 - val_loss: 0.6003\n",
            "Epoch 9: early stopping\n",
            "1\n",
            "Epoch 1/100\n",
            "5480/5480 - 20s - 4ms/step - accuracy: 0.8328 - loss: 0.3766 - val_accuracy: 0.7150 - val_loss: 0.5921\n",
            "Epoch 2/100\n",
            "5480/5480 - 15s - 3ms/step - accuracy: 0.8326 - loss: 0.3758 - val_accuracy: 0.7492 - val_loss: 0.5393\n",
            "Epoch 3/100\n",
            "5480/5480 - 32s - 6ms/step - accuracy: 0.8308 - loss: 0.3799 - val_accuracy: 0.7360 - val_loss: 0.5735\n",
            "Epoch 4/100\n",
            "5480/5480 - 13s - 2ms/step - accuracy: 0.8211 - loss: 0.3934 - val_accuracy: 0.7303 - val_loss: 0.5888\n",
            "Epoch 5/100\n",
            "5480/5480 - 22s - 4ms/step - accuracy: 0.8274 - loss: 0.3876 - val_accuracy: 0.7106 - val_loss: 0.5558\n",
            "Epoch 6/100\n",
            "5480/5480 - 15s - 3ms/step - accuracy: 0.8372 - loss: 0.3802 - val_accuracy: 0.5657 - val_loss: 0.8600\n",
            "Epoch 7/100\n",
            "5480/5480 - 15s - 3ms/step - accuracy: 0.8417 - loss: 0.3698 - val_accuracy: 0.6360 - val_loss: 0.7068\n",
            "Epoch 7: early stopping\n",
            "2\n",
            "Epoch 1/100\n",
            "5480/5480 - 20s - 4ms/step - accuracy: 0.8336 - loss: 0.3795 - val_accuracy: 0.7131 - val_loss: 0.5744\n",
            "Epoch 2/100\n",
            "5480/5480 - 14s - 3ms/step - accuracy: 0.8299 - loss: 0.3809 - val_accuracy: 0.7232 - val_loss: 0.5595\n",
            "Epoch 3/100\n",
            "5480/5480 - 20s - 4ms/step - accuracy: 0.8173 - loss: 0.3906 - val_accuracy: 0.7583 - val_loss: 0.5138\n",
            "Epoch 4/100\n",
            "5480/5480 - 21s - 4ms/step - accuracy: 0.8383 - loss: 0.3739 - val_accuracy: 0.7580 - val_loss: 0.5433\n",
            "Epoch 5/100\n",
            "5480/5480 - 21s - 4ms/step - accuracy: 0.8328 - loss: 0.3777 - val_accuracy: 0.7419 - val_loss: 0.5782\n",
            "Epoch 6/100\n",
            "5480/5480 - 22s - 4ms/step - accuracy: 0.8332 - loss: 0.3837 - val_accuracy: 0.7125 - val_loss: 0.6004\n",
            "Epoch 7/100\n",
            "5480/5480 - 15s - 3ms/step - accuracy: 0.8340 - loss: 0.3814 - val_accuracy: 0.7285 - val_loss: 0.5698\n",
            "Epoch 8/100\n",
            "5480/5480 - 15s - 3ms/step - accuracy: 0.8328 - loss: 0.3836 - val_accuracy: 0.7284 - val_loss: 0.5569\n",
            "Epoch 8: early stopping\n",
            "3\n",
            "Epoch 1/100\n",
            "5480/5480 - 17s - 3ms/step - accuracy: 0.8397 - loss: 0.3683 - val_accuracy: 0.7242 - val_loss: 0.6042\n",
            "Epoch 2/100\n",
            "5480/5480 - 16s - 3ms/step - accuracy: 0.8303 - loss: 0.3827 - val_accuracy: 0.7331 - val_loss: 0.5660\n",
            "Epoch 3/100\n",
            "5480/5480 - 19s - 3ms/step - accuracy: 0.8395 - loss: 0.3680 - val_accuracy: 0.7356 - val_loss: 0.5562\n",
            "Epoch 4/100\n",
            "5480/5480 - 20s - 4ms/step - accuracy: 0.8327 - loss: 0.3742 - val_accuracy: 0.7178 - val_loss: 0.6504\n",
            "Epoch 5/100\n",
            "5480/5480 - 22s - 4ms/step - accuracy: 0.8323 - loss: 0.3783 - val_accuracy: 0.7021 - val_loss: 0.6030\n",
            "Epoch 6/100\n",
            "5480/5480 - 15s - 3ms/step - accuracy: 0.8298 - loss: 0.3815 - val_accuracy: 0.7596 - val_loss: 0.5443\n",
            "Epoch 7/100\n",
            "5480/5480 - 22s - 4ms/step - accuracy: 0.8355 - loss: 0.3768 - val_accuracy: 0.7486 - val_loss: 0.5601\n",
            "Epoch 8/100\n",
            "5480/5480 - 15s - 3ms/step - accuracy: 0.8356 - loss: 0.3814 - val_accuracy: 0.7296 - val_loss: 0.6439\n",
            "Epoch 9/100\n",
            "5480/5480 - 14s - 3ms/step - accuracy: 0.8278 - loss: 0.3866 - val_accuracy: 0.6999 - val_loss: 0.6967\n",
            "Epoch 10/100\n",
            "5480/5480 - 14s - 3ms/step - accuracy: 0.8356 - loss: 0.3751 - val_accuracy: 0.7083 - val_loss: 0.5714\n",
            "Epoch 11/100\n",
            "5480/5480 - 21s - 4ms/step - accuracy: 0.8249 - loss: 0.3898 - val_accuracy: 0.7069 - val_loss: 0.5925\n",
            "Epoch 11: early stopping\n",
            "4\n",
            "Epoch 1/100\n",
            "5480/5480 - 16s - 3ms/step - accuracy: 0.8343 - loss: 0.3711 - val_accuracy: 0.7645 - val_loss: 0.5494\n",
            "Epoch 2/100\n",
            "5480/5480 - 14s - 3ms/step - accuracy: 0.8348 - loss: 0.3735 - val_accuracy: 0.6571 - val_loss: 0.7475\n",
            "Epoch 3/100\n"
          ]
        }
      ]
    },
    {
      "cell_type": "code",
      "source": [
        "print(\"Final accuracy: {}\".format(score5))\n",
        "print(classification_report(y_true5, pred5))"
      ],
      "metadata": {
        "colab": {
          "base_uri": "https://localhost:8080/"
        },
        "id": "fQ0_T32jVPVJ",
        "outputId": "38f9855a-d948-48e1-c2d8-48185339bb6c"
      },
      "execution_count": null,
      "outputs": [
        {
          "output_type": "stream",
          "name": "stdout",
          "text": [
            "Final accuracy: 0.738509935383569\n",
            "              precision    recall  f1-score   support\n",
            "\n",
            "           0       0.79      0.57      0.66     37000\n",
            "           1       0.72      0.87      0.79     45332\n",
            "\n",
            "    accuracy                           0.74     82332\n",
            "   macro avg       0.75      0.72      0.72     82332\n",
            "weighted avg       0.75      0.74      0.73     82332\n",
            "\n"
          ]
        }
      ]
    },
    {
      "cell_type": "markdown",
      "source": [
        "# CNN Model Training"
      ],
      "metadata": {
        "id": "w2i7z1nazg9Y"
      }
    },
    {
      "cell_type": "markdown",
      "source": [
        "## CNN Model Prep"
      ],
      "metadata": {
        "id": "jGJGny69ScoI"
      }
    },
    {
      "cell_type": "code",
      "source": [
        "# CNN input must be 4 dimensions\n",
        "x_train_cnn = x_train2.reshape((x_train2.shape[0], 1, x_train2.shape[1], 1))\n",
        "x_test_cnn = x_test2.reshape((x_test2.shape[0], 1, x_train2.shape[1], 1))\n",
        "\n",
        "# One hot encoded output\n",
        "y_train_cnn = y_train2\n",
        "y_test_cnn = y_test2\n"
      ],
      "metadata": {
        "id": "RwYOFdMnZs--"
      },
      "execution_count": 30,
      "outputs": []
    },
    {
      "cell_type": "code",
      "source": [
        "print(\"Train Split :\", x_train_cnn.shape, y_train_cnn.shape)\n",
        "print(\"Test Split :\", x_test_cnn.shape, y_test_cnn.shape)"
      ],
      "metadata": {
        "colab": {
          "base_uri": "https://localhost:8080/"
        },
        "id": "8_X5hIIKYDPT",
        "outputId": "e54c73f2-6ea6-43f5-f709-6ca6f55b9220"
      },
      "execution_count": 31,
      "outputs": [
        {
          "output_type": "stream",
          "name": "stdout",
          "text": [
            "Train Split : (175341, 1, 50, 1) (175341, 2)\n",
            "Test Split : (82332, 1, 50, 1) (82332, 2)\n"
          ]
        }
      ]
    },
    {
      "cell_type": "markdown",
      "source": [
        "## CNN Model # 1"
      ],
      "metadata": {
        "id": "speeq5ANZqzY"
      }
    },
    {
      "cell_type": "code",
      "source": [
        "filepath = './cnn_best_weights1.keras'\n",
        "\n",
        "\n",
        "checkpointer = ModelCheckpoint(filepath=filepath, verbose=0, save_best_only=True) # save best model\n",
        "\n",
        "for i in range(2):\n",
        "  cnn = Sequential()\n",
        "  # First Conv2D layer: 64 filters, kernel size (1, 3) - moving along width\n",
        "  cnn.add(Conv2D(64, kernel_size=(1, 3), strides=(1, 1), activation='relu',\n",
        "                input_shape=(1, x_train_cnn.shape[2], 1)))  # input shape matches your data\n",
        "\n",
        "  cnn.add(MaxPooling2D(pool_size=(1, 2)))\n",
        "  cnn.add(Conv2D(128, kernel_size=(1, 3), strides=(1, 1), activation='relu'))\n",
        "  cnn.add(MaxPooling2D(pool_size=(1, 2)))\n",
        "\n",
        "\n",
        "  cnn.add(Flatten())\n",
        "\n",
        "  cnn.add(Dense(128, activation=\"sigmoid\"))\n",
        "\n",
        "  cnn.add(Dense(64, activation=\"tanh\"))\n",
        "\n",
        "  cnn.add(Dense(32, activation=\"tanh\"))\n",
        "\n",
        "  # Output layer: 2 classes for binary classification\n",
        "  cnn.add(Dense(y_test_cnn.shape[1], activation=\"softmax\"))\n",
        "\n",
        "  cnn.compile(loss='categorical_crossentropy', optimizer='adam', metrics=['accuracy'])\n",
        "  monitor = EarlyStopping(monitor='val_loss', min_delta=1e-3, patience=5, verbose=1, mode='auto')\n",
        "  cnn.fit(x_train_cnn,y_train_cnn,validation_data=(x_test_cnn,y_test_cnn),callbacks=[monitor,checkpointer],verbose=2,epochs=100)\n",
        "\n",
        "print('CNN - Training finished...Loading the best model')\n",
        "print()\n",
        "cnn.load_weights('./cnn_best_weights1.keras') # load weights from best model\n",
        "\n",
        "# Measure accuracy\n",
        "pred_cnn = cnn.predict(x_test_cnn)\n",
        "pred_cnn = np.argmax(pred_cnn,axis=1)\n",
        "\n",
        "y_true_cnn = np.argmax(y_test_cnn,axis=1)\n",
        "\n",
        "score_cnn = metrics.accuracy_score(y_true_cnn, pred_cnn)"
      ],
      "metadata": {
        "colab": {
          "base_uri": "https://localhost:8080/"
        },
        "id": "yUZwZqRvvR83",
        "outputId": "425ba6a8-5367-49b3-fc08-49076ecebb33"
      },
      "execution_count": null,
      "outputs": [
        {
          "output_type": "stream",
          "name": "stderr",
          "text": [
            "/usr/local/lib/python3.10/dist-packages/keras/src/layers/convolutional/base_conv.py:107: UserWarning: Do not pass an `input_shape`/`input_dim` argument to a layer. When using Sequential models, prefer using an `Input(shape)` object as the first layer in the model instead.\n",
            "  super().__init__(activity_regularizer=activity_regularizer, **kwargs)\n"
          ]
        },
        {
          "output_type": "stream",
          "name": "stdout",
          "text": [
            "Epoch 1/100\n",
            "5480/5480 - 26s - 5ms/step - accuracy: 0.6882 - loss: 0.6195 - val_accuracy: 0.5614 - val_loss: 0.7329\n",
            "Epoch 2/100\n",
            "5480/5480 - 18s - 3ms/step - accuracy: 0.6952 - loss: 0.6091 - val_accuracy: 0.5618 - val_loss: 0.7009\n",
            "Epoch 3/100\n",
            "5480/5480 - 21s - 4ms/step - accuracy: 0.6855 - loss: 0.6220 - val_accuracy: 0.5506 - val_loss: 0.7467\n",
            "Epoch 4/100\n",
            "5480/5480 - 19s - 3ms/step - accuracy: 0.6806 - loss: 0.6275 - val_accuracy: 0.5506 - val_loss: 0.7300\n",
            "Epoch 5/100\n",
            "5480/5480 - 20s - 4ms/step - accuracy: 0.6806 - loss: 0.6276 - val_accuracy: 0.5506 - val_loss: 0.7257\n",
            "Epoch 6/100\n",
            "5480/5480 - 19s - 3ms/step - accuracy: 0.6806 - loss: 0.6275 - val_accuracy: 0.5506 - val_loss: 0.7173\n",
            "Epoch 7/100\n",
            "5480/5480 - 20s - 4ms/step - accuracy: 0.6806 - loss: 0.6275 - val_accuracy: 0.5506 - val_loss: 0.7483\n",
            "Epoch 7: early stopping\n",
            "Epoch 1/100\n",
            "5480/5480 - 25s - 5ms/step - accuracy: 0.6828 - loss: 0.6254 - val_accuracy: 0.5506 - val_loss: 0.7253\n",
            "Epoch 2/100\n",
            "5480/5480 - 19s - 3ms/step - accuracy: 0.6819 - loss: 0.6255 - val_accuracy: 0.5609 - val_loss: 0.7085\n",
            "Epoch 3/100\n",
            "5480/5480 - 19s - 3ms/step - accuracy: 0.6947 - loss: 0.6112 - val_accuracy: 0.5506 - val_loss: 0.7307\n",
            "Epoch 4/100\n",
            "5480/5480 - 21s - 4ms/step - accuracy: 0.6954 - loss: 0.6116 - val_accuracy: 0.5618 - val_loss: 0.7261\n",
            "Epoch 5/100\n",
            "5480/5480 - 18s - 3ms/step - accuracy: 0.6957 - loss: 0.6105 - val_accuracy: 0.5618 - val_loss: 0.7278\n",
            "Epoch 6/100\n",
            "5480/5480 - 19s - 3ms/step - accuracy: 0.6957 - loss: 0.6102 - val_accuracy: 0.5618 - val_loss: 0.7161\n",
            "Epoch 7/100\n",
            "5480/5480 - 20s - 4ms/step - accuracy: 0.6957 - loss: 0.6101 - val_accuracy: 0.5618 - val_loss: 0.6980\n",
            "Epoch 8/100\n",
            "5480/5480 - 20s - 4ms/step - accuracy: 0.6957 - loss: 0.6100 - val_accuracy: 0.5618 - val_loss: 0.7013\n",
            "Epoch 9/100\n",
            "5480/5480 - 19s - 3ms/step - accuracy: 0.6955 - loss: 0.6104 - val_accuracy: 0.5618 - val_loss: 0.7432\n",
            "Epoch 10/100\n",
            "5480/5480 - 18s - 3ms/step - accuracy: 0.6957 - loss: 0.6101 - val_accuracy: 0.5618 - val_loss: 0.7154\n",
            "Epoch 11/100\n",
            "5480/5480 - 21s - 4ms/step - accuracy: 0.6957 - loss: 0.6102 - val_accuracy: 0.5618 - val_loss: 0.7086\n",
            "Epoch 12/100\n",
            "5480/5480 - 20s - 4ms/step - accuracy: 0.6957 - loss: 0.6103 - val_accuracy: 0.5618 - val_loss: 0.7214\n",
            "Epoch 12: early stopping\n",
            "CNN - Training finished...Loading the best model\n",
            "\n",
            "\u001b[1m2573/2573\u001b[0m \u001b[32m━━━━━━━━━━━━━━━━━━━━\u001b[0m\u001b[37m\u001b[0m \u001b[1m4s\u001b[0m 2ms/step\n"
          ]
        }
      ]
    },
    {
      "cell_type": "code",
      "source": [
        "print(\"Final accuracy: {}\".format(score_cnn))\n",
        "print(classification_report(y_true_cnn, pred_cnn))"
      ],
      "metadata": {
        "id": "y9WRGnpV40rx",
        "colab": {
          "base_uri": "https://localhost:8080/"
        },
        "outputId": "5e1fd1df-a110-4a24-e46b-5599d9d425fd"
      },
      "execution_count": null,
      "outputs": [
        {
          "output_type": "stream",
          "name": "stdout",
          "text": [
            "Final accuracy: 0.5618350094738377\n",
            "              precision    recall  f1-score   support\n",
            "\n",
            "           0       1.00      0.03      0.05     37000\n",
            "           1       0.56      1.00      0.72     45332\n",
            "\n",
            "    accuracy                           0.56     82332\n",
            "   macro avg       0.78      0.51      0.38     82332\n",
            "weighted avg       0.76      0.56      0.42     82332\n",
            "\n"
          ]
        }
      ]
    },
    {
      "cell_type": "markdown",
      "source": [
        "## CNN Model #2"
      ],
      "metadata": {
        "id": "icUjn1tQcpc_"
      }
    },
    {
      "cell_type": "code",
      "source": [
        "filepath = './cnn_best_weights1.keras'\n",
        "\n",
        "\n",
        "checkpointer = ModelCheckpoint(filepath=filepath, verbose=0, save_best_only=True) # save best model\n",
        "\n",
        "for i in range(2):\n",
        "  cnn = Sequential()\n",
        "  cnn.add(Conv2D(64, kernel_size=(1, 5), strides=(1, 1), activation='tanh',\n",
        "                input_shape=(1, x_train_cnn.shape[2], 1)))  # input shape matches your data\n",
        "\n",
        "  cnn.add(MaxPooling2D(pool_size=(1, 2)))\n",
        "  cnn.add(Conv2D(128, kernel_size=(1, 5), strides=(1, 1), activation='tanh'))\n",
        "  cnn.add(MaxPooling2D(pool_size=(1, 2)))\n",
        "\n",
        "\n",
        "  cnn.add(Flatten())\n",
        "\n",
        "  cnn.add(Dense(512, activation=\"relu\"))\n",
        "\n",
        "  cnn.add(Dense(128, activation=\"relu\"))\n",
        "\n",
        "  cnn.add(Dense(16, activation=\"relu\"))\n",
        "\n",
        "  cnn.add(Dense(y_test_cnn.shape[1], activation=\"softmax\"))\n",
        "\n",
        "  cnn.compile(loss='categorical_crossentropy', optimizer='sgd', metrics=['accuracy'])\n",
        "  monitor = EarlyStopping(monitor='val_loss', min_delta=1e-3, patience=5, verbose=1, mode='auto')\n",
        "  cnn.fit(x_train_cnn,y_train_cnn,validation_data=(x_test_cnn,y_test_cnn),callbacks=[monitor,checkpointer],verbose=2,epochs=100)\n",
        "\n",
        "print('CNN - Training finished...Loading the best model')\n",
        "print()\n",
        "cnn.load_weights('./cnn_best_weights1.keras') # load weights from best model\n",
        "\n",
        "# Measure accuracy\n",
        "pred_cnn = cnn.predict(x_test_cnn)\n",
        "pred_cnn = np.argmax(pred_cnn,axis=1)\n",
        "\n",
        "y_true_cnn = np.argmax(y_test_cnn,axis=1)\n",
        "\n",
        "score_cnn = metrics.accuracy_score(y_true_cnn, pred_cnn)"
      ],
      "metadata": {
        "id": "JVSeHW5-aEOW"
      },
      "execution_count": null,
      "outputs": []
    },
    {
      "cell_type": "code",
      "source": [
        "print(\"Final accuracy: {}\".format(score_cnn))\n",
        "print(classification_report(y_true_cnn, pred_cnn))"
      ],
      "metadata": {
        "colab": {
          "base_uri": "https://localhost:8080/"
        },
        "id": "SVHPnRRgcku0",
        "outputId": "70d50684-7093-45e0-ee97-8da1bf9c9c8a"
      },
      "execution_count": null,
      "outputs": [
        {
          "output_type": "stream",
          "name": "stdout",
          "text": [
            "Final accuracy: 0.5618350094738377\n",
            "              precision    recall  f1-score   support\n",
            "\n",
            "           0       1.00      0.03      0.05     37000\n",
            "           1       0.56      1.00      0.72     45332\n",
            "\n",
            "    accuracy                           0.56     82332\n",
            "   macro avg       0.78      0.51      0.38     82332\n",
            "weighted avg       0.76      0.56      0.42     82332\n",
            "\n"
          ]
        }
      ]
    },
    {
      "cell_type": "markdown",
      "source": [
        "## CNN Model #3"
      ],
      "metadata": {
        "id": "xDGryXRpkDC6"
      }
    },
    {
      "cell_type": "code",
      "source": [
        "filepath = './cnn_best_weights1.keras'\n",
        "\n",
        "\n",
        "checkpointer = ModelCheckpoint(filepath=filepath, verbose=0, save_best_only=True) # save best model\n",
        "\n",
        "for i in range(5):\n",
        "  cnn = Sequential()\n",
        "  cnn.add(Conv2D(64, kernel_size=(1, 5), strides=(1, 1), activation='sigmoid',\n",
        "                input_shape=(1, x_train_cnn.shape[2], 1)))  # input shape matches your data\n",
        "\n",
        "  cnn.add(MaxPooling2D(pool_size=(1, 2)))\n",
        "\n",
        "  cnn.add(Conv2D(128, kernel_size=(1, 5), strides=(1, 1), activation='sigmoid'))\n",
        "\n",
        "  cnn.add(MaxPooling2D(pool_size=(1, 2)))\n",
        "\n",
        "\n",
        "  cnn.add(Flatten())\n",
        "\n",
        "  cnn.add(Dense(512, activation=\"relu\"))\n",
        "\n",
        "  cnn.add(Dense(128, activation=\"relu\"))\n",
        "\n",
        "  cnn.add(Dense(16, activation=\"relu\"))\n",
        "\n",
        "  cnn.add(Dense(y_test_cnn.shape[1], activation=\"softmax\"))\n",
        "\n",
        "  cnn.compile(loss='categorical_crossentropy', optimizer='sgd', metrics=['accuracy'])\n",
        "  monitor = EarlyStopping(monitor='val_loss', min_delta=1e-3, patience=5, verbose=1, mode='auto')\n",
        "  cnn.fit(x_train_cnn,y_train_cnn,validation_data=(x_test_cnn,y_test_cnn),callbacks=[monitor,checkpointer],verbose=2,epochs=100)\n",
        "\n",
        "print('CNN - Training finished...Loading the best model')\n",
        "print()\n",
        "cnn.load_weights('./cnn_best_weights1.keras') # load weights from best model\n",
        "\n",
        "# Measure accuracy\n",
        "pred_cnn = cnn.predict(x_test_cnn)\n",
        "pred_cnn = np.argmax(pred_cnn,axis=1)\n",
        "\n",
        "y_true_cnn = np.argmax(y_test_cnn,axis=1)\n",
        "\n",
        "score_cnn = metrics.accuracy_score(y_true_cnn, pred_cnn)"
      ],
      "metadata": {
        "colab": {
          "base_uri": "https://localhost:8080/"
        },
        "id": "ajauxhnMcvV9",
        "outputId": "4455dd71-b547-4673-d6ec-1afbb713038a"
      },
      "execution_count": 35,
      "outputs": [
        {
          "output_type": "stream",
          "name": "stderr",
          "text": [
            "/usr/local/lib/python3.10/dist-packages/keras/src/layers/convolutional/base_conv.py:107: UserWarning: Do not pass an `input_shape`/`input_dim` argument to a layer. When using Sequential models, prefer using an `Input(shape)` object as the first layer in the model instead.\n",
            "  super().__init__(activity_regularizer=activity_regularizer, **kwargs)\n"
          ]
        },
        {
          "output_type": "stream",
          "name": "stdout",
          "text": [
            "Epoch 1/100\n",
            "5480/5480 - 19s - 4ms/step - accuracy: 0.8690 - loss: 0.3023 - val_accuracy: 0.7860 - val_loss: 0.4915\n",
            "Epoch 2/100\n",
            "5480/5480 - 18s - 3ms/step - accuracy: 0.9139 - loss: 0.2056 - val_accuracy: 0.8328 - val_loss: 0.3491\n",
            "Epoch 3/100\n",
            "5480/5480 - 20s - 4ms/step - accuracy: 0.9215 - loss: 0.1809 - val_accuracy: 0.8117 - val_loss: 0.3962\n",
            "Epoch 4/100\n",
            "5480/5480 - 16s - 3ms/step - accuracy: 0.9269 - loss: 0.1645 - val_accuracy: 0.8123 - val_loss: 0.3942\n",
            "Epoch 5/100\n",
            "5480/5480 - 20s - 4ms/step - accuracy: 0.9304 - loss: 0.1537 - val_accuracy: 0.8319 - val_loss: 0.3488\n",
            "Epoch 6/100\n",
            "5480/5480 - 16s - 3ms/step - accuracy: 0.9343 - loss: 0.1441 - val_accuracy: 0.8151 - val_loss: 0.4457\n",
            "Epoch 7/100\n",
            "5480/5480 - 16s - 3ms/step - accuracy: 0.9363 - loss: 0.1394 - val_accuracy: 0.8178 - val_loss: 0.3408\n",
            "Epoch 8/100\n",
            "5480/5480 - 16s - 3ms/step - accuracy: 0.9373 - loss: 0.1365 - val_accuracy: 0.8259 - val_loss: 0.3756\n",
            "Epoch 9/100\n",
            "5480/5480 - 15s - 3ms/step - accuracy: 0.9376 - loss: 0.1349 - val_accuracy: 0.8706 - val_loss: 0.2799\n",
            "Epoch 10/100\n",
            "5480/5480 - 22s - 4ms/step - accuracy: 0.9372 - loss: 0.1343 - val_accuracy: 0.8894 - val_loss: 0.2604\n",
            "Epoch 11/100\n",
            "5480/5480 - 16s - 3ms/step - accuracy: 0.9395 - loss: 0.1308 - val_accuracy: 0.8317 - val_loss: 0.3574\n",
            "Epoch 12/100\n",
            "5480/5480 - 20s - 4ms/step - accuracy: 0.9399 - loss: 0.1290 - val_accuracy: 0.8762 - val_loss: 0.2584\n",
            "Epoch 13/100\n",
            "5480/5480 - 16s - 3ms/step - accuracy: 0.9417 - loss: 0.1268 - val_accuracy: 0.8717 - val_loss: 0.2824\n",
            "Epoch 14/100\n",
            "5480/5480 - 19s - 3ms/step - accuracy: 0.9413 - loss: 0.1264 - val_accuracy: 0.8909 - val_loss: 0.2668\n",
            "Epoch 15/100\n",
            "5480/5480 - 22s - 4ms/step - accuracy: 0.9421 - loss: 0.1250 - val_accuracy: 0.9006 - val_loss: 0.2319\n",
            "Epoch 16/100\n",
            "5480/5480 - 16s - 3ms/step - accuracy: 0.9417 - loss: 0.1249 - val_accuracy: 0.8736 - val_loss: 0.2605\n",
            "Epoch 17/100\n",
            "5480/5480 - 21s - 4ms/step - accuracy: 0.9416 - loss: 0.1237 - val_accuracy: 0.8293 - val_loss: 0.3120\n",
            "Epoch 18/100\n",
            "5480/5480 - 16s - 3ms/step - accuracy: 0.9422 - loss: 0.1228 - val_accuracy: 0.8320 - val_loss: 0.3290\n",
            "Epoch 19/100\n",
            "5480/5480 - 16s - 3ms/step - accuracy: 0.9430 - loss: 0.1218 - val_accuracy: 0.8508 - val_loss: 0.3174\n",
            "Epoch 20/100\n",
            "5480/5480 - 16s - 3ms/step - accuracy: 0.9436 - loss: 0.1211 - val_accuracy: 0.8782 - val_loss: 0.2648\n",
            "Epoch 20: early stopping\n",
            "Epoch 1/100\n",
            "5480/5480 - 18s - 3ms/step - accuracy: 0.8630 - loss: 0.3107 - val_accuracy: 0.7900 - val_loss: 0.4305\n",
            "Epoch 2/100\n",
            "5480/5480 - 19s - 3ms/step - accuracy: 0.9124 - loss: 0.2085 - val_accuracy: 0.7428 - val_loss: 0.7250\n",
            "Epoch 3/100\n",
            "5480/5480 - 17s - 3ms/step - accuracy: 0.9202 - loss: 0.1847 - val_accuracy: 0.8054 - val_loss: 0.4150\n",
            "Epoch 4/100\n",
            "5480/5480 - 15s - 3ms/step - accuracy: 0.9242 - loss: 0.1718 - val_accuracy: 0.8154 - val_loss: 0.3605\n",
            "Epoch 5/100\n",
            "5480/5480 - 16s - 3ms/step - accuracy: 0.9254 - loss: 0.1658 - val_accuracy: 0.8099 - val_loss: 0.3729\n",
            "Epoch 6/100\n",
            "5480/5480 - 15s - 3ms/step - accuracy: 0.9288 - loss: 0.1586 - val_accuracy: 0.7942 - val_loss: 0.4005\n",
            "Epoch 7/100\n",
            "5480/5480 - 20s - 4ms/step - accuracy: 0.9313 - loss: 0.1535 - val_accuracy: 0.8199 - val_loss: 0.3461\n",
            "Epoch 8/100\n",
            "5480/5480 - 20s - 4ms/step - accuracy: 0.9334 - loss: 0.1485 - val_accuracy: 0.8073 - val_loss: 0.4115\n",
            "Epoch 9/100\n",
            "5480/5480 - 16s - 3ms/step - accuracy: 0.9349 - loss: 0.1417 - val_accuracy: 0.8156 - val_loss: 0.4508\n",
            "Epoch 10/100\n",
            "5480/5480 - 14s - 3ms/step - accuracy: 0.9348 - loss: 0.1395 - val_accuracy: 0.8383 - val_loss: 0.3148\n",
            "Epoch 11/100\n",
            "5480/5480 - 16s - 3ms/step - accuracy: 0.9378 - loss: 0.1342 - val_accuracy: 0.8149 - val_loss: 0.3558\n",
            "Epoch 12/100\n",
            "5480/5480 - 20s - 4ms/step - accuracy: 0.9376 - loss: 0.1324 - val_accuracy: 0.8653 - val_loss: 0.2842\n",
            "Epoch 13/100\n",
            "5480/5480 - 15s - 3ms/step - accuracy: 0.9390 - loss: 0.1286 - val_accuracy: 0.8155 - val_loss: 0.3797\n",
            "Epoch 14/100\n",
            "5480/5480 - 20s - 4ms/step - accuracy: 0.9398 - loss: 0.1276 - val_accuracy: 0.8336 - val_loss: 0.3033\n",
            "Epoch 15/100\n",
            "5480/5480 - 14s - 3ms/step - accuracy: 0.9397 - loss: 0.1283 - val_accuracy: 0.8257 - val_loss: 0.3308\n",
            "Epoch 16/100\n",
            "5480/5480 - 14s - 3ms/step - accuracy: 0.9403 - loss: 0.1266 - val_accuracy: 0.8297 - val_loss: 0.3762\n",
            "Epoch 17/100\n",
            "5480/5480 - 21s - 4ms/step - accuracy: 0.9415 - loss: 0.1239 - val_accuracy: 0.8366 - val_loss: 0.3159\n",
            "Epoch 17: early stopping\n",
            "Epoch 1/100\n",
            "5480/5480 - 16s - 3ms/step - accuracy: 0.8614 - loss: 0.3127 - val_accuracy: 0.7565 - val_loss: 0.4809\n",
            "Epoch 2/100\n",
            "5480/5480 - 20s - 4ms/step - accuracy: 0.9127 - loss: 0.2071 - val_accuracy: 0.7811 - val_loss: 0.5006\n",
            "Epoch 3/100\n",
            "5480/5480 - 19s - 4ms/step - accuracy: 0.9215 - loss: 0.1832 - val_accuracy: 0.7962 - val_loss: 0.4292\n",
            "Epoch 4/100\n",
            "5480/5480 - 16s - 3ms/step - accuracy: 0.9259 - loss: 0.1676 - val_accuracy: 0.8341 - val_loss: 0.3951\n",
            "Epoch 5/100\n",
            "5480/5480 - 15s - 3ms/step - accuracy: 0.9309 - loss: 0.1548 - val_accuracy: 0.8315 - val_loss: 0.3470\n",
            "Epoch 6/100\n",
            "5480/5480 - 16s - 3ms/step - accuracy: 0.9326 - loss: 0.1491 - val_accuracy: 0.8182 - val_loss: 0.3920\n",
            "Epoch 7/100\n",
            "5480/5480 - 20s - 4ms/step - accuracy: 0.9353 - loss: 0.1419 - val_accuracy: 0.8547 - val_loss: 0.3152\n",
            "Epoch 8/100\n",
            "5480/5480 - 15s - 3ms/step - accuracy: 0.9376 - loss: 0.1367 - val_accuracy: 0.8506 - val_loss: 0.3042\n",
            "Epoch 9/100\n",
            "5480/5480 - 14s - 3ms/step - accuracy: 0.9385 - loss: 0.1342 - val_accuracy: 0.8566 - val_loss: 0.3160\n",
            "Epoch 10/100\n",
            "5480/5480 - 22s - 4ms/step - accuracy: 0.9389 - loss: 0.1325 - val_accuracy: 0.8697 - val_loss: 0.2854\n",
            "Epoch 11/100\n",
            "5480/5480 - 19s - 3ms/step - accuracy: 0.9390 - loss: 0.1310 - val_accuracy: 0.8236 - val_loss: 0.3525\n",
            "Epoch 12/100\n",
            "5480/5480 - 16s - 3ms/step - accuracy: 0.9400 - loss: 0.1291 - val_accuracy: 0.8473 - val_loss: 0.3171\n",
            "Epoch 13/100\n",
            "5480/5480 - 14s - 3ms/step - accuracy: 0.9399 - loss: 0.1287 - val_accuracy: 0.8714 - val_loss: 0.2794\n",
            "Epoch 14/100\n",
            "5480/5480 - 21s - 4ms/step - accuracy: 0.9404 - loss: 0.1267 - val_accuracy: 0.8632 - val_loss: 0.2899\n",
            "Epoch 15/100\n",
            "5480/5480 - 16s - 3ms/step - accuracy: 0.9413 - loss: 0.1251 - val_accuracy: 0.8401 - val_loss: 0.3196\n",
            "Epoch 16/100\n",
            "5480/5480 - 19s - 3ms/step - accuracy: 0.9410 - loss: 0.1244 - val_accuracy: 0.8201 - val_loss: 0.3813\n",
            "Epoch 17/100\n",
            "5480/5480 - 22s - 4ms/step - accuracy: 0.9417 - loss: 0.1232 - val_accuracy: 0.8910 - val_loss: 0.2497\n",
            "Epoch 18/100\n",
            "5480/5480 - 20s - 4ms/step - accuracy: 0.9415 - loss: 0.1241 - val_accuracy: 0.8585 - val_loss: 0.2831\n",
            "Epoch 19/100\n",
            "5480/5480 - 20s - 4ms/step - accuracy: 0.9422 - loss: 0.1212 - val_accuracy: 0.8247 - val_loss: 0.3346\n",
            "Epoch 20/100\n",
            "5480/5480 - 16s - 3ms/step - accuracy: 0.9416 - loss: 0.1215 - val_accuracy: 0.8732 - val_loss: 0.2579\n",
            "Epoch 21/100\n",
            "5480/5480 - 20s - 4ms/step - accuracy: 0.9424 - loss: 0.1208 - val_accuracy: 0.8521 - val_loss: 0.2743\n",
            "Epoch 22/100\n",
            "5480/5480 - 14s - 3ms/step - accuracy: 0.9422 - loss: 0.1214 - val_accuracy: 0.8028 - val_loss: 0.3956\n",
            "Epoch 22: early stopping\n",
            "Epoch 1/100\n",
            "5480/5480 - 17s - 3ms/step - accuracy: 0.8537 - loss: 0.3284 - val_accuracy: 0.7839 - val_loss: 0.4842\n",
            "Epoch 2/100\n",
            "5480/5480 - 15s - 3ms/step - accuracy: 0.9120 - loss: 0.2109 - val_accuracy: 0.7604 - val_loss: 0.4862\n",
            "Epoch 3/100\n",
            "5480/5480 - 15s - 3ms/step - accuracy: 0.9213 - loss: 0.1840 - val_accuracy: 0.8063 - val_loss: 0.4204\n",
            "Epoch 4/100\n",
            "5480/5480 - 16s - 3ms/step - accuracy: 0.9268 - loss: 0.1651 - val_accuracy: 0.8673 - val_loss: 0.3075\n",
            "Epoch 5/100\n",
            "5480/5480 - 14s - 3ms/step - accuracy: 0.9313 - loss: 0.1540 - val_accuracy: 0.8317 - val_loss: 0.3561\n",
            "Epoch 6/100\n",
            "5480/5480 - 22s - 4ms/step - accuracy: 0.9337 - loss: 0.1472 - val_accuracy: 0.8251 - val_loss: 0.3586\n",
            "Epoch 7/100\n",
            "5480/5480 - 14s - 3ms/step - accuracy: 0.9355 - loss: 0.1412 - val_accuracy: 0.8086 - val_loss: 0.3903\n",
            "Epoch 8/100\n",
            "5480/5480 - 14s - 3ms/step - accuracy: 0.9364 - loss: 0.1383 - val_accuracy: 0.8681 - val_loss: 0.2854\n",
            "Epoch 9/100\n",
            "5480/5480 - 16s - 3ms/step - accuracy: 0.9376 - loss: 0.1355 - val_accuracy: 0.8084 - val_loss: 0.3753\n",
            "Epoch 10/100\n",
            "5480/5480 - 19s - 3ms/step - accuracy: 0.9380 - loss: 0.1328 - val_accuracy: 0.8534 - val_loss: 0.3025\n",
            "Epoch 11/100\n",
            "5480/5480 - 22s - 4ms/step - accuracy: 0.9394 - loss: 0.1308 - val_accuracy: 0.8723 - val_loss: 0.2903\n",
            "Epoch 12/100\n",
            "5480/5480 - 19s - 3ms/step - accuracy: 0.9397 - loss: 0.1290 - val_accuracy: 0.8565 - val_loss: 0.3078\n",
            "Epoch 13/100\n",
            "5480/5480 - 14s - 3ms/step - accuracy: 0.9408 - loss: 0.1262 - val_accuracy: 0.8817 - val_loss: 0.2595\n",
            "Epoch 14/100\n",
            "5480/5480 - 15s - 3ms/step - accuracy: 0.9414 - loss: 0.1248 - val_accuracy: 0.8608 - val_loss: 0.2664\n",
            "Epoch 15/100\n",
            "5480/5480 - 19s - 4ms/step - accuracy: 0.9416 - loss: 0.1231 - val_accuracy: 0.8796 - val_loss: 0.2682\n",
            "Epoch 16/100\n",
            "5480/5480 - 14s - 3ms/step - accuracy: 0.9422 - loss: 0.1224 - val_accuracy: 0.8443 - val_loss: 0.2694\n",
            "Epoch 17/100\n",
            "5480/5480 - 14s - 3ms/step - accuracy: 0.9418 - loss: 0.1221 - val_accuracy: 0.8183 - val_loss: 0.3432\n",
            "Epoch 18/100\n",
            "5480/5480 - 14s - 3ms/step - accuracy: 0.9426 - loss: 0.1205 - val_accuracy: 0.8779 - val_loss: 0.2539\n",
            "Epoch 19/100\n",
            "5480/5480 - 14s - 3ms/step - accuracy: 0.9430 - loss: 0.1193 - val_accuracy: 0.8781 - val_loss: 0.2732\n",
            "Epoch 20/100\n",
            "5480/5480 - 14s - 3ms/step - accuracy: 0.9439 - loss: 0.1180 - val_accuracy: 0.8859 - val_loss: 0.2491\n",
            "Epoch 21/100\n",
            "5480/5480 - 16s - 3ms/step - accuracy: 0.9443 - loss: 0.1174 - val_accuracy: 0.8770 - val_loss: 0.2547\n",
            "Epoch 22/100\n",
            "5480/5480 - 19s - 3ms/step - accuracy: 0.9442 - loss: 0.1176 - val_accuracy: 0.8924 - val_loss: 0.2539\n",
            "Epoch 23/100\n",
            "5480/5480 - 14s - 3ms/step - accuracy: 0.9441 - loss: 0.1165 - val_accuracy: 0.9010 - val_loss: 0.2303\n",
            "Epoch 24/100\n",
            "5480/5480 - 14s - 3ms/step - accuracy: 0.9443 - loss: 0.1167 - val_accuracy: 0.8794 - val_loss: 0.2645\n",
            "Epoch 25/100\n",
            "5480/5480 - 20s - 4ms/step - accuracy: 0.9445 - loss: 0.1179 - val_accuracy: 0.8689 - val_loss: 0.2629\n",
            "Epoch 26/100\n",
            "5480/5480 - 17s - 3ms/step - accuracy: 0.9450 - loss: 0.1169 - val_accuracy: 0.8538 - val_loss: 0.2936\n",
            "Epoch 27/100\n",
            "5480/5480 - 19s - 3ms/step - accuracy: 0.9451 - loss: 0.1157 - val_accuracy: 0.8752 - val_loss: 0.2715\n",
            "Epoch 28/100\n",
            "5480/5480 - 22s - 4ms/step - accuracy: 0.9454 - loss: 0.1152 - val_accuracy: 0.8591 - val_loss: 0.2777\n",
            "Epoch 28: early stopping\n",
            "Epoch 1/100\n",
            "5480/5480 - 22s - 4ms/step - accuracy: 0.8625 - loss: 0.3124 - val_accuracy: 0.7712 - val_loss: 0.4717\n",
            "Epoch 2/100\n",
            "5480/5480 - 14s - 3ms/step - accuracy: 0.9131 - loss: 0.2071 - val_accuracy: 0.7970 - val_loss: 0.4127\n",
            "Epoch 3/100\n",
            "5480/5480 - 14s - 3ms/step - accuracy: 0.9213 - loss: 0.1820 - val_accuracy: 0.5872 - val_loss: 1.0529\n",
            "Epoch 4/100\n",
            "5480/5480 - 14s - 3ms/step - accuracy: 0.9260 - loss: 0.1664 - val_accuracy: 0.8203 - val_loss: 0.3539\n",
            "Epoch 5/100\n",
            "5480/5480 - 14s - 3ms/step - accuracy: 0.9321 - loss: 0.1507 - val_accuracy: 0.8185 - val_loss: 0.3574\n",
            "Epoch 6/100\n",
            "5480/5480 - 21s - 4ms/step - accuracy: 0.9351 - loss: 0.1435 - val_accuracy: 0.8587 - val_loss: 0.3036\n",
            "Epoch 7/100\n",
            "5480/5480 - 16s - 3ms/step - accuracy: 0.9355 - loss: 0.1395 - val_accuracy: 0.8465 - val_loss: 0.2898\n",
            "Epoch 8/100\n",
            "5480/5480 - 17s - 3ms/step - accuracy: 0.9364 - loss: 0.1371 - val_accuracy: 0.8181 - val_loss: 0.3350\n",
            "Epoch 9/100\n",
            "5480/5480 - 18s - 3ms/step - accuracy: 0.9373 - loss: 0.1344 - val_accuracy: 0.8775 - val_loss: 0.2657\n",
            "Epoch 10/100\n",
            "5480/5480 - 14s - 3ms/step - accuracy: 0.9375 - loss: 0.1327 - val_accuracy: 0.8158 - val_loss: 0.3764\n",
            "Epoch 11/100\n",
            "5480/5480 - 16s - 3ms/step - accuracy: 0.9391 - loss: 0.1306 - val_accuracy: 0.8628 - val_loss: 0.2764\n",
            "Epoch 12/100\n",
            "5480/5480 - 19s - 3ms/step - accuracy: 0.9400 - loss: 0.1279 - val_accuracy: 0.8522 - val_loss: 0.2628\n",
            "Epoch 13/100\n",
            "5480/5480 - 14s - 3ms/step - accuracy: 0.9411 - loss: 0.1269 - val_accuracy: 0.8594 - val_loss: 0.3052\n",
            "Epoch 14/100\n",
            "5480/5480 - 16s - 3ms/step - accuracy: 0.9414 - loss: 0.1248 - val_accuracy: 0.8418 - val_loss: 0.3017\n",
            "Epoch 15/100\n",
            "5480/5480 - 20s - 4ms/step - accuracy: 0.9424 - loss: 0.1230 - val_accuracy: 0.8497 - val_loss: 0.3174\n",
            "Epoch 16/100\n",
            "5480/5480 - 21s - 4ms/step - accuracy: 0.9427 - loss: 0.1225 - val_accuracy: 0.8469 - val_loss: 0.3505\n",
            "Epoch 17/100\n",
            "5480/5480 - 14s - 3ms/step - accuracy: 0.9432 - loss: 0.1217 - val_accuracy: 0.8193 - val_loss: 0.3394\n",
            "Epoch 17: early stopping\n",
            "CNN - Training finished...Loading the best model\n",
            "\n",
            "\u001b[1m2573/2573\u001b[0m \u001b[32m━━━━━━━━━━━━━━━━━━━━\u001b[0m\u001b[37m\u001b[0m \u001b[1m5s\u001b[0m 2ms/step\n"
          ]
        }
      ]
    },
    {
      "cell_type": "code",
      "source": [
        "print(\"Final accuracy: {}\".format(score_cnn))\n",
        "print(classification_report(y_true_cnn, pred_cnn))"
      ],
      "metadata": {
        "colab": {
          "base_uri": "https://localhost:8080/"
        },
        "id": "E5E9kvBPcx_z",
        "outputId": "4382869d-907b-41a0-fbc0-4f6e11abc430"
      },
      "execution_count": 36,
      "outputs": [
        {
          "output_type": "stream",
          "name": "stdout",
          "text": [
            "Final accuracy: 0.9010105426808531\n",
            "              precision    recall  f1-score   support\n",
            "\n",
            "           0       0.90      0.88      0.89     37000\n",
            "           1       0.90      0.92      0.91     45332\n",
            "\n",
            "    accuracy                           0.90     82332\n",
            "   macro avg       0.90      0.90      0.90     82332\n",
            "weighted avg       0.90      0.90      0.90     82332\n",
            "\n"
          ]
        }
      ]
    },
    {
      "cell_type": "code",
      "source": [
        "cnn.summary()"
      ],
      "metadata": {
        "colab": {
          "base_uri": "https://localhost:8080/",
          "height": 426
        },
        "id": "9qacsENzgcVZ",
        "outputId": "15c1cdae-6f0a-4af2-963b-fadf9ca6fd26"
      },
      "execution_count": null,
      "outputs": [
        {
          "output_type": "display_data",
          "data": {
            "text/plain": [
              "\u001b[1mModel: \"sequential_18\"\u001b[0m\n"
            ],
            "text/html": [
              "<pre style=\"white-space:pre;overflow-x:auto;line-height:normal;font-family:Menlo,'DejaVu Sans Mono',consolas,'Courier New',monospace\"><span style=\"font-weight: bold\">Model: \"sequential_18\"</span>\n",
              "</pre>\n"
            ]
          },
          "metadata": {}
        },
        {
          "output_type": "display_data",
          "data": {
            "text/plain": [
              "┏━━━━━━━━━━━━━━━━━━━━━━━━━━━━━━━━━━━━━━┳━━━━━━━━━━━━━━━━━━━━━━━━━━━━━┳━━━━━━━━━━━━━━━━━┓\n",
              "┃\u001b[1m \u001b[0m\u001b[1mLayer (type)                        \u001b[0m\u001b[1m \u001b[0m┃\u001b[1m \u001b[0m\u001b[1mOutput Shape               \u001b[0m\u001b[1m \u001b[0m┃\u001b[1m \u001b[0m\u001b[1m        Param #\u001b[0m\u001b[1m \u001b[0m┃\n",
              "┡━━━━━━━━━━━━━━━━━━━━━━━━━━━━━━━━━━━━━━╇━━━━━━━━━━━━━━━━━━━━━━━━━━━━━╇━━━━━━━━━━━━━━━━━┩\n",
              "│ conv2d_27 (\u001b[38;5;33mConv2D\u001b[0m)                   │ (\u001b[38;5;45mNone\u001b[0m, \u001b[38;5;34m1\u001b[0m, \u001b[38;5;34m46\u001b[0m, \u001b[38;5;34m64\u001b[0m)           │             \u001b[38;5;34m384\u001b[0m │\n",
              "├──────────────────────────────────────┼─────────────────────────────┼─────────────────┤\n",
              "│ max_pooling2d_21 (\u001b[38;5;33mMaxPooling2D\u001b[0m)      │ (\u001b[38;5;45mNone\u001b[0m, \u001b[38;5;34m1\u001b[0m, \u001b[38;5;34m23\u001b[0m, \u001b[38;5;34m64\u001b[0m)           │               \u001b[38;5;34m0\u001b[0m │\n",
              "├──────────────────────────────────────┼─────────────────────────────┼─────────────────┤\n",
              "│ conv2d_28 (\u001b[38;5;33mConv2D\u001b[0m)                   │ (\u001b[38;5;45mNone\u001b[0m, \u001b[38;5;34m1\u001b[0m, \u001b[38;5;34m19\u001b[0m, \u001b[38;5;34m128\u001b[0m)          │          \u001b[38;5;34m41,088\u001b[0m │\n",
              "├──────────────────────────────────────┼─────────────────────────────┼─────────────────┤\n",
              "│ max_pooling2d_22 (\u001b[38;5;33mMaxPooling2D\u001b[0m)      │ (\u001b[38;5;45mNone\u001b[0m, \u001b[38;5;34m1\u001b[0m, \u001b[38;5;34m9\u001b[0m, \u001b[38;5;34m128\u001b[0m)           │               \u001b[38;5;34m0\u001b[0m │\n",
              "├──────────────────────────────────────┼─────────────────────────────┼─────────────────┤\n",
              "│ flatten_10 (\u001b[38;5;33mFlatten\u001b[0m)                 │ (\u001b[38;5;45mNone\u001b[0m, \u001b[38;5;34m1152\u001b[0m)                │               \u001b[38;5;34m0\u001b[0m │\n",
              "├──────────────────────────────────────┼─────────────────────────────┼─────────────────┤\n",
              "│ dense_36 (\u001b[38;5;33mDense\u001b[0m)                     │ (\u001b[38;5;45mNone\u001b[0m, \u001b[38;5;34m512\u001b[0m)                 │         \u001b[38;5;34m590,336\u001b[0m │\n",
              "├──────────────────────────────────────┼─────────────────────────────┼─────────────────┤\n",
              "│ dense_37 (\u001b[38;5;33mDense\u001b[0m)                     │ (\u001b[38;5;45mNone\u001b[0m, \u001b[38;5;34m128\u001b[0m)                 │          \u001b[38;5;34m65,664\u001b[0m │\n",
              "├──────────────────────────────────────┼─────────────────────────────┼─────────────────┤\n",
              "│ dense_38 (\u001b[38;5;33mDense\u001b[0m)                     │ (\u001b[38;5;45mNone\u001b[0m, \u001b[38;5;34m16\u001b[0m)                  │           \u001b[38;5;34m2,064\u001b[0m │\n",
              "├──────────────────────────────────────┼─────────────────────────────┼─────────────────┤\n",
              "│ dense_39 (\u001b[38;5;33mDense\u001b[0m)                     │ (\u001b[38;5;45mNone\u001b[0m, \u001b[38;5;34m2\u001b[0m)                   │              \u001b[38;5;34m34\u001b[0m │\n",
              "└──────────────────────────────────────┴─────────────────────────────┴─────────────────┘\n"
            ],
            "text/html": [
              "<pre style=\"white-space:pre;overflow-x:auto;line-height:normal;font-family:Menlo,'DejaVu Sans Mono',consolas,'Courier New',monospace\">┏━━━━━━━━━━━━━━━━━━━━━━━━━━━━━━━━━━━━━━┳━━━━━━━━━━━━━━━━━━━━━━━━━━━━━┳━━━━━━━━━━━━━━━━━┓\n",
              "┃<span style=\"font-weight: bold\"> Layer (type)                         </span>┃<span style=\"font-weight: bold\"> Output Shape                </span>┃<span style=\"font-weight: bold\">         Param # </span>┃\n",
              "┡━━━━━━━━━━━━━━━━━━━━━━━━━━━━━━━━━━━━━━╇━━━━━━━━━━━━━━━━━━━━━━━━━━━━━╇━━━━━━━━━━━━━━━━━┩\n",
              "│ conv2d_27 (<span style=\"color: #0087ff; text-decoration-color: #0087ff\">Conv2D</span>)                   │ (<span style=\"color: #00d7ff; text-decoration-color: #00d7ff\">None</span>, <span style=\"color: #00af00; text-decoration-color: #00af00\">1</span>, <span style=\"color: #00af00; text-decoration-color: #00af00\">46</span>, <span style=\"color: #00af00; text-decoration-color: #00af00\">64</span>)           │             <span style=\"color: #00af00; text-decoration-color: #00af00\">384</span> │\n",
              "├──────────────────────────────────────┼─────────────────────────────┼─────────────────┤\n",
              "│ max_pooling2d_21 (<span style=\"color: #0087ff; text-decoration-color: #0087ff\">MaxPooling2D</span>)      │ (<span style=\"color: #00d7ff; text-decoration-color: #00d7ff\">None</span>, <span style=\"color: #00af00; text-decoration-color: #00af00\">1</span>, <span style=\"color: #00af00; text-decoration-color: #00af00\">23</span>, <span style=\"color: #00af00; text-decoration-color: #00af00\">64</span>)           │               <span style=\"color: #00af00; text-decoration-color: #00af00\">0</span> │\n",
              "├──────────────────────────────────────┼─────────────────────────────┼─────────────────┤\n",
              "│ conv2d_28 (<span style=\"color: #0087ff; text-decoration-color: #0087ff\">Conv2D</span>)                   │ (<span style=\"color: #00d7ff; text-decoration-color: #00d7ff\">None</span>, <span style=\"color: #00af00; text-decoration-color: #00af00\">1</span>, <span style=\"color: #00af00; text-decoration-color: #00af00\">19</span>, <span style=\"color: #00af00; text-decoration-color: #00af00\">128</span>)          │          <span style=\"color: #00af00; text-decoration-color: #00af00\">41,088</span> │\n",
              "├──────────────────────────────────────┼─────────────────────────────┼─────────────────┤\n",
              "│ max_pooling2d_22 (<span style=\"color: #0087ff; text-decoration-color: #0087ff\">MaxPooling2D</span>)      │ (<span style=\"color: #00d7ff; text-decoration-color: #00d7ff\">None</span>, <span style=\"color: #00af00; text-decoration-color: #00af00\">1</span>, <span style=\"color: #00af00; text-decoration-color: #00af00\">9</span>, <span style=\"color: #00af00; text-decoration-color: #00af00\">128</span>)           │               <span style=\"color: #00af00; text-decoration-color: #00af00\">0</span> │\n",
              "├──────────────────────────────────────┼─────────────────────────────┼─────────────────┤\n",
              "│ flatten_10 (<span style=\"color: #0087ff; text-decoration-color: #0087ff\">Flatten</span>)                 │ (<span style=\"color: #00d7ff; text-decoration-color: #00d7ff\">None</span>, <span style=\"color: #00af00; text-decoration-color: #00af00\">1152</span>)                │               <span style=\"color: #00af00; text-decoration-color: #00af00\">0</span> │\n",
              "├──────────────────────────────────────┼─────────────────────────────┼─────────────────┤\n",
              "│ dense_36 (<span style=\"color: #0087ff; text-decoration-color: #0087ff\">Dense</span>)                     │ (<span style=\"color: #00d7ff; text-decoration-color: #00d7ff\">None</span>, <span style=\"color: #00af00; text-decoration-color: #00af00\">512</span>)                 │         <span style=\"color: #00af00; text-decoration-color: #00af00\">590,336</span> │\n",
              "├──────────────────────────────────────┼─────────────────────────────┼─────────────────┤\n",
              "│ dense_37 (<span style=\"color: #0087ff; text-decoration-color: #0087ff\">Dense</span>)                     │ (<span style=\"color: #00d7ff; text-decoration-color: #00d7ff\">None</span>, <span style=\"color: #00af00; text-decoration-color: #00af00\">128</span>)                 │          <span style=\"color: #00af00; text-decoration-color: #00af00\">65,664</span> │\n",
              "├──────────────────────────────────────┼─────────────────────────────┼─────────────────┤\n",
              "│ dense_38 (<span style=\"color: #0087ff; text-decoration-color: #0087ff\">Dense</span>)                     │ (<span style=\"color: #00d7ff; text-decoration-color: #00d7ff\">None</span>, <span style=\"color: #00af00; text-decoration-color: #00af00\">16</span>)                  │           <span style=\"color: #00af00; text-decoration-color: #00af00\">2,064</span> │\n",
              "├──────────────────────────────────────┼─────────────────────────────┼─────────────────┤\n",
              "│ dense_39 (<span style=\"color: #0087ff; text-decoration-color: #0087ff\">Dense</span>)                     │ (<span style=\"color: #00d7ff; text-decoration-color: #00d7ff\">None</span>, <span style=\"color: #00af00; text-decoration-color: #00af00\">2</span>)                   │              <span style=\"color: #00af00; text-decoration-color: #00af00\">34</span> │\n",
              "└──────────────────────────────────────┴─────────────────────────────┴─────────────────┘\n",
              "</pre>\n"
            ]
          },
          "metadata": {}
        },
        {
          "output_type": "display_data",
          "data": {
            "text/plain": [
              "\u001b[1m Total params: \u001b[0m\u001b[38;5;34m699,572\u001b[0m (2.67 MB)\n"
            ],
            "text/html": [
              "<pre style=\"white-space:pre;overflow-x:auto;line-height:normal;font-family:Menlo,'DejaVu Sans Mono',consolas,'Courier New',monospace\"><span style=\"font-weight: bold\"> Total params: </span><span style=\"color: #00af00; text-decoration-color: #00af00\">699,572</span> (2.67 MB)\n",
              "</pre>\n"
            ]
          },
          "metadata": {}
        },
        {
          "output_type": "display_data",
          "data": {
            "text/plain": [
              "\u001b[1m Trainable params: \u001b[0m\u001b[38;5;34m699,570\u001b[0m (2.67 MB)\n"
            ],
            "text/html": [
              "<pre style=\"white-space:pre;overflow-x:auto;line-height:normal;font-family:Menlo,'DejaVu Sans Mono',consolas,'Courier New',monospace\"><span style=\"font-weight: bold\"> Trainable params: </span><span style=\"color: #00af00; text-decoration-color: #00af00\">699,570</span> (2.67 MB)\n",
              "</pre>\n"
            ]
          },
          "metadata": {}
        },
        {
          "output_type": "display_data",
          "data": {
            "text/plain": [
              "\u001b[1m Non-trainable params: \u001b[0m\u001b[38;5;34m0\u001b[0m (0.00 B)\n"
            ],
            "text/html": [
              "<pre style=\"white-space:pre;overflow-x:auto;line-height:normal;font-family:Menlo,'DejaVu Sans Mono',consolas,'Courier New',monospace\"><span style=\"font-weight: bold\"> Non-trainable params: </span><span style=\"color: #00af00; text-decoration-color: #00af00\">0</span> (0.00 B)\n",
              "</pre>\n"
            ]
          },
          "metadata": {}
        },
        {
          "output_type": "display_data",
          "data": {
            "text/plain": [
              "\u001b[1m Optimizer params: \u001b[0m\u001b[38;5;34m2\u001b[0m (12.00 B)\n"
            ],
            "text/html": [
              "<pre style=\"white-space:pre;overflow-x:auto;line-height:normal;font-family:Menlo,'DejaVu Sans Mono',consolas,'Courier New',monospace\"><span style=\"font-weight: bold\"> Optimizer params: </span><span style=\"color: #00af00; text-decoration-color: #00af00\">2</span> (12.00 B)\n",
              "</pre>\n"
            ]
          },
          "metadata": {}
        }
      ]
    },
    {
      "cell_type": "markdown",
      "source": [
        "## CNN Model #4"
      ],
      "metadata": {
        "id": "6AHmwKJLRcza"
      }
    },
    {
      "cell_type": "code",
      "source": [
        "filepath = './cnn_best_weights1.keras'\n",
        "\n",
        "\n",
        "checkpointer = ModelCheckpoint(filepath=filepath, verbose=0, save_best_only=True) # save best model\n",
        "\n",
        "for i in range(5):\n",
        "  cnn = Sequential()\n",
        "  cnn.add(Conv2D(64, kernel_size=(1, 5), strides=(1, 1), activation='sigmoid',\n",
        "                input_shape=(1, x_train_cnn.shape[2], 1)))  # input shape matches your data\n",
        "\n",
        "  cnn.add(MaxPooling2D(pool_size=(1, 2)))\n",
        "\n",
        "  cnn.add(Conv2D(128, kernel_size=(1, 5), strides=(1, 1), activation='sigmoid'))\n",
        "\n",
        "  cnn.add(MaxPooling2D(pool_size=(1, 2)))\n",
        "\n",
        "  cnn.add(Conv2D(256, kernel_size=(1, 3), strides=(1, 1), activation='sigmoid'))\n",
        "\n",
        "  cnn.add(MaxPooling2D(pool_size=(1, 2)))\n",
        "\n",
        "  cnn.add(Flatten())\n",
        "\n",
        "  cnn.add(Dense(512, activation=\"sigmoid\"))\n",
        "\n",
        "  cnn.add(Dense(256, activation=\"tanh\"))\n",
        "\n",
        "  cnn.add(Dense(32, activation=\"tanh\"))\n",
        "\n",
        "  cnn.add(Dense(y_test_cnn.shape[1], activation=\"softmax\"))\n",
        "\n",
        "  cnn.compile(loss='categorical_crossentropy', optimizer='sgd', metrics=['accuracy'])\n",
        "  monitor = EarlyStopping(monitor='val_loss', min_delta=1e-3, patience=5, verbose=1, mode='auto')\n",
        "  cnn.fit(x_train_cnn,y_train_cnn,validation_data=(x_test_cnn,y_test_cnn),callbacks=[monitor,checkpointer],verbose=2,epochs=100)\n",
        "\n",
        "print('CNN - Training finished...Loading the best model')\n",
        "print()\n",
        "cnn.load_weights('./cnn_best_weights1.keras') # load weights from best model\n",
        "\n",
        "# Measure accuracy\n",
        "pred_cnn = cnn.predict(x_test_cnn)\n",
        "pred_cnn = np.argmax(pred_cnn,axis=1)\n",
        "\n",
        "y_true_cnn = np.argmax(y_test_cnn,axis=1)\n",
        "\n",
        "score_cnn = metrics.accuracy_score(y_true_cnn, pred_cnn)"
      ],
      "metadata": {
        "colab": {
          "base_uri": "https://localhost:8080/"
        },
        "id": "bOKonJ78Rb4x",
        "outputId": "6ab2986f-2d8d-4c5b-eb34-97e59ccc1fb2"
      },
      "execution_count": 33,
      "outputs": [
        {
          "output_type": "stream",
          "name": "stdout",
          "text": [
            "Epoch 1/100\n",
            "5480/5480 - 24s - 4ms/step - accuracy: 0.6802 - loss: 0.6264 - val_accuracy: 0.5506 - val_loss: 0.6832\n",
            "Epoch 2/100\n",
            "5480/5480 - 35s - 6ms/step - accuracy: 0.7539 - loss: 0.4946 - val_accuracy: 0.7500 - val_loss: 0.5215\n",
            "Epoch 3/100\n",
            "5480/5480 - 20s - 4ms/step - accuracy: 0.8774 - loss: 0.2967 - val_accuracy: 0.7675 - val_loss: 0.5739\n",
            "Epoch 4/100\n",
            "5480/5480 - 15s - 3ms/step - accuracy: 0.9019 - loss: 0.2427 - val_accuracy: 0.8293 - val_loss: 0.3711\n",
            "Epoch 5/100\n",
            "5480/5480 - 15s - 3ms/step - accuracy: 0.9118 - loss: 0.2139 - val_accuracy: 0.8024 - val_loss: 0.4427\n",
            "Epoch 6/100\n",
            "5480/5480 - 16s - 3ms/step - accuracy: 0.9172 - loss: 0.1979 - val_accuracy: 0.8012 - val_loss: 0.4458\n",
            "Epoch 7/100\n",
            "5480/5480 - 16s - 3ms/step - accuracy: 0.9218 - loss: 0.1878 - val_accuracy: 0.8476 - val_loss: 0.3582\n",
            "Epoch 8/100\n",
            "5480/5480 - 16s - 3ms/step - accuracy: 0.9267 - loss: 0.1747 - val_accuracy: 0.7988 - val_loss: 0.4791\n",
            "Epoch 9/100\n",
            "5480/5480 - 20s - 4ms/step - accuracy: 0.9302 - loss: 0.1640 - val_accuracy: 0.8797 - val_loss: 0.2976\n",
            "Epoch 10/100\n",
            "5480/5480 - 18s - 3ms/step - accuracy: 0.9332 - loss: 0.1535 - val_accuracy: 0.8436 - val_loss: 0.3453\n",
            "Epoch 11/100\n",
            "5480/5480 - 21s - 4ms/step - accuracy: 0.9348 - loss: 0.1472 - val_accuracy: 0.8064 - val_loss: 0.4406\n",
            "Epoch 12/100\n",
            "5480/5480 - 16s - 3ms/step - accuracy: 0.9348 - loss: 0.1459 - val_accuracy: 0.8328 - val_loss: 0.3405\n",
            "Epoch 13/100\n",
            "5480/5480 - 16s - 3ms/step - accuracy: 0.9352 - loss: 0.1433 - val_accuracy: 0.8057 - val_loss: 0.4663\n",
            "Epoch 14/100\n",
            "5480/5480 - 20s - 4ms/step - accuracy: 0.9366 - loss: 0.1409 - val_accuracy: 0.8719 - val_loss: 0.2926\n",
            "Epoch 15/100\n",
            "5480/5480 - 21s - 4ms/step - accuracy: 0.9378 - loss: 0.1388 - val_accuracy: 0.8396 - val_loss: 0.3358\n",
            "Epoch 16/100\n",
            "5480/5480 - 15s - 3ms/step - accuracy: 0.9387 - loss: 0.1358 - val_accuracy: 0.8864 - val_loss: 0.2629\n",
            "Epoch 17/100\n",
            "5480/5480 - 22s - 4ms/step - accuracy: 0.9391 - loss: 0.1353 - val_accuracy: 0.8483 - val_loss: 0.3078\n",
            "Epoch 18/100\n",
            "5480/5480 - 16s - 3ms/step - accuracy: 0.9392 - loss: 0.1341 - val_accuracy: 0.8222 - val_loss: 0.3716\n",
            "Epoch 19/100\n",
            "5480/5480 - 21s - 4ms/step - accuracy: 0.9394 - loss: 0.1326 - val_accuracy: 0.8573 - val_loss: 0.3000\n",
            "Epoch 20/100\n",
            "5480/5480 - 20s - 4ms/step - accuracy: 0.9379 - loss: 0.1341 - val_accuracy: 0.8162 - val_loss: 0.3991\n",
            "Epoch 21/100\n",
            "5480/5480 - 15s - 3ms/step - accuracy: 0.9385 - loss: 0.1312 - val_accuracy: 0.8328 - val_loss: 0.3308\n",
            "Epoch 21: early stopping\n",
            "Epoch 1/100\n",
            "5480/5480 - 18s - 3ms/step - accuracy: 0.6803 - loss: 0.6265 - val_accuracy: 0.5506 - val_loss: 0.6846\n",
            "Epoch 2/100\n",
            "5480/5480 - 16s - 3ms/step - accuracy: 0.7295 - loss: 0.5289 - val_accuracy: 0.6946 - val_loss: 0.6835\n",
            "Epoch 3/100\n",
            "5480/5480 - 15s - 3ms/step - accuracy: 0.8708 - loss: 0.3099 - val_accuracy: 0.7362 - val_loss: 0.6948\n",
            "Epoch 4/100\n",
            "5480/5480 - 16s - 3ms/step - accuracy: 0.8989 - loss: 0.2470 - val_accuracy: 0.7628 - val_loss: 0.6042\n",
            "Epoch 5/100\n",
            "5480/5480 - 15s - 3ms/step - accuracy: 0.9108 - loss: 0.2163 - val_accuracy: 0.8356 - val_loss: 0.3568\n",
            "Epoch 6/100\n",
            "5480/5480 - 16s - 3ms/step - accuracy: 0.9183 - loss: 0.1974 - val_accuracy: 0.7708 - val_loss: 0.5896\n",
            "Epoch 7/100\n",
            "5480/5480 - 21s - 4ms/step - accuracy: 0.9230 - loss: 0.1850 - val_accuracy: 0.8595 - val_loss: 0.3171\n",
            "Epoch 8/100\n",
            "5480/5480 - 20s - 4ms/step - accuracy: 0.9274 - loss: 0.1723 - val_accuracy: 0.8490 - val_loss: 0.3410\n",
            "Epoch 9/100\n",
            "5480/5480 - 15s - 3ms/step - accuracy: 0.9303 - loss: 0.1648 - val_accuracy: 0.8127 - val_loss: 0.4066\n",
            "Epoch 10/100\n",
            "5480/5480 - 22s - 4ms/step - accuracy: 0.9306 - loss: 0.1598 - val_accuracy: 0.8054 - val_loss: 0.4240\n",
            "Epoch 11/100\n",
            "5480/5480 - 20s - 4ms/step - accuracy: 0.9330 - loss: 0.1530 - val_accuracy: 0.8677 - val_loss: 0.3045\n",
            "Epoch 12/100\n",
            "5480/5480 - 19s - 3ms/step - accuracy: 0.9337 - loss: 0.1510 - val_accuracy: 0.8617 - val_loss: 0.2963\n",
            "Epoch 13/100\n",
            "5480/5480 - 15s - 3ms/step - accuracy: 0.9349 - loss: 0.1458 - val_accuracy: 0.8271 - val_loss: 0.3601\n",
            "Epoch 14/100\n",
            "5480/5480 - 20s - 4ms/step - accuracy: 0.9357 - loss: 0.1434 - val_accuracy: 0.8744 - val_loss: 0.2788\n",
            "Epoch 15/100\n",
            "5480/5480 - 17s - 3ms/step - accuracy: 0.9371 - loss: 0.1399 - val_accuracy: 0.8677 - val_loss: 0.2908\n",
            "Epoch 16/100\n",
            "5480/5480 - 15s - 3ms/step - accuracy: 0.9379 - loss: 0.1370 - val_accuracy: 0.8140 - val_loss: 0.3904\n",
            "Epoch 17/100\n",
            "5480/5480 - 16s - 3ms/step - accuracy: 0.9388 - loss: 0.1349 - val_accuracy: 0.8397 - val_loss: 0.3225\n",
            "Epoch 18/100\n",
            "5480/5480 - 15s - 3ms/step - accuracy: 0.9392 - loss: 0.1338 - val_accuracy: 0.8271 - val_loss: 0.3423\n",
            "Epoch 19/100\n",
            "5480/5480 - 20s - 4ms/step - accuracy: 0.9391 - loss: 0.1329 - val_accuracy: 0.8357 - val_loss: 0.3527\n",
            "Epoch 19: early stopping\n",
            "Epoch 1/100\n",
            "5480/5480 - 18s - 3ms/step - accuracy: 0.6803 - loss: 0.6263 - val_accuracy: 0.5506 - val_loss: 0.8039\n",
            "Epoch 2/100\n",
            "5480/5480 - 20s - 4ms/step - accuracy: 0.7602 - loss: 0.4896 - val_accuracy: 0.7317 - val_loss: 0.6204\n",
            "Epoch 3/100\n",
            "5480/5480 - 15s - 3ms/step - accuracy: 0.8828 - loss: 0.2827 - val_accuracy: 0.7543 - val_loss: 0.6467\n",
            "Epoch 4/100\n",
            "5480/5480 - 16s - 3ms/step - accuracy: 0.9025 - loss: 0.2362 - val_accuracy: 0.7816 - val_loss: 0.5179\n",
            "Epoch 5/100\n",
            "5480/5480 - 17s - 3ms/step - accuracy: 0.9117 - loss: 0.2134 - val_accuracy: 0.7664 - val_loss: 0.6295\n",
            "Epoch 6/100\n",
            "5480/5480 - 20s - 4ms/step - accuracy: 0.9148 - loss: 0.2043 - val_accuracy: 0.8479 - val_loss: 0.3627\n",
            "Epoch 7/100\n",
            "5480/5480 - 21s - 4ms/step - accuracy: 0.9205 - loss: 0.1885 - val_accuracy: 0.7940 - val_loss: 0.4851\n",
            "Epoch 8/100\n",
            "5480/5480 - 15s - 3ms/step - accuracy: 0.9253 - loss: 0.1761 - val_accuracy: 0.7980 - val_loss: 0.5220\n",
            "Epoch 9/100\n",
            "5480/5480 - 22s - 4ms/step - accuracy: 0.9289 - loss: 0.1670 - val_accuracy: 0.8714 - val_loss: 0.2956\n",
            "Epoch 10/100\n",
            "5480/5480 - 16s - 3ms/step - accuracy: 0.9311 - loss: 0.1617 - val_accuracy: 0.8526 - val_loss: 0.3137\n",
            "Epoch 11/100\n",
            "5480/5480 - 21s - 4ms/step - accuracy: 0.9322 - loss: 0.1560 - val_accuracy: 0.8651 - val_loss: 0.2994\n",
            "Epoch 12/100\n",
            "5480/5480 - 17s - 3ms/step - accuracy: 0.9333 - loss: 0.1508 - val_accuracy: 0.8617 - val_loss: 0.2934\n",
            "Epoch 13/100\n",
            "5480/5480 - 20s - 4ms/step - accuracy: 0.9330 - loss: 0.1502 - val_accuracy: 0.8235 - val_loss: 0.4155\n",
            "Epoch 14/100\n",
            "5480/5480 - 20s - 4ms/step - accuracy: 0.9359 - loss: 0.1453 - val_accuracy: 0.8103 - val_loss: 0.4566\n",
            "Epoch 15/100\n",
            "5480/5480 - 20s - 4ms/step - accuracy: 0.9355 - loss: 0.1456 - val_accuracy: 0.9014 - val_loss: 0.2451\n",
            "Epoch 16/100\n",
            "5480/5480 - 22s - 4ms/step - accuracy: 0.9364 - loss: 0.1419 - val_accuracy: 0.8641 - val_loss: 0.2979\n",
            "Epoch 17/100\n",
            "5480/5480 - 15s - 3ms/step - accuracy: 0.9361 - loss: 0.1408 - val_accuracy: 0.8094 - val_loss: 0.4385\n",
            "Epoch 18/100\n",
            "5480/5480 - 20s - 4ms/step - accuracy: 0.9379 - loss: 0.1376 - val_accuracy: 0.8091 - val_loss: 0.4092\n",
            "Epoch 19/100\n",
            "5480/5480 - 15s - 3ms/step - accuracy: 0.9377 - loss: 0.1380 - val_accuracy: 0.8985 - val_loss: 0.2479\n",
            "Epoch 20/100\n",
            "5480/5480 - 16s - 3ms/step - accuracy: 0.9372 - loss: 0.1377 - val_accuracy: 0.8477 - val_loss: 0.3252\n",
            "Epoch 20: early stopping\n",
            "Epoch 1/100\n",
            "5480/5480 - 18s - 3ms/step - accuracy: 0.6805 - loss: 0.6251 - val_accuracy: 0.5506 - val_loss: 0.8068\n",
            "Epoch 2/100\n",
            "5480/5480 - 18s - 3ms/step - accuracy: 0.7689 - loss: 0.4656 - val_accuracy: 0.7337 - val_loss: 0.4471\n",
            "Epoch 3/100\n",
            "5480/5480 - 16s - 3ms/step - accuracy: 0.8793 - loss: 0.2925 - val_accuracy: 0.7960 - val_loss: 0.3961\n",
            "Epoch 4/100\n",
            "5480/5480 - 21s - 4ms/step - accuracy: 0.9014 - loss: 0.2438 - val_accuracy: 0.8271 - val_loss: 0.3855\n",
            "Epoch 5/100\n",
            "5480/5480 - 20s - 4ms/step - accuracy: 0.9092 - loss: 0.2209 - val_accuracy: 0.8488 - val_loss: 0.3597\n",
            "Epoch 6/100\n",
            "5480/5480 - 22s - 4ms/step - accuracy: 0.9177 - loss: 0.1967 - val_accuracy: 0.8465 - val_loss: 0.3314\n",
            "Epoch 7/100\n",
            "5480/5480 - 16s - 3ms/step - accuracy: 0.9244 - loss: 0.1781 - val_accuracy: 0.8042 - val_loss: 0.4333\n",
            "Epoch 8/100\n",
            "5480/5480 - 15s - 3ms/step - accuracy: 0.9282 - loss: 0.1681 - val_accuracy: 0.8750 - val_loss: 0.3152\n",
            "Epoch 9/100\n",
            "5480/5480 - 22s - 4ms/step - accuracy: 0.9291 - loss: 0.1622 - val_accuracy: 0.8032 - val_loss: 0.4807\n",
            "Epoch 10/100\n",
            "5480/5480 - 16s - 3ms/step - accuracy: 0.9326 - loss: 0.1544 - val_accuracy: 0.8805 - val_loss: 0.2788\n",
            "Epoch 11/100\n",
            "5480/5480 - 21s - 4ms/step - accuracy: 0.9342 - loss: 0.1481 - val_accuracy: 0.8787 - val_loss: 0.2750\n",
            "Epoch 12/100\n",
            "5480/5480 - 20s - 4ms/step - accuracy: 0.9355 - loss: 0.1445 - val_accuracy: 0.8974 - val_loss: 0.2388\n",
            "Epoch 13/100\n",
            "5480/5480 - 15s - 3ms/step - accuracy: 0.9357 - loss: 0.1428 - val_accuracy: 0.8292 - val_loss: 0.3416\n",
            "Epoch 14/100\n",
            "5480/5480 - 16s - 3ms/step - accuracy: 0.9353 - loss: 0.1429 - val_accuracy: 0.8915 - val_loss: 0.2450\n",
            "Epoch 15/100\n",
            "5480/5480 - 15s - 3ms/step - accuracy: 0.9370 - loss: 0.1399 - val_accuracy: 0.8064 - val_loss: 0.5289\n",
            "Epoch 16/100\n",
            "5480/5480 - 20s - 4ms/step - accuracy: 0.9371 - loss: 0.1383 - val_accuracy: 0.9057 - val_loss: 0.2228\n",
            "Epoch 17/100\n",
            "5480/5480 - 21s - 4ms/step - accuracy: 0.9371 - loss: 0.1390 - val_accuracy: 0.8153 - val_loss: 0.4058\n",
            "Epoch 18/100\n",
            "5480/5480 - 21s - 4ms/step - accuracy: 0.9369 - loss: 0.1367 - val_accuracy: 0.8576 - val_loss: 0.2875\n",
            "Epoch 19/100\n",
            "5480/5480 - 19s - 3ms/step - accuracy: 0.9387 - loss: 0.1347 - val_accuracy: 0.8492 - val_loss: 0.3059\n",
            "Epoch 20/100\n",
            "5480/5480 - 16s - 3ms/step - accuracy: 0.9391 - loss: 0.1323 - val_accuracy: 0.8077 - val_loss: 0.5097\n",
            "Epoch 21/100\n",
            "5480/5480 - 20s - 4ms/step - accuracy: 0.9390 - loss: 0.1324 - val_accuracy: 0.8407 - val_loss: 0.3240\n",
            "Epoch 21: early stopping\n",
            "Epoch 1/100\n",
            "5480/5480 - 18s - 3ms/step - accuracy: 0.6807 - loss: 0.6250 - val_accuracy: 0.5506 - val_loss: 0.6683\n",
            "Epoch 2/100\n",
            "5480/5480 - 17s - 3ms/step - accuracy: 0.7719 - loss: 0.4657 - val_accuracy: 0.7486 - val_loss: 0.5750\n",
            "Epoch 3/100\n",
            "5480/5480 - 22s - 4ms/step - accuracy: 0.8790 - loss: 0.2919 - val_accuracy: 0.7984 - val_loss: 0.4005\n",
            "Epoch 4/100\n",
            "5480/5480 - 15s - 3ms/step - accuracy: 0.9021 - loss: 0.2404 - val_accuracy: 0.7670 - val_loss: 0.6015\n",
            "Epoch 5/100\n",
            "5480/5480 - 15s - 3ms/step - accuracy: 0.9122 - loss: 0.2142 - val_accuracy: 0.8208 - val_loss: 0.3946\n",
            "Epoch 6/100\n",
            "5480/5480 - 15s - 3ms/step - accuracy: 0.9181 - loss: 0.1967 - val_accuracy: 0.8283 - val_loss: 0.3761\n",
            "Epoch 7/100\n",
            "5480/5480 - 20s - 4ms/step - accuracy: 0.9229 - loss: 0.1851 - val_accuracy: 0.7850 - val_loss: 0.5648\n",
            "Epoch 8/100\n",
            "5480/5480 - 22s - 4ms/step - accuracy: 0.9274 - loss: 0.1723 - val_accuracy: 0.8666 - val_loss: 0.3178\n",
            "Epoch 9/100\n",
            "5480/5480 - 15s - 3ms/step - accuracy: 0.9305 - loss: 0.1615 - val_accuracy: 0.8354 - val_loss: 0.3788\n",
            "Epoch 10/100\n",
            "5480/5480 - 16s - 3ms/step - accuracy: 0.9306 - loss: 0.1591 - val_accuracy: 0.8310 - val_loss: 0.3590\n",
            "Epoch 11/100\n",
            "5480/5480 - 21s - 4ms/step - accuracy: 0.9331 - loss: 0.1528 - val_accuracy: 0.8537 - val_loss: 0.3282\n",
            "Epoch 12/100\n",
            "5480/5480 - 20s - 4ms/step - accuracy: 0.9341 - loss: 0.1481 - val_accuracy: 0.8803 - val_loss: 0.2766\n",
            "Epoch 13/100\n",
            "5480/5480 - 16s - 3ms/step - accuracy: 0.9348 - loss: 0.1463 - val_accuracy: 0.8780 - val_loss: 0.2777\n",
            "Epoch 14/100\n",
            "5480/5480 - 21s - 4ms/step - accuracy: 0.9347 - loss: 0.1455 - val_accuracy: 0.8100 - val_loss: 0.4412\n",
            "Epoch 15/100\n",
            "5480/5480 - 19s - 3ms/step - accuracy: 0.9357 - loss: 0.1440 - val_accuracy: 0.8718 - val_loss: 0.2788\n",
            "Epoch 16/100\n",
            "5480/5480 - 21s - 4ms/step - accuracy: 0.9359 - loss: 0.1422 - val_accuracy: 0.8877 - val_loss: 0.2625\n",
            "Epoch 17/100\n",
            "5480/5480 - 20s - 4ms/step - accuracy: 0.9376 - loss: 0.1387 - val_accuracy: 0.8492 - val_loss: 0.3062\n",
            "Epoch 18/100\n",
            "5480/5480 - 15s - 3ms/step - accuracy: 0.9368 - loss: 0.1388 - val_accuracy: 0.8342 - val_loss: 0.3433\n",
            "Epoch 19/100\n",
            "5480/5480 - 16s - 3ms/step - accuracy: 0.9365 - loss: 0.1378 - val_accuracy: 0.8904 - val_loss: 0.2509\n",
            "Epoch 20/100\n",
            "5480/5480 - 20s - 4ms/step - accuracy: 0.9389 - loss: 0.1352 - val_accuracy: 0.8847 - val_loss: 0.2473\n",
            "Epoch 21/100\n",
            "5480/5480 - 15s - 3ms/step - accuracy: 0.9382 - loss: 0.1334 - val_accuracy: 0.9061 - val_loss: 0.2227\n",
            "Epoch 22/100\n",
            "5480/5480 - 22s - 4ms/step - accuracy: 0.9386 - loss: 0.1328 - val_accuracy: 0.8579 - val_loss: 0.2859\n",
            "Epoch 23/100\n",
            "5480/5480 - 15s - 3ms/step - accuracy: 0.9396 - loss: 0.1312 - val_accuracy: 0.8539 - val_loss: 0.2867\n",
            "Epoch 24/100\n",
            "5480/5480 - 21s - 4ms/step - accuracy: 0.9402 - loss: 0.1297 - val_accuracy: 0.8292 - val_loss: 0.3139\n",
            "Epoch 25/100\n",
            "5480/5480 - 16s - 3ms/step - accuracy: 0.9401 - loss: 0.1286 - val_accuracy: 0.8859 - val_loss: 0.2303\n",
            "Epoch 26/100\n",
            "5480/5480 - 19s - 3ms/step - accuracy: 0.9412 - loss: 0.1278 - val_accuracy: 0.8894 - val_loss: 0.2508\n",
            "Epoch 26: early stopping\n",
            "CNN - Training finished...Loading the best model\n",
            "\n",
            "\u001b[1m2573/2573\u001b[0m \u001b[32m━━━━━━━━━━━━━━━━━━━━\u001b[0m\u001b[37m\u001b[0m \u001b[1m4s\u001b[0m 1ms/step\n"
          ]
        }
      ]
    },
    {
      "cell_type": "code",
      "source": [
        "print(\"Final accuracy: {}\".format(score_cnn))\n",
        "print(classification_report(y_true_cnn, pred_cnn))"
      ],
      "metadata": {
        "colab": {
          "base_uri": "https://localhost:8080/"
        },
        "id": "Z5CL95K4acfS",
        "outputId": "fd92f548-d032-40a6-da6d-1a6de65c692d"
      },
      "execution_count": 34,
      "outputs": [
        {
          "output_type": "stream",
          "name": "stdout",
          "text": [
            "Final accuracy: 0.9060511101394355\n",
            "              precision    recall  f1-score   support\n",
            "\n",
            "           0       0.92      0.87      0.89     37000\n",
            "           1       0.90      0.93      0.92     45332\n",
            "\n",
            "    accuracy                           0.91     82332\n",
            "   macro avg       0.91      0.90      0.90     82332\n",
            "weighted avg       0.91      0.91      0.91     82332\n",
            "\n"
          ]
        }
      ]
    }
  ]
}