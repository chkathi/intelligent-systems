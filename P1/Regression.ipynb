{
 "cells": [
  {
   "cell_type": "code",
   "execution_count": 1,
   "metadata": {},
   "outputs": [],
   "source": [
    "from collections.abc import Sequence\n",
    "from sklearn import preprocessing\n",
    "import matplotlib.pyplot as plt\n",
    "import numpy as np\n",
    "import pandas as pd\n",
    "\n",
    "\n",
    "# Encode text values to dummy variables(i.e. [1,0,0],[0,1,0],[0,0,1] for red,green,blue)\n",
    "def encode_text_dummy(df, name):\n",
    "    dummies = pd.get_dummies(df[name])\n",
    "    for x in dummies.columns:\n",
    "        dummy_name = \"{}-{}\".format(name, x)\n",
    "        df[dummy_name] = dummies[x]\n",
    "    df.drop(name, axis=1, inplace=True)\n",
    "\n",
    "\n",
    "# Encode text values to indexes(i.e. [1],[2],[3] for red,green,blue).\n",
    "def encode_text_index(df, name):\n",
    "    le = preprocessing.LabelEncoder()\n",
    "    df[name] = le.fit_transform(df[name])\n",
    "    return le.classes_\n",
    "\n",
    "\n",
    "# Encode a numeric column as zscores\n",
    "def encode_numeric_zscore(df, name, mean=None, sd=None):\n",
    "    if mean is None:\n",
    "        mean = df[name].mean()\n",
    "\n",
    "    if sd is None:\n",
    "        sd = df[name].std()\n",
    "\n",
    "    df[name] = (df[name] - mean) / sd\n",
    "\n",
    "\n",
    "# Convert all missing values in the specified column to the median\n",
    "def missing_median(df, name):\n",
    "    med = df[name].median()\n",
    "    df[name] = df[name].fillna(med)\n",
    "\n",
    "\n",
    "# Convert all missing values in the specified column to the default\n",
    "def missing_default(df, name, default_value):\n",
    "    df[name] = df[name].fillna(default_value)\n",
    "\n",
    "\n",
    "# Convert a Pandas dataframe to the x,y inputs that TensorFlow needs\n",
    "def to_xy(df, target):\n",
    "    result = []\n",
    "    for x in df.columns:\n",
    "        if x != target:\n",
    "            result.append(x)\n",
    "    # find out the type of the target column. \n",
    "    target_type = df[target].dtypes\n",
    "    target_type = target_type[0] if isinstance(target_type, Sequence) else target_type\n",
    "    # Encode to int for classification, float otherwise. TensorFlow likes 32 bits.\n",
    "    if target_type in (np.int64, np.int32):\n",
    "        # Classification\n",
    "        dummies = pd.get_dummies(df[target])\n",
    "        return df[result].values.astype(np.float32), dummies.values.astype(np.float32)\n",
    "    else:\n",
    "        # Regression\n",
    "        return df[result].values.astype(np.float32), df[target].values.astype(np.float32)\n",
    "\n",
    "# Nicely formatted time string\n",
    "def hms_string(sec_elapsed):\n",
    "    h = int(sec_elapsed / (60 * 60))\n",
    "    m = int((sec_elapsed % (60 * 60)) / 60)\n",
    "    s = sec_elapsed % 60\n",
    "    return \"{}:{:>02}:{:>05.2f}\".format(h, m, s)\n",
    "\n",
    "\n",
    "# Regression chart.\n",
    "def chart_regression(pred,y,sort=True):\n",
    "    t = pd.DataFrame({'pred' : pred, 'y' : y.flatten()})\n",
    "    if sort:\n",
    "        t.sort_values(by=['y'],inplace=True)\n",
    "    a = plt.plot(t['y'].tolist(),label='expected')\n",
    "    b = plt.plot(t['pred'].tolist(),label='prediction')\n",
    "    plt.ylabel('output')\n",
    "    plt.legend()\n",
    "    plt.show()\n",
    "\n",
    "# Remove all rows where the specified column is +/- sd standard deviations\n",
    "def remove_outliers(df, name, sd):\n",
    "    drop_rows = df.index[(np.abs(df[name] - df[name].mean()) >= (sd * df[name].std()))]\n",
    "    df.drop(drop_rows, axis=0, inplace=True)\n",
    "\n",
    "\n",
    "# Encode a column to a range between normalized_low and normalized_high.\n",
    "def encode_numeric_range(df, name, normalized_low=-1, normalized_high=1,\n",
    "                         data_low=None, data_high=None):\n",
    "    if data_low is None:\n",
    "        data_low = min(df[name])\n",
    "        data_high = max(df[name])\n",
    "\n",
    "    df[name] = ((df[name] - data_low) / (data_high - data_low)) \\\n",
    "               * (normalized_high - normalized_low) + normalized_low\n"
   ]
  },
  {
   "attachments": {},
   "cell_type": "markdown",
   "metadata": {},
   "source": [
    "# Import Data"
   ]
  },
  {
   "cell_type": "code",
   "execution_count": 16,
   "metadata": {},
   "outputs": [],
   "source": [
    "import pandas as pd\n",
    "import numpy as np\n",
    "\n",
    "# Convert Data from JSON to Pandas\n",
    "reviews = pd.read_json('yelp_academic_dataset_review.json', lines=True, nrows=1000000)\n",
    "\n",
    "businesses = pd.read_json('yelp_academic_dataset_business.json', lines=True, nrows=1000000)\n",
    "\n",
    "# Rename to distinguish star ratings after join\n",
    "reviews = reviews.rename(columns={'stars': 'review_rating'})\n",
    "businesses = businesses.rename(columns={'stars': 'business_rating'})\n",
    "businesses['location'] = businesses['city'] + \", \" + businesses['state']\n"
   ]
  },
  {
   "attachments": {},
   "cell_type": "markdown",
   "metadata": {},
   "source": [
    "# Data Pre-processing"
   ]
  },
  {
   "cell_type": "code",
   "execution_count": 17,
   "metadata": {},
   "outputs": [],
   "source": [
    "# Filter businesses out (review_count < 20 and null business_id & review_count)\n",
    "businesses =  businesses[businesses.review_count > 20]\n",
    "\n",
    "# Remove all business with no business_id, review_count, and business_rating\n",
    "businesses = businesses.dropna(subset=[\n",
    "  'business_id', 'review_count', 'business_rating'\n",
    "])"
   ]
  },
  {
   "cell_type": "code",
   "execution_count": 41,
   "metadata": {},
   "outputs": [
    {
     "name": "stdout",
     "output_type": "stream",
     "text": [
      "Index(['review_id', 'user_id', 'business_id', 'review_rating', 'useful',\n",
      "       'funny', 'cool', 'text', 'date', 'name', 'address', 'city', 'state',\n",
      "       'postal_code', 'latitude', 'longitude', 'business_rating',\n",
      "       'review_count', 'is_open', 'attributes', 'categories', 'hours',\n",
      "       'location'],\n",
      "      dtype='object')\n",
      "(881167, 23)\n"
     ]
    }
   ],
   "source": [
    "# Merge the business and reviews together \n",
    "all_reviews = pd.merge(reviews,businesses, on='business_id') \n",
    "\n",
    "print(all_reviews.columns)\n",
    "print(all_reviews.shape)\n",
    "# all_reviews.head()"
   ]
  },
  {
   "cell_type": "code",
   "execution_count": 42,
   "metadata": {},
   "outputs": [
    {
     "name": "stdout",
     "output_type": "stream",
     "text": [
      "(11520, 4) (11520,)\n"
     ]
    }
   ],
   "source": [
    "# Input features : Text, Location, Review_count\n",
    "# Ouput (Predicted) feature : Business_rating\n",
    "all_reviews = all_reviews[[\n",
    "  'business_id', \n",
    "  'text', \n",
    "  # 'location', \n",
    "  'review_count',\n",
    "  'business_rating', \n",
    "]]\n",
    "\n",
    "# all_reviews.shape \n",
    "# Combine all the business's reviews into one text\n",
    "business_reviews = all_reviews.groupby('business_id')['text'].sum()\n",
    "\n",
    "\n",
    "# removes duplicates where the subsets are the same\n",
    "all_reviews = all_reviews.drop_duplicates(subset=['business_id', 'business_rating', 'review_count'])\n",
    "\n",
    "print(\n",
    "  all_reviews.shape, business_reviews.shape\n",
    ")"
   ]
  },
  {
   "cell_type": "code",
   "execution_count": 62,
   "metadata": {},
   "outputs": [
    {
     "name": "stdout",
     "output_type": "stream",
     "text": [
      "(11520, 2) (11520, 1)\n"
     ]
    }
   ],
   "source": [
    "# Create Dataframe with location, review_count, and business_rating\n",
    "df_business_reviews = pd.DataFrame({\n",
    "  # 'location' : all_reviews['location'],\n",
    "  'review_count' : all_reviews['review_count'],\n",
    "  'business_rating' : all_reviews['business_rating'],\n",
    "})\n",
    "\n",
    "# Create Dataframe for review text for TF IDF vectorizer \n",
    "text = pd.DataFrame({'text': business_reviews.values})\n",
    "\n",
    "print(\n",
    "  df_business_reviews.shape, text.shape\n",
    ")"
   ]
  },
  {
   "cell_type": "code",
   "execution_count": 63,
   "metadata": {},
   "outputs": [
    {
     "name": "stdout",
     "output_type": "stream",
     "text": [
      "(11520, 2)\n",
      "Index(['review_count', 'business_rating'], dtype='object')\n"
     ]
    }
   ],
   "source": [
    "# One hot encoding for location\n",
    "# df_encoded = pd.get_dummies(df_business_reviews['location'])\n",
    "# df_business_reviews = pd.concat([df_encoded, df_business_reviews], axis=1)\n",
    "\n",
    "# Drop location column now that one)\n",
    "# df_business_reviews.drop(['location'], axis=1, inplace=True)\n",
    "\n",
    "\n",
    "# Replace nulls with mean and normalize review count for the business\n",
    "missing_median(df_business_reviews, 'review_count')\n",
    "encode_numeric_zscore(df_business_reviews, 'review_count')\n",
    "\n",
    "print(df_business_reviews.shape)\n",
    "print(df_business_reviews.columns)"
   ]
  },
  {
   "attachments": {},
   "cell_type": "markdown",
   "metadata": {},
   "source": [
    "# TF_IDF Vectorizer"
   ]
  },
  {
   "cell_type": "code",
   "execution_count": 64,
   "metadata": {},
   "outputs": [
    {
     "name": "stdout",
     "output_type": "stream",
     "text": [
      "(11520, 1000) (11520, 2)\n"
     ]
    }
   ],
   "source": [
    "from sklearn.feature_extraction.text import TfidfVectorizer\n",
    "\n",
    "# Initialize the TF-IDF vectorizer\n",
    "vectorizer = TfidfVectorizer(stop_words='english',max_features=1000,min_df=1)\n",
    "# Fit and transform the aggregated reviews into a TF-IDF matrix\n",
    "tfidf_wm = vectorizer.fit_transform(text['text'])\n",
    "\n",
    "# Retrieve the feature names (i.e., the vocabulary)\n",
    "tfidf_tokens = vectorizer.get_feature_names_out()\n",
    "\n",
    "# Create a DataFrame from the TF-IDF matrix for easier viewing\n",
    "df_tfidfvect = pd.DataFrame(data=tfidf_wm.toarray(), columns=tfidf_tokens)\n",
    "\n",
    "print(\n",
    "  df_tfidfvect.shape, df_business_reviews.shape\n",
    ")\n"
   ]
  },
  {
   "attachments": {},
   "cell_type": "markdown",
   "metadata": {},
   "source": [
    "# Create one table with all information"
   ]
  },
  {
   "cell_type": "code",
   "execution_count": 58,
   "metadata": {},
   "outputs": [
    {
     "name": "stdout",
     "output_type": "stream",
     "text": [
      "Before:  (11520, 1) (11520, 1000)\n",
      "business_rating    0\n",
      "00                 0\n",
      "10                 0\n",
      "100                0\n",
      "11                 0\n",
      "                  ..\n",
      "yelp               0\n",
      "yes                0\n",
      "young              0\n",
      "yum                0\n",
      "yummy              0\n",
      "Length: 1001, dtype: int64\n",
      "After:  (11520, 1) (11520, 1000)\n"
     ]
    }
   ],
   "source": [
    "# business_id, rating concatonated onto the df_idfvect\n",
    "print(\"Before: \", df_business_reviews.shape, df_tfidfvect.shape)\n",
    "\n",
    "df_business_reviews.reset_index(drop=True, inplace=True)\n",
    "df_tfidfvect.reset_index(drop=True, inplace=True)\n",
    "df_business = pd.concat([df_business_reviews, df_tfidfvect], axis=1)\n",
    "\n",
    "\n",
    "# df_business.fillna(value, inplace=True)\n",
    "print(df_business.isna().sum())\n",
    "print(\"After: \", df_business_reviews.shape, df_tfidfvect.shape)\n"
   ]
  },
  {
   "attachments": {},
   "cell_type": "markdown",
   "metadata": {},
   "source": [
    "# Test/Train Split"
   ]
  },
  {
   "cell_type": "code",
   "execution_count": 59,
   "metadata": {},
   "outputs": [
    {
     "name": "stdout",
     "output_type": "stream",
     "text": [
      "(9216, 1000) (9216,) (2304, 1000) (2304,)\n"
     ]
    }
   ],
   "source": [
    "from sklearn.model_selection import train_test_split\n",
    "\n",
    "x, y = to_xy(df_business, 'business_rating')\n",
    "\n",
    "# Split into train/test\n",
    "x_train, x_test, y_train, y_test = train_test_split(x, y, test_size=0.20, random_state=42)\n",
    "\n",
    "print(x_train.shape, y_train.shape, x_test.shape, y_test.shape)"
   ]
  },
  {
   "cell_type": "markdown",
   "metadata": {},
   "source": [
    "# Model Training"
   ]
  },
  {
   "cell_type": "code",
   "execution_count": 60,
   "metadata": {},
   "outputs": [],
   "source": [
    "# Imports for all the models\n",
    "%matplotlib inline\n",
    "from matplotlib.pyplot import figure, show\n",
    "from sklearn import metrics\n",
    "\n",
    "from tensorflow.keras.models import Sequential\n",
    "from tensorflow.keras.layers import Dense, Activation, Dropout\n",
    "from tensorflow.keras.callbacks import EarlyStopping\n",
    "from tensorflow.keras.callbacks import ModelCheckpoint\n",
    "from tensorflow.keras import optimizers\n",
    "from tensorflow.keras.optimizers import Adam, SGD, legacy"
   ]
  },
  {
   "cell_type": "code",
   "execution_count": 61,
   "metadata": {},
   "outputs": [
    {
     "name": "stdout",
     "output_type": "stream",
     "text": [
      "Epoch 1/100\n",
      "288/288 - 6s - loss: 1.0418 - val_loss: 0.8488 - 6s/epoch - 21ms/step\n",
      "Epoch 2/100\n",
      "288/288 - 4s - loss: 0.7628 - val_loss: 0.7446 - 4s/epoch - 15ms/step\n",
      "Epoch 3/100\n",
      "288/288 - 4s - loss: 0.7340 - val_loss: 0.7501 - 4s/epoch - 12ms/step\n",
      "Epoch 4/100\n",
      "288/288 - 3s - loss: 0.7231 - val_loss: 0.7122 - 3s/epoch - 11ms/step\n",
      "Epoch 5/100\n",
      "288/288 - 4s - loss: 0.7150 - val_loss: 0.7351 - 4s/epoch - 13ms/step\n",
      "Epoch 6/100\n",
      "288/288 - 3s - loss: 0.7050 - val_loss: 0.7406 - 3s/epoch - 11ms/step\n",
      "Epoch 6: early stopping\n",
      "72/72 [==============================] - 0s 5ms/step\n",
      "Score (RMSE): 0.8438947796821594\n"
     ]
    },
    {
     "data": {
      "image/png": "[encoded data removed]",
      "text/plain": [
       "<Figure size 640x480 with 1 Axes>"
      ]
     },
     "metadata": {},
     "output_type": "display_data"
    }
   ],
   "source": [
    "# Model # 1\n",
    "# NO Location, No Review_count, Only text features # = 1000\n",
    "\n",
    "parameters = {\n",
    "  'learning_rate' : 0.001, \n",
    "  'batch_size' : 32, \n",
    "  'epochs' : 100\n",
    "}\n",
    "\n",
    "# Initialize Optimizers\n",
    "adam = optimizers.Adam(learning_rate=parameters['learning_rate'], beta_1=0.9, beta_2=0.999)\n",
    "sgd = optimizers.SGD(learning_rate=parameters['learning_rate'], momentum=0.9, nesterov=True)  \n",
    "\n",
    "# Initialize ModelCheckpoint and EarlyStopping\n",
    "monitor = EarlyStopping(monitor='val_loss', min_delta=1e-3, patience=2, verbose=1, mode='auto')\n",
    "checkpointer = ModelCheckpoint(filepath=\"dnn/best_weights1.keras\", verbose=0, save_best_only=True)\n",
    "\n",
    "model = Sequential()\n",
    "model.add(Dense(1000, input_dim=x.shape[1]))\n",
    "model.add(Dense(512))\n",
    "model.add(Dense(100))\n",
    "model.add(Dense(1))\n",
    "\n",
    "# model = Sequential()\n",
    "# model.add(Dense(64, input_dim=x.shape[1], activation='tanh'))\n",
    "# model.add(Dense(32, activation='relu'))\n",
    "# model.add(Dense(16, activation='relu'))\n",
    "# model.add(Dense(1))\n",
    "model.compile(loss='mean_squared_error', optimizer=adam)\n",
    "\n",
    "\n",
    "model.fit(\n",
    "  x_train,y_train,validation_data=(x_test,y_test), \n",
    "  batch_size= parameters['batch_size'], callbacks=[monitor, checkpointer],\n",
    "  verbose=2,epochs=parameters['epochs']\n",
    ")\n",
    "\n",
    "model.load_weights('dnn/best_weights1.keras') # load weights from best model\n",
    "\n",
    "# Predict and measure RMSE\n",
    "pred = model.predict(x_test)\n",
    "score = np.sqrt(metrics.mean_squared_error(pred,y_test))\n",
    "print(\"Score (RMSE): {}\".format(score))\n",
    "\n",
    "# Plot the chart\n",
    "chart_regression(pred.flatten(),y_test)"
   ]
  },
  {
   "cell_type": "code",
   "execution_count": null,
   "metadata": {},
   "outputs": [],
   "source": [
    "# Model # 2 : Optimizer Adam, 2 Small Hidden Layers, Activation Function (tanh)\n",
    "\n",
    "parameters = {\n",
    "  'learning_rate' : 0.001, \n",
    "  'batch_size' : 32, \n",
    "  'epochs' : 100\n",
    "}\n",
    "\n",
    "# Initialize Optimizers\n",
    "adam = optimizers.Adam(learning_rate=parameters['learning_rate'], beta_1=0.9, beta_2=0.999)\n",
    "sgd = optimizers.SGD(learning_rate=parameters['learning_rate'], momentum=0.9, nesterov=True)  \n",
    "\n",
    "# Initialize ModelCheckpoint and EarlyStopping\n",
    "monitor = EarlyStopping(monitor='val_loss', min_delta=1e-3, patience=2, verbose=1, mode='auto')\n",
    "checkpointer = ModelCheckpoint(filepath=\"dnn/best_weights1.keras\", verbose=0, save_best_only=True)\n",
    "\n",
    "model = Sequential()\n",
    "model.add(Dense(1000, input_dim=x.shape[1]))\n",
    "# model.add(Dense(512))\n",
    "# model.add(Dense(100))\n",
    "model.add(Dense(1))\n",
    "\n",
    "# model = Sequential()\n",
    "# model.add(Dense(64, input_dim=x.shape[1], activation='tanh'))\n",
    "# model.add(Dense(32, activation='relu'))\n",
    "# model.add(Dense(16, activation='relu'))\n",
    "# model.add(Dense(1))\n",
    "model.compile(loss='mean_squared_error', optimizer=sgd)\n",
    "\n",
    "\n",
    "model.fit(\n",
    "  x_train,y_train,validation_data=(x_test,y_test), \n",
    "  batch_size= parameters['batch_size'], callbacks=[monitor, checkpointer],\n",
    "  verbose=2,epochs=parameters['epochs']\n",
    ")\n",
    "\n",
    "model.load_weights('dnn/best_weights1.keras') # load weights from best model\n",
    "\n",
    "# Predict and measure RMSE\n",
    "pred = model.predict(x_test)\n",
    "score = np.sqrt(metrics.mean_squared_error(pred,y_test))\n",
    "print(\"Score (RMSE): {}\".format(score))\n",
    "\n",
    "# Plot the chart\n",
    "chart_regression(pred.flatten(),y_test)"
   ]
  },
  {
   "cell_type": "code",
   "execution_count": 34,
   "metadata": {},
   "outputs": [
    {
     "name": "stdout",
     "output_type": "stream",
     "text": [
      "Epoch 1/20\n",
      "1152/1152 - 69s - loss: 7.3585 - val_loss: 1.6813 - 69s/epoch - 60ms/step\n",
      "Epoch 2/20\n",
      "1152/1152 - 65s - loss: 0.8498 - val_loss: 0.6683 - 65s/epoch - 56ms/step\n",
      "Epoch 3/20\n",
      "1152/1152 - 65s - loss: 0.6889 - val_loss: 0.6660 - 65s/epoch - 56ms/step\n",
      "Epoch 4/20\n",
      "1152/1152 - 65s - loss: 0.6859 - val_loss: 0.6637 - 65s/epoch - 57ms/step\n",
      "Epoch 5/20\n",
      "1152/1152 - 68s - loss: 0.6833 - val_loss: 0.6607 - 68s/epoch - 59ms/step\n",
      "Epoch 6/20\n",
      "1152/1152 - 65s - loss: 0.6816 - val_loss: 0.6586 - 65s/epoch - 56ms/step\n",
      "Epoch 7/20\n",
      "1152/1152 - 66s - loss: 0.6797 - val_loss: 0.6574 - 66s/epoch - 57ms/step\n",
      "Epoch 8/20\n"
     ]
    },
    {
     "ename": "KeyboardInterrupt",
     "evalue": "",
     "output_type": "error",
     "traceback": [
      "\u001b[0;31m---------------------------------------------------------------------------\u001b[0m",
      "\u001b[0;31mKeyboardInterrupt\u001b[0m                         Traceback (most recent call last)",
      "Cell \u001b[0;32mIn[34], line 36\u001b[0m\n\u001b[1;32m     32\u001b[0m model\u001b[38;5;241m.\u001b[39madd(Dense(\u001b[38;5;241m1\u001b[39m))\n\u001b[1;32m     34\u001b[0m model\u001b[38;5;241m.\u001b[39mcompile(loss\u001b[38;5;241m=\u001b[39m\u001b[38;5;124m'\u001b[39m\u001b[38;5;124mmean_squared_error\u001b[39m\u001b[38;5;124m'\u001b[39m, optimizer\u001b[38;5;241m=\u001b[39msgd)\n\u001b[0;32m---> 36\u001b[0m model\u001b[38;5;241m.\u001b[39mfit(\n\u001b[1;32m     37\u001b[0m   x_train,y_train,validation_data\u001b[38;5;241m=\u001b[39m(x_test,y_test), \n\u001b[1;32m     38\u001b[0m   batch_size\u001b[38;5;241m=\u001b[39m parameters[\u001b[38;5;124m'\u001b[39m\u001b[38;5;124mbatch_size\u001b[39m\u001b[38;5;124m'\u001b[39m], callbacks\u001b[38;5;241m=\u001b[39m[monitor, checkpointer],\n\u001b[1;32m     39\u001b[0m   verbose\u001b[38;5;241m=\u001b[39m\u001b[38;5;241m2\u001b[39m,epochs\u001b[38;5;241m=\u001b[39mparameters[\u001b[38;5;124m'\u001b[39m\u001b[38;5;124mepochs\u001b[39m\u001b[38;5;124m'\u001b[39m]\n\u001b[1;32m     40\u001b[0m )\n\u001b[1;32m     41\u001b[0m model\u001b[38;5;241m.\u001b[39mload_weights(\u001b[38;5;124m'\u001b[39m\u001b[38;5;124mdnn/best_weights2.keras\u001b[39m\u001b[38;5;124m'\u001b[39m) \u001b[38;5;66;03m# load weights from best model\u001b[39;00m\n\u001b[1;32m     43\u001b[0m \u001b[38;5;66;03m# Predict and measure RMSE\u001b[39;00m\n",
      "File \u001b[0;32m/opt/anaconda3/envs/myenv/lib/python3.11/site-packages/keras/utils/traceback_utils.py:65\u001b[0m, in \u001b[0;36mfilter_traceback.<locals>.error_handler\u001b[0;34m(*args, **kwargs)\u001b[0m\n\u001b[1;32m     63\u001b[0m filtered_tb \u001b[38;5;241m=\u001b[39m \u001b[38;5;28;01mNone\u001b[39;00m\n\u001b[1;32m     64\u001b[0m \u001b[38;5;28;01mtry\u001b[39;00m:\n\u001b[0;32m---> 65\u001b[0m     \u001b[38;5;28;01mreturn\u001b[39;00m fn(\u001b[38;5;241m*\u001b[39margs, \u001b[38;5;241m*\u001b[39m\u001b[38;5;241m*\u001b[39mkwargs)\n\u001b[1;32m     66\u001b[0m \u001b[38;5;28;01mexcept\u001b[39;00m \u001b[38;5;167;01mException\u001b[39;00m \u001b[38;5;28;01mas\u001b[39;00m e:\n\u001b[1;32m     67\u001b[0m     filtered_tb \u001b[38;5;241m=\u001b[39m _process_traceback_frames(e\u001b[38;5;241m.\u001b[39m__traceback__)\n",
      "File \u001b[0;32m/opt/anaconda3/envs/myenv/lib/python3.11/site-packages/keras/engine/training.py:1685\u001b[0m, in \u001b[0;36mModel.fit\u001b[0;34m(self, x, y, batch_size, epochs, verbose, callbacks, validation_split, validation_data, shuffle, class_weight, sample_weight, initial_epoch, steps_per_epoch, validation_steps, validation_batch_size, validation_freq, max_queue_size, workers, use_multiprocessing)\u001b[0m\n\u001b[1;32m   1677\u001b[0m \u001b[38;5;28;01mwith\u001b[39;00m tf\u001b[38;5;241m.\u001b[39mprofiler\u001b[38;5;241m.\u001b[39mexperimental\u001b[38;5;241m.\u001b[39mTrace(\n\u001b[1;32m   1678\u001b[0m     \u001b[38;5;124m\"\u001b[39m\u001b[38;5;124mtrain\u001b[39m\u001b[38;5;124m\"\u001b[39m,\n\u001b[1;32m   1679\u001b[0m     epoch_num\u001b[38;5;241m=\u001b[39mepoch,\n\u001b[0;32m   (...)\u001b[0m\n\u001b[1;32m   1682\u001b[0m     _r\u001b[38;5;241m=\u001b[39m\u001b[38;5;241m1\u001b[39m,\n\u001b[1;32m   1683\u001b[0m ):\n\u001b[1;32m   1684\u001b[0m     callbacks\u001b[38;5;241m.\u001b[39mon_train_batch_begin(step)\n\u001b[0;32m-> 1685\u001b[0m     tmp_logs \u001b[38;5;241m=\u001b[39m \u001b[38;5;28mself\u001b[39m\u001b[38;5;241m.\u001b[39mtrain_function(iterator)\n\u001b[1;32m   1686\u001b[0m     \u001b[38;5;28;01mif\u001b[39;00m data_handler\u001b[38;5;241m.\u001b[39mshould_sync:\n\u001b[1;32m   1687\u001b[0m         context\u001b[38;5;241m.\u001b[39masync_wait()\n",
      "File \u001b[0;32m/opt/anaconda3/envs/myenv/lib/python3.11/site-packages/tensorflow/python/util/traceback_utils.py:150\u001b[0m, in \u001b[0;36mfilter_traceback.<locals>.error_handler\u001b[0;34m(*args, **kwargs)\u001b[0m\n\u001b[1;32m    148\u001b[0m filtered_tb \u001b[38;5;241m=\u001b[39m \u001b[38;5;28;01mNone\u001b[39;00m\n\u001b[1;32m    149\u001b[0m \u001b[38;5;28;01mtry\u001b[39;00m:\n\u001b[0;32m--> 150\u001b[0m   \u001b[38;5;28;01mreturn\u001b[39;00m fn(\u001b[38;5;241m*\u001b[39margs, \u001b[38;5;241m*\u001b[39m\u001b[38;5;241m*\u001b[39mkwargs)\n\u001b[1;32m    151\u001b[0m \u001b[38;5;28;01mexcept\u001b[39;00m \u001b[38;5;167;01mException\u001b[39;00m \u001b[38;5;28;01mas\u001b[39;00m e:\n\u001b[1;32m    152\u001b[0m   filtered_tb \u001b[38;5;241m=\u001b[39m _process_traceback_frames(e\u001b[38;5;241m.\u001b[39m__traceback__)\n",
      "File \u001b[0;32m/opt/anaconda3/envs/myenv/lib/python3.11/site-packages/tensorflow/python/eager/polymorphic_function/polymorphic_function.py:894\u001b[0m, in \u001b[0;36mFunction.__call__\u001b[0;34m(self, *args, **kwds)\u001b[0m\n\u001b[1;32m    891\u001b[0m compiler \u001b[38;5;241m=\u001b[39m \u001b[38;5;124m\"\u001b[39m\u001b[38;5;124mxla\u001b[39m\u001b[38;5;124m\"\u001b[39m \u001b[38;5;28;01mif\u001b[39;00m \u001b[38;5;28mself\u001b[39m\u001b[38;5;241m.\u001b[39m_jit_compile \u001b[38;5;28;01melse\u001b[39;00m \u001b[38;5;124m\"\u001b[39m\u001b[38;5;124mnonXla\u001b[39m\u001b[38;5;124m\"\u001b[39m\n\u001b[1;32m    893\u001b[0m \u001b[38;5;28;01mwith\u001b[39;00m OptionalXlaContext(\u001b[38;5;28mself\u001b[39m\u001b[38;5;241m.\u001b[39m_jit_compile):\n\u001b[0;32m--> 894\u001b[0m   result \u001b[38;5;241m=\u001b[39m \u001b[38;5;28mself\u001b[39m\u001b[38;5;241m.\u001b[39m_call(\u001b[38;5;241m*\u001b[39margs, \u001b[38;5;241m*\u001b[39m\u001b[38;5;241m*\u001b[39mkwds)\n\u001b[1;32m    896\u001b[0m new_tracing_count \u001b[38;5;241m=\u001b[39m \u001b[38;5;28mself\u001b[39m\u001b[38;5;241m.\u001b[39mexperimental_get_tracing_count()\n\u001b[1;32m    897\u001b[0m without_tracing \u001b[38;5;241m=\u001b[39m (tracing_count \u001b[38;5;241m==\u001b[39m new_tracing_count)\n",
      "File \u001b[0;32m/opt/anaconda3/envs/myenv/lib/python3.11/site-packages/tensorflow/python/eager/polymorphic_function/polymorphic_function.py:926\u001b[0m, in \u001b[0;36mFunction._call\u001b[0;34m(self, *args, **kwds)\u001b[0m\n\u001b[1;32m    923\u001b[0m   \u001b[38;5;28mself\u001b[39m\u001b[38;5;241m.\u001b[39m_lock\u001b[38;5;241m.\u001b[39mrelease()\n\u001b[1;32m    924\u001b[0m   \u001b[38;5;66;03m# In this case we have created variables on the first call, so we run the\u001b[39;00m\n\u001b[1;32m    925\u001b[0m   \u001b[38;5;66;03m# defunned version which is guaranteed to never create variables.\u001b[39;00m\n\u001b[0;32m--> 926\u001b[0m   \u001b[38;5;28;01mreturn\u001b[39;00m \u001b[38;5;28mself\u001b[39m\u001b[38;5;241m.\u001b[39m_no_variable_creation_fn(\u001b[38;5;241m*\u001b[39margs, \u001b[38;5;241m*\u001b[39m\u001b[38;5;241m*\u001b[39mkwds)  \u001b[38;5;66;03m# pylint: disable=not-callable\u001b[39;00m\n\u001b[1;32m    927\u001b[0m \u001b[38;5;28;01melif\u001b[39;00m \u001b[38;5;28mself\u001b[39m\u001b[38;5;241m.\u001b[39m_variable_creation_fn \u001b[38;5;129;01mis\u001b[39;00m \u001b[38;5;129;01mnot\u001b[39;00m \u001b[38;5;28;01mNone\u001b[39;00m:\n\u001b[1;32m    928\u001b[0m   \u001b[38;5;66;03m# Release the lock early so that multiple threads can perform the call\u001b[39;00m\n\u001b[1;32m    929\u001b[0m   \u001b[38;5;66;03m# in parallel.\u001b[39;00m\n\u001b[1;32m    930\u001b[0m   \u001b[38;5;28mself\u001b[39m\u001b[38;5;241m.\u001b[39m_lock\u001b[38;5;241m.\u001b[39mrelease()\n",
      "File \u001b[0;32m/opt/anaconda3/envs/myenv/lib/python3.11/site-packages/tensorflow/python/eager/polymorphic_function/tracing_compiler.py:143\u001b[0m, in \u001b[0;36mTracingCompiler.__call__\u001b[0;34m(self, *args, **kwargs)\u001b[0m\n\u001b[1;32m    140\u001b[0m \u001b[38;5;28;01mwith\u001b[39;00m \u001b[38;5;28mself\u001b[39m\u001b[38;5;241m.\u001b[39m_lock:\n\u001b[1;32m    141\u001b[0m   (concrete_function,\n\u001b[1;32m    142\u001b[0m    filtered_flat_args) \u001b[38;5;241m=\u001b[39m \u001b[38;5;28mself\u001b[39m\u001b[38;5;241m.\u001b[39m_maybe_define_function(args, kwargs)\n\u001b[0;32m--> 143\u001b[0m \u001b[38;5;28;01mreturn\u001b[39;00m concrete_function\u001b[38;5;241m.\u001b[39m_call_flat(\n\u001b[1;32m    144\u001b[0m     filtered_flat_args, captured_inputs\u001b[38;5;241m=\u001b[39mconcrete_function\u001b[38;5;241m.\u001b[39mcaptured_inputs)\n",
      "File \u001b[0;32m/opt/anaconda3/envs/myenv/lib/python3.11/site-packages/tensorflow/python/eager/polymorphic_function/monomorphic_function.py:1757\u001b[0m, in \u001b[0;36mConcreteFunction._call_flat\u001b[0;34m(self, args, captured_inputs, cancellation_manager)\u001b[0m\n\u001b[1;32m   1753\u001b[0m possible_gradient_type \u001b[38;5;241m=\u001b[39m gradients_util\u001b[38;5;241m.\u001b[39mPossibleTapeGradientTypes(args)\n\u001b[1;32m   1754\u001b[0m \u001b[38;5;28;01mif\u001b[39;00m (possible_gradient_type \u001b[38;5;241m==\u001b[39m gradients_util\u001b[38;5;241m.\u001b[39mPOSSIBLE_GRADIENT_TYPES_NONE\n\u001b[1;32m   1755\u001b[0m     \u001b[38;5;129;01mand\u001b[39;00m executing_eagerly):\n\u001b[1;32m   1756\u001b[0m   \u001b[38;5;66;03m# No tape is watching; skip to running the function.\u001b[39;00m\n\u001b[0;32m-> 1757\u001b[0m   \u001b[38;5;28;01mreturn\u001b[39;00m \u001b[38;5;28mself\u001b[39m\u001b[38;5;241m.\u001b[39m_build_call_outputs(\u001b[38;5;28mself\u001b[39m\u001b[38;5;241m.\u001b[39m_inference_function\u001b[38;5;241m.\u001b[39mcall(\n\u001b[1;32m   1758\u001b[0m       ctx, args, cancellation_manager\u001b[38;5;241m=\u001b[39mcancellation_manager))\n\u001b[1;32m   1759\u001b[0m forward_backward \u001b[38;5;241m=\u001b[39m \u001b[38;5;28mself\u001b[39m\u001b[38;5;241m.\u001b[39m_select_forward_and_backward_functions(\n\u001b[1;32m   1760\u001b[0m     args,\n\u001b[1;32m   1761\u001b[0m     possible_gradient_type,\n\u001b[1;32m   1762\u001b[0m     executing_eagerly)\n\u001b[1;32m   1763\u001b[0m forward_function, args_with_tangents \u001b[38;5;241m=\u001b[39m forward_backward\u001b[38;5;241m.\u001b[39mforward()\n",
      "File \u001b[0;32m/opt/anaconda3/envs/myenv/lib/python3.11/site-packages/tensorflow/python/eager/polymorphic_function/monomorphic_function.py:381\u001b[0m, in \u001b[0;36m_EagerDefinedFunction.call\u001b[0;34m(self, ctx, args, cancellation_manager)\u001b[0m\n\u001b[1;32m    379\u001b[0m \u001b[38;5;28;01mwith\u001b[39;00m _InterpolateFunctionError(\u001b[38;5;28mself\u001b[39m):\n\u001b[1;32m    380\u001b[0m   \u001b[38;5;28;01mif\u001b[39;00m cancellation_manager \u001b[38;5;129;01mis\u001b[39;00m \u001b[38;5;28;01mNone\u001b[39;00m:\n\u001b[0;32m--> 381\u001b[0m     outputs \u001b[38;5;241m=\u001b[39m execute\u001b[38;5;241m.\u001b[39mexecute(\n\u001b[1;32m    382\u001b[0m         \u001b[38;5;28mstr\u001b[39m(\u001b[38;5;28mself\u001b[39m\u001b[38;5;241m.\u001b[39msignature\u001b[38;5;241m.\u001b[39mname),\n\u001b[1;32m    383\u001b[0m         num_outputs\u001b[38;5;241m=\u001b[39m\u001b[38;5;28mself\u001b[39m\u001b[38;5;241m.\u001b[39m_num_outputs,\n\u001b[1;32m    384\u001b[0m         inputs\u001b[38;5;241m=\u001b[39margs,\n\u001b[1;32m    385\u001b[0m         attrs\u001b[38;5;241m=\u001b[39mattrs,\n\u001b[1;32m    386\u001b[0m         ctx\u001b[38;5;241m=\u001b[39mctx)\n\u001b[1;32m    387\u001b[0m   \u001b[38;5;28;01melse\u001b[39;00m:\n\u001b[1;32m    388\u001b[0m     outputs \u001b[38;5;241m=\u001b[39m execute\u001b[38;5;241m.\u001b[39mexecute_with_cancellation(\n\u001b[1;32m    389\u001b[0m         \u001b[38;5;28mstr\u001b[39m(\u001b[38;5;28mself\u001b[39m\u001b[38;5;241m.\u001b[39msignature\u001b[38;5;241m.\u001b[39mname),\n\u001b[1;32m    390\u001b[0m         num_outputs\u001b[38;5;241m=\u001b[39m\u001b[38;5;28mself\u001b[39m\u001b[38;5;241m.\u001b[39m_num_outputs,\n\u001b[0;32m   (...)\u001b[0m\n\u001b[1;32m    393\u001b[0m         ctx\u001b[38;5;241m=\u001b[39mctx,\n\u001b[1;32m    394\u001b[0m         cancellation_manager\u001b[38;5;241m=\u001b[39mcancellation_manager)\n",
      "File \u001b[0;32m/opt/anaconda3/envs/myenv/lib/python3.11/site-packages/tensorflow/python/eager/execute.py:52\u001b[0m, in \u001b[0;36mquick_execute\u001b[0;34m(op_name, num_outputs, inputs, attrs, ctx, name)\u001b[0m\n\u001b[1;32m     50\u001b[0m \u001b[38;5;28;01mtry\u001b[39;00m:\n\u001b[1;32m     51\u001b[0m   ctx\u001b[38;5;241m.\u001b[39mensure_initialized()\n\u001b[0;32m---> 52\u001b[0m   tensors \u001b[38;5;241m=\u001b[39m pywrap_tfe\u001b[38;5;241m.\u001b[39mTFE_Py_Execute(ctx\u001b[38;5;241m.\u001b[39m_handle, device_name, op_name,\n\u001b[1;32m     53\u001b[0m                                       inputs, attrs, num_outputs)\n\u001b[1;32m     54\u001b[0m \u001b[38;5;28;01mexcept\u001b[39;00m core\u001b[38;5;241m.\u001b[39m_NotOkStatusException \u001b[38;5;28;01mas\u001b[39;00m e:\n\u001b[1;32m     55\u001b[0m   \u001b[38;5;28;01mif\u001b[39;00m name \u001b[38;5;129;01mis\u001b[39;00m \u001b[38;5;129;01mnot\u001b[39;00m \u001b[38;5;28;01mNone\u001b[39;00m:\n",
      "\u001b[0;31mKeyboardInterrupt\u001b[0m: "
     ]
    }
   ],
   "source": [
    "# Model # 2 : \n",
    "# Optimizer SGD, 3 hidden layers with more neurons, Activation Func (Tanh, Relu)\n",
    "# Decreased Batch Size and Learning Rate\n",
    "\n",
    "parameters = {\n",
    "  'learning_rate' : 1e-5, \n",
    "  'batch_size' : 8, \n",
    "  'epochs' : 20\n",
    "}\n",
    "\n",
    "# Initialize Optimizers\n",
    "sgd = optimizers.SGD(learning_rate=parameters['learning_rate'], momentum=0.9, nesterov=True)  \n",
    "adam = legacy.Adam(learning_rate=parameters['learning_rate'])\n",
    "\n",
    "\n",
    "# Initialize ModelCheckpoint and EarlyStopping\n",
    "monitor = EarlyStopping(monitor='val_loss', min_delta=1e-5, patience=2, verbose=1, mode='auto')\n",
    "checkpointer = ModelCheckpoint(filepath=\"dnn/best_weights2.keras\", verbose=0, save_best_only=True)\n",
    "\n",
    "# model = Sequential()\n",
    "# model.add(Dense(512, activation='relu'))\n",
    "# model.add(Dense(1024, activation='relu'))\n",
    "# model.add(Dense(256, activation='relu'))\n",
    "# # model.add(Dense(128, activation='relu'))\n",
    "# model.add(Dense(1))\n",
    "\n",
    "model = Sequential()\n",
    "model.add(Dense(1024, activation='tanh'))\n",
    "model.add(Dense(2058, activation='relu'))\n",
    "model.add(Dense(256, activation='relu'))\n",
    "# model.add(Dense(128, activation='relu'))\n",
    "model.add(Dense(1))\n",
    "\n",
    "model.compile(loss='mean_squared_error', optimizer=sgd)\n",
    "\n",
    "model.fit(\n",
    "  x_train,y_train,validation_data=(x_test,y_test), \n",
    "  batch_size= parameters['batch_size'], callbacks=[monitor, checkpointer],\n",
    "  verbose=2,epochs=parameters['epochs']\n",
    ")\n",
    "model.load_weights('dnn/best_weights2.keras') # load weights from best model\n",
    "\n",
    "# Predict and measure RMSE\n",
    "pred = model.predict(x_test)\n",
    "score = np.sqrt(metrics.mean_squared_error(pred,y_test))\n",
    "print(\"Score (RMSE): {}\".format(score))\n",
    "\n",
    "# Plot the chart\n",
    "chart_regression(pred.flatten(),y_test)\n"
   ]
  },
  {
   "cell_type": "code",
   "execution_count": 15,
   "metadata": {},
   "outputs": [
    {
     "name": "stdout",
     "output_type": "stream",
     "text": [
      "Epoch 1/20\n",
      "285/285 - 16s - loss: 12.2608 - val_loss: 10.7182 - 16s/epoch - 56ms/step\n",
      "Epoch 2/20\n",
      "285/285 - 15s - loss: 9.0070 - val_loss: 7.4380 - 15s/epoch - 53ms/step\n",
      "Epoch 3/20\n",
      "285/285 - 15s - loss: 5.8313 - val_loss: 4.3856 - 15s/epoch - 51ms/step\n",
      "Epoch 4/20\n",
      "285/285 - 14s - loss: 3.1557 - val_loss: 2.1275 - 14s/epoch - 51ms/step\n",
      "Epoch 5/20\n",
      "285/285 - 14s - loss: 1.4950 - val_loss: 1.0079 - 14s/epoch - 50ms/step\n",
      "Epoch 6/20\n",
      "285/285 - 14s - loss: 0.8352 - val_loss: 0.6634 - 14s/epoch - 50ms/step\n",
      "Epoch 7/20\n",
      "285/285 - 14s - loss: 0.6656 - val_loss: 0.5877 - 14s/epoch - 50ms/step\n",
      "Epoch 8/20\n",
      "285/285 - 14s - loss: 0.6324 - val_loss: 0.5724 - 14s/epoch - 50ms/step\n",
      "Epoch 9/20\n",
      "285/285 - 15s - loss: 0.6249 - val_loss: 0.5686 - 15s/epoch - 51ms/step\n",
      "Epoch 10/20\n",
      "285/285 - 14s - loss: 0.6222 - val_loss: 0.5673 - 14s/epoch - 51ms/step\n",
      "Epoch 11/20\n",
      "285/285 - 14s - loss: 0.6203 - val_loss: 0.5667 - 14s/epoch - 51ms/step\n",
      "Epoch 12/20\n",
      "285/285 - 14s - loss: 0.6187 - val_loss: 0.5663 - 14s/epoch - 50ms/step\n",
      "Epoch 13/20\n",
      "285/285 - 14s - loss: 0.6172 - val_loss: 0.5658 - 14s/epoch - 50ms/step\n",
      "Epoch 14/20\n",
      "285/285 - 14s - loss: 0.6158 - val_loss: 0.5655 - 14s/epoch - 50ms/step\n",
      "Epoch 15/20\n",
      "285/285 - 15s - loss: 0.6145 - val_loss: 0.5650 - 15s/epoch - 51ms/step\n",
      "Epoch 16/20\n",
      "285/285 - 14s - loss: 0.6135 - val_loss: 0.5645 - 14s/epoch - 50ms/step\n",
      "Epoch 17/20\n",
      "285/285 - 14s - loss: 0.6124 - val_loss: 0.5638 - 14s/epoch - 50ms/step\n",
      "Epoch 18/20\n",
      "285/285 - 14s - loss: 0.6115 - val_loss: 0.5635 - 14s/epoch - 49ms/step\n",
      "Epoch 19/20\n",
      "285/285 - 14s - loss: 0.6103 - val_loss: 0.5629 - 14s/epoch - 50ms/step\n",
      "Epoch 20/20\n",
      "285/285 - 14s - loss: 0.6095 - val_loss: 0.5622 - 14s/epoch - 50ms/step\n",
      "18/18 [==============================] - 0s 9ms/step\n",
      "Score (RMSE): 0.7498310804367065\n"
     ]
    },
    {
     "data": {
      "image/png": "[encoded data removed]",
      "text/plain": [
       "<Figure size 640x480 with 1 Axes>"
      ]
     },
     "metadata": {},
     "output_type": "display_data"
    }
   ],
   "source": [
    "# Model #1 : (decide # of neurons in hiddens layers, relu, adam)\n",
    "%matplotlib inline\n",
    "from matplotlib.pyplot import figure, show\n",
    "from sklearn import metrics\n",
    "\n",
    "from tensorflow.keras.models import Sequential\n",
    "from tensorflow.keras.layers import Dense, Activation, Dropout\n",
    "from tensorflow.keras.callbacks import EarlyStopping\n",
    "from tensorflow.keras.callbacks import ModelCheckpoint\n",
    "from tensorflow.keras import optimizers\n",
    "from tensorflow.keras.optimizers import Adam, SGD\n",
    "from keras.layers import InputLayer\n",
    "\n",
    "parameters = {\n",
    "  'learning_rate' : 1e-5,\n",
    "  'batch_size' : 8,\n",
    "  'epochs' : 20\n",
    "}\n",
    "\n",
    "model = Sequential()\n",
    "# model.add(Dense(64, input_dim=x.shape[1], activation='relu'))\n",
    "model.add(Dense(1024, activation='relu'))\n",
    "\n",
    "model.add(Dense(2048, activation='relu'))\n",
    "\n",
    "model.add(Dense(512, activation='relu'))\n",
    "\n",
    "model.add(Dense(1))\n",
    "\n",
    "adam = optimizers.Adam(learning_rate=parameters['learning_rate'], beta_1=0.9, beta_2=0.999)\n",
    "# adam = optimizers.Adam(learning_rate=0.001, beta_1=0.9, beta_2=0.999, amsgrad=False)\n",
    "sgd = optimizers.SGD(learning_rate=parameters['learning_rate'], momentum=0.9, nesterov=True)\n",
    "\n",
    "# model.compile(loss='mean_squared_error', optimizer=sgd)\n",
    "model.compile(loss='mean_squared_error', optimizer=sgd)\n",
    "\n",
    "monitor = EarlyStopping(monitor='val_loss', min_delta=1e-5, patience=5, verbose=1, mode='auto')\n",
    "checkpointer = ModelCheckpoint(filepath=\"dnn/best_weights.keras\", verbose=0, save_best_only=True) # save best model\n",
    "\n",
    "# batch_size: Integer or None. Number of samples per gradient update. If unspecified, batch_size will default to 32.\n",
    "model.fit(x_train,y_train,validation_data=(x_test,y_test), batch_size= parameters['batch_size'], callbacks=[monitor, checkpointer],verbose=2,epochs=parameters['epochs'])\n",
    "model.load_weights('dnn/best_weights.keras') # load weights from best model\n",
    "\n",
    "# Predict and measure RMSE\n",
    "pred = model.predict(x_test)\n",
    "score = np.sqrt(metrics.mean_squared_error(pred,y_test))\n",
    "print(\"Score (RMSE): {}\".format(score))\n",
    "\n",
    "# Plot the chart\n",
    "chart_regression(pred.flatten(),y_test)"
   ]
  }
 ],
 "metadata": {
  "kernelspec": {
   "display_name": "myenv",
   "language": "python",
   "name": "python3"
  },
  "language_info": {
   "codemirror_mode": {
    "name": "ipython",
    "version": 3
   },
   "file_extension": ".py",
   "mimetype": "text/x-python",
   "name": "python",
   "nbconvert_exporter": "python",
   "pygments_lexer": "ipython3",
   "version": "3.11.5"
  },
  "orig_nbformat": 4,
  "vscode": {
   "interpreter": {
    "hash": "e47b1a34c05c1e3b83a62d7885c9d1b5ef8a0522d3be0182d0a008ec409b2b3d"
   }
  }
 },
 "nbformat": 4,
 "nbformat_minor": 2
}
